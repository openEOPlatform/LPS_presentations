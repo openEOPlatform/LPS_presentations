{
 "cells": [
  {
   "cell_type": "markdown",
   "id": "c760cedb-d627-4c3a-a198-83e71df9eeb9",
   "metadata": {},
   "source": [
    "<img src=\"https://avatars.githubusercontent.com/u/74911464?s=200&v=4\"\n",
    "     alt=\"OpenEO Platform logo\"\n",
    "     style=\"float: left; margin-right: 10px;\" />\n",
    "# Forest canopy cover mapping using openEO Platform\n",
    "## Demo at the ESA Living planet symposium\n",
    "### 27.05.2022\n"
   ]
  },
  {
   "cell_type": "markdown",
   "id": "113e1ca8",
   "metadata": {},
   "source": [
    "## What is openEO Platform?"
   ]
  },
  {
   "cell_type": "markdown",
   "id": "b9481da7",
   "metadata": {},
   "source": [
    "If you want to know more about the project please visit [the openEO Platform website](https://openeo.cloud)\n",
    "The basic structure is illustrated in the following figure:"
   ]
  },
  {
   "cell_type": "markdown",
   "id": "e68bd1a8",
   "metadata": {},
   "source": [
    "![](resources/00_openEOPlatform.png)"
   ]
  },
  {
   "cell_type": "markdown",
   "id": "40e67696",
   "metadata": {},
   "source": [
    "## A use case: Fractional canopy cover"
   ]
  },
  {
   "cell_type": "markdown",
   "id": "9fb7db81",
   "metadata": {},
   "source": [
    "The approach subsequently presented has the objective to derive the fractional canopy cover (FCC) in forest based on Planetscope very-high resolution data as well as Sentinel-2 data. It includes several processing steps involving the calculation and transformation of datacubes, as well as training and prediction of FCC with a random forest regression.\n",
    "\n",
    "This Python notebook utilizes the [OpenEO Python client](https://github.com/Open-EO/openeo-python-client) to construct openEO jobs in form of JSON files sent as http requests to the back-ends. This will be accomplished in three main steps:\n",
    "- Computation of the target variable (FCC) from VHR data cubes\n",
    "- Training of the model\n",
    "- Prediction of the model"
   ]
  },
  {
   "cell_type": "markdown",
   "id": "340ba128",
   "metadata": {},
   "source": [
    "![](resources/02_workflow.png)"
   ]
  },
  {
   "cell_type": "markdown",
   "id": "fd1fc0f6",
   "metadata": {},
   "source": [
    "The work will take place in the boundaries of the EUSALP extent covering approx. 900k sqkm "
   ]
  },
  {
   "cell_type": "markdown",
   "id": "566175f3",
   "metadata": {},
   "source": [
    "![](resources/01_studyarea.png)"
   ]
  },
  {
   "cell_type": "markdown",
   "id": "c431dd6d",
   "metadata": {},
   "source": [
    "## Requirements\n",
    "\n",
    "First the necessary python modules must be loaded"
   ]
  },
  {
   "cell_type": "code",
   "execution_count": 84,
   "id": "db8b5896",
   "metadata": {},
   "outputs": [],
   "source": [
    "import openeo\n",
    "from openeo.processes import median, sd\n",
    "import numpy as np\n",
    "import geopandas as gpd\n",
    "import xarray as xr\n",
    "import matplotlib.pyplot as plt\n",
    "from shapely.geometry.polygon import Polygon\n",
    "import json\n",
    "from openeo.rest.datacube import PGNode, THIS\n",
    "from openeo.rest.job import JobResults, RESTJob"
   ]
  },
  {
   "cell_type": "markdown",
   "id": "af585131",
   "metadata": {},
   "source": [
    "## Connection"
   ]
  },
  {
   "cell_type": "markdown",
   "id": "b65d9538",
   "metadata": {},
   "source": [
    "Connect to the OpenEO back-end using the OpenEO client"
   ]
  },
  {
   "cell_type": "code",
   "execution_count": 81,
   "id": "6fa11ae3",
   "metadata": {},
   "outputs": [],
   "source": [
    "connection = openeo.connect(\"openeo.cloud\")"
   ]
  },
  {
   "cell_type": "markdown",
   "id": "c53e42d5",
   "metadata": {},
   "source": [
    "Authenticate via EGI Check-in (OpenID Connect)"
   ]
  },
  {
   "cell_type": "code",
   "execution_count": 82,
   "id": "d9d6f113",
   "metadata": {},
   "outputs": [
    {
     "name": "stdout",
     "output_type": "stream",
     "text": [
      "Authenticated using refresh token.\n"
     ]
    },
    {
     "data": {
      "text/plain": [
       "<Connection to 'https://openeocloud.vito.be/openeo/1.0.0/' with OidcBearerAuth>"
      ]
     },
     "execution_count": 82,
     "metadata": {},
     "output_type": "execute_result"
    }
   ],
   "source": [
    "connection.authenticate_oidc(\"egi\")\n",
    "connection"
   ]
  },
  {
   "cell_type": "markdown",
   "id": "78cfb813",
   "metadata": {},
   "source": [
    "## 1. Target Variable for regression"
   ]
  },
  {
   "cell_type": "markdown",
   "id": "7d6cdb84",
   "metadata": {},
   "source": [
    "The VHR data from `PLANETSCOPE` - the base for the target variable of our regression - is stored in a dedicated **OpenEO collection**. \n",
    "The `PLANETSCOPE`collection is commercial data that has been acquired specifically for this project. It is not openly accessible to all users."
   ]
  },
  {
   "cell_type": "code",
   "execution_count": 85,
   "id": "ca115c70",
   "metadata": {
    "tags": []
   },
   "outputs": [],
   "source": [
    "connection.describe_collection(\"PLANETSCOPE\")"
   ]
  },
  {
   "cell_type": "markdown",
   "id": "117c3021",
   "metadata": {},
   "source": [
    "It is required to use a specific FeatureFlag denominated **BYOC** (Bring your own collection). It is read from a textfile that cannot be shared publicly.  This means that this notebook is not reproducible for all users without the BYOC code for this data cube. "
   ]
  },
  {
   "cell_type": "code",
   "execution_count": 62,
   "id": "f6ca4bb5",
   "metadata": {},
   "outputs": [],
   "source": [
    "byoc_id_file = \"extdata/byoc.txt\"\n",
    "byoc_id  = open(byoc_id_file,\"r\").read().splitlines()[0]"
   ]
  },
  {
   "cell_type": "markdown",
   "id": "f35112f8",
   "metadata": {},
   "source": [
    "### External Data"
   ]
  },
  {
   "cell_type": "markdown",
   "id": "88c02782",
   "metadata": {},
   "source": [
    "In order to process all the test sites a shapefile is read containing the boundaries of the smaller test areas. We applied a 0.0001° buffer in order to obtain all Pixels in the test sites"
   ]
  },
  {
   "cell_type": "code",
   "execution_count": 7,
   "id": "102f876c",
   "metadata": {
    "scrolled": true
   },
   "outputs": [
    {
     "name": "stderr",
     "output_type": "stream",
     "text": [
      "/tmp/ipykernel_3911/3961052563.py:3: UserWarning: Geometry is in a geographic CRS. Results from 'buffer' are likely incorrect. Use 'GeoSeries.to_crs()' to re-project geometries to a projected CRS before this operation.\n",
      "\n",
      "  aoi_buffered_geometries = aoi_geometries.buffer(0.0001)\n"
     ]
    },
    {
     "data": {
      "text/plain": [
       "0      POLYGON ((7.79031 50.30665, 7.79030 50.30665, ...\n",
       "1      POLYGON ((11.89106 43.92545, 11.89105 43.92545...\n",
       "2      POLYGON ((7.23700 49.18974, 7.23699 49.18974, ...\n",
       "3      POLYGON ((7.51359 49.47334, 7.51358 49.47334, ...\n",
       "4      POLYGON ((16.97810 46.88940, 16.97809 46.88940...\n",
       "                             ...                        \n",
       "145    POLYGON ((9.95005 47.03182, 9.95004 47.03182, ...\n",
       "146    POLYGON ((12.25466 44.82748, 12.25465 44.82748...\n",
       "147    POLYGON ((6.84307 43.52251, 6.84306 43.52251, ...\n",
       "148    POLYGON ((12.08926 44.18149, 12.08925 44.18149...\n",
       "149    POLYGON ((4.69950 43.55341, 4.69949 43.55341, ...\n",
       "Length: 150, dtype: geometry"
      ]
     },
     "execution_count": 7,
     "metadata": {},
     "output_type": "execute_result"
    }
   ],
   "source": [
    "shp_path = \"./resources/SuitableSitesVHR_selected_country.shp\"\n",
    "aoi_geometries = gpd.read_file(shp_path)\n",
    "aoi_buffered_geometries = aoi_geometries.buffer(0.0001)\n",
    "aoi_buffered_geometries"
   ]
  },
  {
   "cell_type": "code",
   "execution_count": 8,
   "id": "0c0dc81e",
   "metadata": {},
   "outputs": [
    {
     "name": "stdout",
     "output_type": "stream",
     "text": [
      "Bounds of the first considered AOI in lat/lon (WGS84):  [ 7.79003931 50.30665141  7.79601901 50.310554  ]\n"
     ]
    }
   ],
   "source": [
    "aois_bounds = aoi_buffered_geometries.bounds.to_numpy()\n",
    "print(\"Bounds of the first considered AOI in lat/lon (WGS84): \",aois_bounds[0])"
   ]
  },
  {
   "cell_type": "markdown",
   "id": "c8ae1af4",
   "metadata": {},
   "source": [
    "And this is how some of the AOIs used for this use case look like:"
   ]
  },
  {
   "cell_type": "markdown",
   "id": "20e172d9",
   "metadata": {},
   "source": [
    "![](resources/03_testsites.png)"
   ]
  },
  {
   "cell_type": "markdown",
   "id": "410c96c2",
   "metadata": {},
   "source": [
    "### Connect to VHR data"
   ]
  },
  {
   "cell_type": "markdown",
   "id": "bee0e3fe",
   "metadata": {},
   "source": [
    "In this exemplary Notebook the target variable is calculated for the first test site in Germany for the year 2018"
   ]
  },
  {
   "cell_type": "code",
   "execution_count": 19,
   "id": "f6cdd68c",
   "metadata": {},
   "outputs": [],
   "source": [
    "aoi0_bounds = aois_bounds[0]\n",
    "year = 2018"
   ]
  },
  {
   "cell_type": "markdown",
   "id": "8ba71357",
   "metadata": {},
   "source": [
    "It might be difficult to use  to properly distinguish between forests and other land cover classes, especially those that also represent vegetation such as crops or grasslands. *Yang et al. (2019)* showed a nice representation of standardized forest NDVI signatures that nicely show the seasonal trend within a year based on different forest types. There are several time intervals of interest when generating a forest mask. Due to the high frequency of revisits by the `PLANETSCOPE` satellites each time interval is represented multiple times with several images. The time intervals of interest are:\n",
    "- **summer_time**: Time of the maximum productivity of vegetation from mid April to mid September\n",
    "- **winter_time**: Time of the minimum productivity of vegetation from mid November to mid February\n",
    "- **annual_time**: The whole year range\n",
    "- **total_time**: Takes into account the **annual_year** as well as some shoulder values in Winter (until mid-february the following year)"
   ]
  },
  {
   "cell_type": "code",
   "execution_count": 20,
   "id": "50e142f1",
   "metadata": {},
   "outputs": [],
   "source": [
    "summer_time =  [np.datetime64(str(year)+\"-04-15\"),np.datetime64(str(year)+\"-09-15\")]\n",
    "winter_time =  [np.datetime64(str(year)+\"-11-15\"),np.datetime64(str(year+1)+\"-02-15\")]\n",
    "annual_time =  [np.datetime64(str(year)+\"-01-01\"),np.datetime64(str(year)+\"-12-31\")]\n",
    "total_time  =  [np.datetime64(str(year)+\"-01-01\"),np.datetime64(str(year+1)+\"-02-15\")]"
   ]
  },
  {
   "cell_type": "markdown",
   "id": "5968c664",
   "metadata": {},
   "source": [
    "The `PLANETSCOPE` data is loaded primarily for **total_time** before the NDVI is calculated. Afterwards a clear-sky mask is applied to exclude all Pixel that are altered by clouds, haze and other atmospheric effects."
   ]
  },
  {
   "cell_type": "code",
   "execution_count": 21,
   "id": "83d02172",
   "metadata": {},
   "outputs": [],
   "source": [
    "plnt = connection.load_collection(\n",
    "    collection_id  = \"PLANETSCOPE\",\n",
    "    spatial_extent = {\"west\": aoi0_bounds[0], \n",
    "                      \"south\": aoi0_bounds[1], \n",
    "                      \"east\": aoi0_bounds[2], \n",
    "                      \"north\": aoi0_bounds[3]},\n",
    "    temporal_extent= [str(total_time[0]), str(total_time[1])]\n",
    "    )\n",
    "plnt._pg.arguments['featureflags'] = {'byoc_collection_id': byoc_id}\n",
    "\n",
    "plnt_ndvi = plnt.ndvi(nir=\"B4\",red=\"B3\")\n",
    "mask      = plnt.band(\"UDM2_Clear\").apply(lambda x: x.neq(1))\n",
    "plnt_ndvi_msk = plnt_ndvi.mask(mask=mask)"
   ]
  },
  {
   "cell_type": "markdown",
   "id": "5a37ede6",
   "metadata": {},
   "source": [
    "### Create Seasonal masks"
   ]
  },
  {
   "cell_type": "markdown",
   "id": "81f4231f",
   "metadata": {},
   "source": [
    "In this step the **summer_time** is applied to the data using the `filter_temporal` process. For analysing the whole summer period based on `median` and `sd` metrics, the `reduce_dimension` process is used on the *t* dimension.\n",
    "\n",
    "We calculate two indicators important for the mask generation:\n",
    "- **s_msk_med_hig**: Median summer NDVI above 0.6\n",
    "- **s_msk_sd_low**: Summer NDVI standard deviation below 0.1"
   ]
  },
  {
   "cell_type": "code",
   "execution_count": 22,
   "id": "99c1744f",
   "metadata": {},
   "outputs": [],
   "source": [
    "summer_time =  [np.datetime64(str(year)+\"-04-15\"),np.datetime64(str(year)+\"-09-15\")]\n",
    "plnt_summer =  plnt_ndvi_msk.filter_temporal(extent= [str(summer_time[0]), str(summer_time[1])])\n",
    "\n",
    "s_msk_med     = plnt_summer.reduce_dimension(dimension='t',reducer=median)\n",
    "s_msk_med_hig = s_msk_med > 0.6\n",
    "\n",
    "s_msk_sd      = plnt_summer.reduce_dimension(dimension='t',reducer=sd)\n",
    "s_msk_sd_low  = s_msk_sd < 0.1"
   ]
  },
  {
   "cell_type": "markdown",
   "id": "b1e31f9c",
   "metadata": {},
   "source": [
    "In this step the **winter_time** is applied to the data using the `filter_temporal` process. For analysing the whole summer period based on `median` metric, the `reduce_dimension` process is used on the *t* dimension.\n",
    "\n",
    "Here we calculate two indicators important for the mask generation:\n",
    "- **w_msk_med_hig**: Median summer NDVI above 0.6\n",
    "- **w_msk_med_low**: Median summer NDVI between 0 and 0.4"
   ]
  },
  {
   "cell_type": "code",
   "execution_count": 23,
   "id": "9d2a0e11",
   "metadata": {},
   "outputs": [],
   "source": [
    "winter_time =  [np.datetime64(str(year)+\"-11-15\"),np.datetime64(str(year+1)+\"-02-15\")]\n",
    "plnt_winter =  plnt_ndvi_msk.filter_temporal(extent= [str(winter_time[0]), str(winter_time[1])])\n",
    "\n",
    "w_msk_med     = plnt_winter.reduce_dimension(dimension='t',reducer=median)\n",
    "w_msk_med_hig = w_msk_med > 0.6\n",
    "\n",
    "w_low_upper   = w_msk_med < 0.4\n",
    "w_low_lower   = w_msk_med > 0\n",
    "w_msk_med_low = w_low_upper * w_low_lower"
   ]
  },
  {
   "cell_type": "markdown",
   "id": "c59110a1",
   "metadata": {},
   "source": [
    "In this step the **year_time** is applied to the data using the `filter_temporal` process. For analysing the whole summer period based on `median` metric, the `reduce_dimension` process is used on the *t* dimension.\n",
    "\n",
    "Here we calculate two indicators important for the mask generation:\n",
    "- **y_msk_med_hig**: Median yearly NDVI above 0.6"
   ]
  },
  {
   "cell_type": "code",
   "execution_count": 24,
   "id": "c6cc8446",
   "metadata": {},
   "outputs": [],
   "source": [
    "annual_time =  [np.datetime64(str(year)+\"-01-01\"),np.datetime64(str(year)+\"-12-31\")]\n",
    "plnt_year   =  plnt_ndvi_msk.filter_temporal(extent= [str(annual_time[0]), str(annual_time[1])])\n",
    "\n",
    "y_msk_med     = plnt_year.reduce_dimension(dimension='t',reducer=median)\n",
    "y_msk_med_hig = y_msk_med > 0.6"
   ]
  },
  {
   "cell_type": "markdown",
   "id": "3bd773ad",
   "metadata": {
    "tags": []
   },
   "source": [
    "### Create thematic masks"
   ]
  },
  {
   "cell_type": "markdown",
   "id": "c349c591",
   "metadata": {},
   "source": [
    "Based on the **seasonal_masks** also thematic ones are created:\n",
    "\n",
    "- **f_evergreen_mask**: A mask with high summer and high winter values typically for evergreen (conifer) forests\n",
    "- **f_deciduous_mask**: A mask with high summer and very low winter values typically hinting at deciduous forests\n",
    "- **f_mixed_mask**: Mixed forests typically have a high yearly and high summer value but are the most difficult to spot. This mask sustains the other to exlude other vegetation types"
   ]
  },
  {
   "cell_type": "code",
   "execution_count": 25,
   "id": "1e608076",
   "metadata": {},
   "outputs": [],
   "source": [
    "f_evergreen_mask  = s_msk_med_hig * w_msk_med_hig\n",
    "f_deciduous_mask  = s_msk_med_hig * w_msk_med_low\n",
    "f_mixed_mask      = y_msk_med_hig * s_msk_med_hig"
   ]
  },
  {
   "cell_type": "markdown",
   "id": "9f544378",
   "metadata": {},
   "source": [
    "Finally the masks are being combined to a final forest canopy cover mask with th following criteria:\n",
    "- **cmask_forest**: Estimates whether it is either an evergreen, deciduous forest or mixed (or multiple of those)\n",
    "- **cmask_forest_error**: Excludes Pixel with a high standard deviation in summer. These are often hinting at management processes typical for crops and grassland vegetation"
   ]
  },
  {
   "cell_type": "code",
   "execution_count": 26,
   "id": "e412d68f",
   "metadata": {},
   "outputs": [],
   "source": [
    "cmask_forest = f_evergreen_mask + f_deciduous_mask + f_mixed_mask\n",
    "cmask_forest = cmask_forest > 0\n",
    "cmask_forest_sd = cmask_forest * s_msk_sd_low"
   ]
  },
  {
   "cell_type": "markdown",
   "id": "0334011a",
   "metadata": {
    "tags": []
   },
   "source": [
    "### Resample"
   ]
  },
  {
   "cell_type": "markdown",
   "id": "0a80e2e1",
   "metadata": {},
   "source": [
    "The target variable will be resampled to 60m. The output pixels will be the result of the average over 20 x 20 (400) Planet pixels, since the Planet pixel size is 3 meters.\n",
    "\n",
    "The 60m x 60m unit area corresponds to 6x6 (36) Sentinel-2 pixels with 10 meters resolution and 3x3 (9) Sentinel-1 pixels with 20m resolution.\n",
    "\n",
    "This allows for a more stable estimation of the target variable during the random Forest regression"
   ]
  },
  {
   "cell_type": "code",
   "execution_count": 27,
   "id": "77a628aa",
   "metadata": {},
   "outputs": [],
   "source": [
    "test_res = cmask_forest_sd.resample_spatial(resolution=60,method=\"average\")\n",
    "res_save = test_res.save_result(format=\"NetCDF\")"
   ]
  },
  {
   "cell_type": "code",
   "execution_count": 22,
   "id": "657949d3",
   "metadata": {},
   "outputs": [],
   "source": [
    "#job_vhr = res_save.create_job(title = \"VH0_result_Resample60_average_lps\")\n",
    "#job_vhr.start_job()"
   ]
  },
  {
   "cell_type": "code",
   "execution_count": 86,
   "id": "902e174a",
   "metadata": {},
   "outputs": [],
   "source": [
    "job_vhr_id = \"vito-17416247-bedb-44d8-8a95-99d633ad0470\"\n",
    "#describe_job(job_vhr_id)\n",
    "#RESTJob(job_vhr_id,connection)"
   ]
  },
  {
   "cell_type": "code",
   "execution_count": null,
   "id": "b0f836da-cc06-4761-9720-5695a7e14b98",
   "metadata": {},
   "outputs": [],
   "source": [
    "results = job.get_results()\n",
    "results.download_files(\"./resources/UC8/canopy_cover_masks/AOI0/\")"
   ]
  },
  {
   "cell_type": "markdown",
   "id": "24bcb9d7",
   "metadata": {},
   "source": [
    "Finally, the mask that we have generated exemplary for the first AOI. In the following picture, a comparison of the original image, forest mask and the resampled mask is shown:\n",
    "![](resources/04_fccmask.png)"
   ]
  },
  {
   "cell_type": "markdown",
   "id": "012c56cc",
   "metadata": {},
   "source": [
    "### Conversion to Vector"
   ]
  },
  {
   "cell_type": "markdown",
   "id": "cced8088",
   "metadata": {},
   "source": [
    "After this last step the NetCDF containing the resampled information about the fractional canopy cover is converted to a vector-based GeoJSON file where each pixel is represented by a different Polygon. This allows to use it as Input file for the extracting the training samples needed for the random Forest regression"
   ]
  },
  {
   "cell_type": "markdown",
   "id": "63a8ffce",
   "metadata": {},
   "source": [
    "## 2. Training of the model"
   ]
  },
  {
   "cell_type": "markdown",
   "id": "fda69009",
   "metadata": {},
   "source": [
    "In a first step we have to connect to a different OpenEO environment. As some functionalities are currently under heavy development they are not yet deployed on the live back-end. This will occur soon after the Living planet symposium when all the remaining uncertainties were tackled"
   ]
  },
  {
   "cell_type": "code",
   "execution_count": 65,
   "id": "2b7b793c",
   "metadata": {},
   "outputs": [
    {
     "name": "stdout",
     "output_type": "stream",
     "text": [
      "To authenticate: visit https://aai.egi.eu/oidc/device and enter the user code 'DT1B5g'.\n",
      "Authorized successfully.\n",
      "Authenticated using device code flow.\n"
     ]
    },
    {
     "data": {
      "text/plain": [
       "<Connection to 'https://openeo-dev.eodc.eu/v1.0' with OidcBearerAuth>"
      ]
     },
     "execution_count": 65,
     "metadata": {},
     "output_type": "execute_result"
    }
   ],
   "source": [
    "conn = openeo.connect(\"https://openeo-dev.eodc.eu/v1.0\")\n",
    "#conn = openeo.connect(\"https://openeo.eodc.eu/v1.0\")\n",
    "conn.authenticate_oidc(\"egi\")\n",
    "#conn = connection\n",
    "conn"
   ]
  },
  {
   "cell_type": "markdown",
   "id": "57b1eb8d",
   "metadata": {},
   "source": [
    "### Target and Predictors"
   ]
  },
  {
   "cell_type": "markdown",
   "id": "43ced6b7",
   "metadata": {},
   "source": [
    "The total area covers around 150 AOIs. As the aggregate spatial process is computationally intensive, we distributed the 150 AOIs into 5 jobs in order to create 5 vector cubes using the aggregate spatial process. Afterwards we can merge the 5 vector cubes together. s\n",
    "At the moment this process is still in development to allow a user to bypass the splitting of the data. Currently we are working on an efficient way to tile the vectors similarly to the data cubes in order to reduce the computation for single jobs. In future there is no need to create multiple jobs for the aggregate spatial operation"
   ]
  },
  {
   "cell_type": "code",
   "execution_count": 78,
   "id": "9dd630e3",
   "metadata": {},
   "outputs": [],
   "source": [
    "import numpy as np\n",
    "\n",
    "jobgraphs  =[]\n",
    "index = [list(np.arange(0,30)), list(np.arange(30,60)), list(np.arange(60,90)), list(np.arange(90,120)), list(np.arange(120,150))]\n",
    "no_index = [37, 78, 82]\n",
    "\n",
    "for l in index:\n",
    "    merged_data = None\n",
    "    for i in l:\n",
    "        aoi_URL = f\"https://raw.githubusercontent.com/openEOPlatform/UC8_auxdata/master/vector_data/target_canopy_cover_60m_equi7/target_canopy_cover_equi7_60m_AOI{i}.geojson\"\n",
    "        if i not in no_index:\n",
    "            aoi_gdf = gpd.read_file(aoi_URL)\n",
    "            aoi_gdf = aoi_gdf.to_crs('EPSG:4326')\n",
    "            aoi_bounds = aoi_gdf.total_bounds\n",
    "\n",
    "            collection      = \"boa_sentinel_2\"\n",
    "            spatial_extent  = {\"east\": aoi_bounds[2],\n",
    "                               \"north\": aoi_bounds[3],\n",
    "                               \"south\": aoi_bounds[1],\n",
    "                               \"west\": aoi_bounds[0]}\n",
    "            temporal_extent = [\"2018-05-01\", \"2018-09-01\"]\n",
    "            bands           = [\"B02\",\"B03\",\"B04\",\"B05\",\"B06\",\"B07\",\"B08\",\"B11\",\"B12\"]\n",
    "            # bands           = [\"band_1\",\"band_2\",\"band_3\",\"band_4\",\"band_7\",\"band_9\",\"band_10\"]\n",
    "\n",
    "\n",
    "            boa_sentinel_2_cube = conn.load_collection(\n",
    "                collection_id   = collection,\n",
    "                spatial_extent  = spatial_extent,\n",
    "                temporal_extent = temporal_extent,\n",
    "                bands = bands\n",
    "                )\n",
    "\n",
    "            boa_sentinel_2_cube_reduced = boa_sentinel_2_cube.reduce_dimension(dimension=\"t\",reducer=median)\n",
    "\n",
    "            aoi_vector_cube = PGNode(\"load_vector_cube\",{\"URL\":aoi_URL})\n",
    "            sentinel_2_predictors = boa_sentinel_2_cube_reduced.process(\"aggregate_spatial\",{\"data\":THIS,\"target_dimension\":\"result\",\"geometries\":aoi_vector_cube,\"reducer\":\"mean\"})\n",
    "            full_training_data_cube = sentinel_2_predictors.process(\"merge_cubes\",{\"cube1\":THIS,\"cube2\":aoi_vector_cube})\n",
    "            if merged_data is None:\n",
    "                merged_data = full_training_data_cube\n",
    "            else:\n",
    "                merged_data = merged_data.process(\"merge_cubes\",{\"cube1\":THIS,\"cube2\":full_training_data_cube})\n",
    "\n",
    "    save_vector_cube = merged_data.process(\"save_vector_cube\",{\"data\":THIS})\n",
    "    jobgraphs.append(save_vector_cube)"
   ]
  },
  {
   "cell_type": "markdown",
   "id": "ed469ca2",
   "metadata": {},
   "source": [
    "Afterwards we can first create and then start the Jobs iteratively"
   ]
  },
  {
   "cell_type": "code",
   "execution_count": null,
   "id": "f2c672fc",
   "metadata": {},
   "outputs": [],
   "source": [
    "job_ids = []\n",
    "for i,graph in enumerate(jobgraphs):\n",
    "    job_raw = graph.create_job(title=f\"UC8_AOIbatch_{i}_vector_cube\")\n",
    "    job_id  = job_raw.job_id\n",
    "    job_ids.append(job_id)\n",
    "    print(\"Batch job with id: \",jb, ' is ',job_description['status'])"
   ]
  },
  {
   "cell_type": "code",
   "execution_count": 27,
   "id": "37a5c41f",
   "metadata": {},
   "outputs": [
    {
     "name": "stdout",
     "output_type": "stream",
     "text": [
      "Job  jb-a55da16f-dc17-4e02-b54b-f902df3a3c40  has been started. \n",
      "Job  jb-34adbfac-d973-4c41-8278-b5306a881642  has been started. \n",
      "Job  jb-de4b811b-e8f9-4492-bc7f-5e5bdc4757b0  has been started. \n",
      "Job  jb-71c38396-014f-4ffc-b40c-6e6bbbd68e2f  has been started. \n",
      "Job  jb-399de5cd-3ecc-43ba-9978-612295c16e8f  has been started. \n"
     ]
    }
   ],
   "source": [
    "from time import sleep\n",
    "for jb in job_ids:\n",
    "    job = conn.job(jb)\n",
    "    job.start_job()\n",
    "    print('Job ', jb, ' has been started. ')\n",
    "    sleep(120)"
   ]
  },
  {
   "cell_type": "markdown",
   "id": "f58eee48",
   "metadata": {},
   "source": [
    "And check the status"
   ]
  },
  {
   "cell_type": "code",
   "execution_count": 28,
   "id": "7cfed2e2",
   "metadata": {},
   "outputs": [
    {
     "name": "stdout",
     "output_type": "stream",
     "text": [
      "Batch job with id:  jb-a55da16f-dc17-4e02-b54b-f902df3a3c40  is  finished\n",
      "Batch job with id:  jb-34adbfac-d973-4c41-8278-b5306a881642  is  finished\n",
      "Batch job with id:  jb-de4b811b-e8f9-4492-bc7f-5e5bdc4757b0  is  finished\n",
      "Batch job with id:  jb-71c38396-014f-4ffc-b40c-6e6bbbd68e2f  is  finished\n",
      "Batch job with id:  jb-399de5cd-3ecc-43ba-9978-612295c16e8f  is  finished\n"
     ]
    }
   ],
   "source": [
    "for jb in job_ids:\n",
    "    job = conn.job(jb)\n",
    "    job_description = job.describe_job()\n",
    "    print(\"Batch job with id: \",jb, ' is ',job_description['status'])"
   ]
  },
  {
   "cell_type": "markdown",
   "id": "34b9fccd",
   "metadata": {},
   "source": [
    "Each of the jobs include a wide range of different openEO processes that are being called sequentially. At the moment the spatial aggregation of one AOI is done in less than a minute. In future - when all different Jobs are unified in a single one and a tiling will be applied - the aggregation of raster information in vectors is going to be much faster.\n",
    "Now we can take a glimpse at one Job"
   ]
  },
  {
   "cell_type": "code",
   "execution_count": 73,
   "id": "e8b979f9",
   "metadata": {},
   "outputs": [
    {
     "data": {
      "text/html": [
       "\n",
       "    <script>\n",
       "    if (!window.customElements || !window.customElements.get('openeo-job')) {\n",
       "        var el = document.createElement('script');\n",
       "        el.src = \"https://cdn.jsdelivr.net/npm/@openeo/vue-components@2/assets/openeo.min.js\";\n",
       "        document.head.appendChild(el);\n",
       "\n",
       "        var font = document.createElement('font');\n",
       "        font.as = \"font\";\n",
       "        font.type = \"font/woff2\";\n",
       "        font.crossOrigin = true;\n",
       "        font.href = \"https://use.fontawesome.com/releases/v5.13.0/webfonts/fa-solid-900.woff2\"\n",
       "        document.head.appendChild(font);\n",
       "    }\n",
       "    </script>\n",
       "    <openeo-job>\n",
       "        <script type=\"application/json\">{\"currency\": \"EUR\", \"job\": {\"created\": \"2022-05-18T10:44:31Z\", \"id\": \"jb-a55da16f-dc17-4e02-b54b-f902df3a3c40\", \"process\": {\"deprecated\": false, \"exceptions\": {}, \"experimental\": false, \"id\": \"YnmEyB6N5McFkrpu\", \"process_graph\": {\"aggregatespatial1\": {\"arguments\": {\"data\": {\"from_node\": \"reducedimension1\"}, \"geometries\": {\"from_node\": \"loadvectorcube1\"}, \"reducer\": \"mean\", \"target_dimension\": \"result\"}, \"process_id\": \"aggregate_spatial\"}, \"aggregatespatial10\": {\"arguments\": {\"data\": {\"from_node\": \"reducedimension10\"}, \"geometries\": {\"from_node\": \"loadvectorcube10\"}, \"reducer\": \"mean\", \"target_dimension\": \"result\"}, \"process_id\": \"aggregate_spatial\"}, \"aggregatespatial11\": {\"arguments\": {\"data\": {\"from_node\": \"reducedimension11\"}, \"geometries\": {\"from_node\": \"loadvectorcube11\"}, \"reducer\": \"mean\", \"target_dimension\": \"result\"}, \"process_id\": \"aggregate_spatial\"}, \"aggregatespatial12\": {\"arguments\": {\"data\": {\"from_node\": \"reducedimension12\"}, \"geometries\": {\"from_node\": \"loadvectorcube12\"}, \"reducer\": \"mean\", \"target_dimension\": \"result\"}, \"process_id\": \"aggregate_spatial\"}, \"aggregatespatial13\": {\"arguments\": {\"data\": {\"from_node\": \"reducedimension13\"}, \"geometries\": {\"from_node\": \"loadvectorcube13\"}, \"reducer\": \"mean\", \"target_dimension\": \"result\"}, \"process_id\": \"aggregate_spatial\"}, \"aggregatespatial14\": {\"arguments\": {\"data\": {\"from_node\": \"reducedimension14\"}, \"geometries\": {\"from_node\": \"loadvectorcube14\"}, \"reducer\": \"mean\", \"target_dimension\": \"result\"}, \"process_id\": \"aggregate_spatial\"}, \"aggregatespatial15\": {\"arguments\": {\"data\": {\"from_node\": \"reducedimension15\"}, \"geometries\": {\"from_node\": \"loadvectorcube15\"}, \"reducer\": \"mean\", \"target_dimension\": \"result\"}, \"process_id\": \"aggregate_spatial\"}, \"aggregatespatial16\": {\"arguments\": {\"data\": {\"from_node\": \"reducedimension16\"}, \"geometries\": {\"from_node\": \"loadvectorcube16\"}, \"reducer\": \"mean\", \"target_dimension\": \"result\"}, \"process_id\": \"aggregate_spatial\"}, \"aggregatespatial17\": {\"arguments\": {\"data\": {\"from_node\": \"reducedimension17\"}, \"geometries\": {\"from_node\": \"loadvectorcube17\"}, \"reducer\": \"mean\", \"target_dimension\": \"result\"}, \"process_id\": \"aggregate_spatial\"}, \"aggregatespatial18\": {\"arguments\": {\"data\": {\"from_node\": \"reducedimension18\"}, \"geometries\": {\"from_node\": \"loadvectorcube18\"}, \"reducer\": \"mean\", \"target_dimension\": \"result\"}, \"process_id\": \"aggregate_spatial\"}, \"aggregatespatial19\": {\"arguments\": {\"data\": {\"from_node\": \"reducedimension19\"}, \"geometries\": {\"from_node\": \"loadvectorcube19\"}, \"reducer\": \"mean\", \"target_dimension\": \"result\"}, \"process_id\": \"aggregate_spatial\"}, \"aggregatespatial2\": {\"arguments\": {\"data\": {\"from_node\": \"reducedimension2\"}, \"geometries\": {\"from_node\": \"loadvectorcube2\"}, \"reducer\": \"mean\", \"target_dimension\": \"result\"}, \"process_id\": \"aggregate_spatial\"}, \"aggregatespatial20\": {\"arguments\": {\"data\": {\"from_node\": \"reducedimension20\"}, \"geometries\": {\"from_node\": \"loadvectorcube20\"}, \"reducer\": \"mean\", \"target_dimension\": \"result\"}, \"process_id\": \"aggregate_spatial\"}, \"aggregatespatial21\": {\"arguments\": {\"data\": {\"from_node\": \"reducedimension21\"}, \"geometries\": {\"from_node\": \"loadvectorcube21\"}, \"reducer\": \"mean\", \"target_dimension\": \"result\"}, \"process_id\": \"aggregate_spatial\"}, \"aggregatespatial22\": {\"arguments\": {\"data\": {\"from_node\": \"reducedimension22\"}, \"geometries\": {\"from_node\": \"loadvectorcube22\"}, \"reducer\": \"mean\", \"target_dimension\": \"result\"}, \"process_id\": \"aggregate_spatial\"}, \"aggregatespatial23\": {\"arguments\": {\"data\": {\"from_node\": \"reducedimension23\"}, \"geometries\": {\"from_node\": \"loadvectorcube23\"}, \"reducer\": \"mean\", \"target_dimension\": \"result\"}, \"process_id\": \"aggregate_spatial\"}, \"aggregatespatial24\": {\"arguments\": {\"data\": {\"from_node\": \"reducedimension24\"}, \"geometries\": {\"from_node\": \"loadvectorcube24\"}, \"reducer\": \"mean\", \"target_dimension\": \"result\"}, \"process_id\": \"aggregate_spatial\"}, \"aggregatespatial25\": {\"arguments\": {\"data\": {\"from_node\": \"reducedimension25\"}, \"geometries\": {\"from_node\": \"loadvectorcube25\"}, \"reducer\": \"mean\", \"target_dimension\": \"result\"}, \"process_id\": \"aggregate_spatial\"}, \"aggregatespatial26\": {\"arguments\": {\"data\": {\"from_node\": \"reducedimension26\"}, \"geometries\": {\"from_node\": \"loadvectorcube26\"}, \"reducer\": \"mean\", \"target_dimension\": \"result\"}, \"process_id\": \"aggregate_spatial\"}, \"aggregatespatial27\": {\"arguments\": {\"data\": {\"from_node\": \"reducedimension27\"}, \"geometries\": {\"from_node\": \"loadvectorcube27\"}, \"reducer\": \"mean\", \"target_dimension\": \"result\"}, \"process_id\": \"aggregate_spatial\"}, \"aggregatespatial28\": {\"arguments\": {\"data\": {\"from_node\": \"reducedimension28\"}, \"geometries\": {\"from_node\": \"loadvectorcube28\"}, \"reducer\": \"mean\", \"target_dimension\": \"result\"}, \"process_id\": \"aggregate_spatial\"}, \"aggregatespatial29\": {\"arguments\": {\"data\": {\"from_node\": \"reducedimension29\"}, \"geometries\": {\"from_node\": \"loadvectorcube29\"}, \"reducer\": \"mean\", \"target_dimension\": \"result\"}, \"process_id\": \"aggregate_spatial\"}, \"aggregatespatial3\": {\"arguments\": {\"data\": {\"from_node\": \"reducedimension3\"}, \"geometries\": {\"from_node\": \"loadvectorcube3\"}, \"reducer\": \"mean\", \"target_dimension\": \"result\"}, \"process_id\": \"aggregate_spatial\"}, \"aggregatespatial30\": {\"arguments\": {\"data\": {\"from_node\": \"reducedimension30\"}, \"geometries\": {\"from_node\": \"loadvectorcube30\"}, \"reducer\": \"mean\", \"target_dimension\": \"result\"}, \"process_id\": \"aggregate_spatial\"}, \"aggregatespatial4\": {\"arguments\": {\"data\": {\"from_node\": \"reducedimension4\"}, \"geometries\": {\"from_node\": \"loadvectorcube4\"}, \"reducer\": \"mean\", \"target_dimension\": \"result\"}, \"process_id\": \"aggregate_spatial\"}, \"aggregatespatial5\": {\"arguments\": {\"data\": {\"from_node\": \"reducedimension5\"}, \"geometries\": {\"from_node\": \"loadvectorcube5\"}, \"reducer\": \"mean\", \"target_dimension\": \"result\"}, \"process_id\": \"aggregate_spatial\"}, \"aggregatespatial6\": {\"arguments\": {\"data\": {\"from_node\": \"reducedimension6\"}, \"geometries\": {\"from_node\": \"loadvectorcube6\"}, \"reducer\": \"mean\", \"target_dimension\": \"result\"}, \"process_id\": \"aggregate_spatial\"}, \"aggregatespatial7\": {\"arguments\": {\"data\": {\"from_node\": \"reducedimension7\"}, \"geometries\": {\"from_node\": \"loadvectorcube7\"}, \"reducer\": \"mean\", \"target_dimension\": \"result\"}, \"process_id\": \"aggregate_spatial\"}, \"aggregatespatial8\": {\"arguments\": {\"data\": {\"from_node\": \"reducedimension8\"}, \"geometries\": {\"from_node\": \"loadvectorcube8\"}, \"reducer\": \"mean\", \"target_dimension\": \"result\"}, \"process_id\": \"aggregate_spatial\"}, \"aggregatespatial9\": {\"arguments\": {\"data\": {\"from_node\": \"reducedimension9\"}, \"geometries\": {\"from_node\": \"loadvectorcube9\"}, \"reducer\": \"mean\", \"target_dimension\": \"result\"}, \"process_id\": \"aggregate_spatial\"}, \"loadcollection1\": {\"arguments\": {\"bands\": [\"band_1\", \"band_2\", \"band_3\", \"band_4\", \"band_7\", \"band_9\", \"band_10\"], \"id\": \"boa_sentinel_2\", \"spatial_extent\": {\"east\": 7.796370225162597, \"north\": 50.31070745221886, \"south\": 50.30661178063619, \"west\": 7.789700246811357}, \"temporal_extent\": [\"2018-05-01\", \"2018-09-01\"]}, \"process_id\": \"load_collection\"}, \"loadcollection10\": {\"arguments\": {\"bands\": [\"band_1\", \"band_2\", \"band_3\", \"band_4\", \"band_7\", \"band_9\", \"band_10\"], \"id\": \"boa_sentinel_2\", \"spatial_extent\": {\"east\": 6.04053515640703, \"north\": 47.813903470396625, \"south\": 47.80973567085784, \"west\": 6.034151711304158}, \"temporal_extent\": [\"2018-05-01\", \"2018-09-01\"]}, \"process_id\": \"load_collection\"}, \"loadcollection11\": {\"arguments\": {\"bands\": [\"band_1\", \"band_2\", \"band_3\", \"band_4\", \"band_7\", \"band_9\", \"band_10\"], \"id\": \"boa_sentinel_2\", \"spatial_extent\": {\"east\": 5.555758838641069, \"north\": 50.105147412188295, \"south\": 50.100703512959434, \"west\": 5.548849750965061}, \"temporal_extent\": [\"2018-05-01\", \"2018-09-01\"]}, \"process_id\": \"load_collection\"}, \"loadcollection12\": {\"arguments\": {\"bands\": [\"band_1\", \"band_2\", \"band_3\", \"band_4\", \"band_7\", \"band_9\", \"band_10\"], \"id\": \"boa_sentinel_2\", \"spatial_extent\": {\"east\": 4.507979991175076, \"north\": 47.38709484995658, \"south\": 47.38253471373323, \"west\": 4.501444946394051}, \"temporal_extent\": [\"2018-05-01\", \"2018-09-01\"]}, \"process_id\": \"load_collection\"}, \"loadcollection13\": {\"arguments\": {\"bands\": [\"band_1\", \"band_2\", \"band_3\", \"band_4\", \"band_7\", \"band_9\", \"band_10\"], \"id\": \"boa_sentinel_2\", \"spatial_extent\": {\"east\": 9.391647740678827, \"north\": 49.413147648473306, \"south\": 49.4090321159637, \"west\": 9.385168141396155}, \"temporal_extent\": [\"2018-05-01\", \"2018-09-01\"]}, \"process_id\": \"load_collection\"}, \"loadcollection14\": {\"arguments\": {\"bands\": [\"band_1\", \"band_2\", \"band_3\", \"band_4\", \"band_7\", \"band_9\", \"band_10\"], \"id\": \"boa_sentinel_2\", \"spatial_extent\": {\"east\": 14.584489475911274, \"north\": 45.92507729277806, \"south\": 45.92100626799145, \"west\": 14.57846024853877}, \"temporal_extent\": [\"2018-05-01\", \"2018-09-01\"]}, \"process_id\": \"load_collection\"}, \"loadcollection15\": {\"arguments\": {\"bands\": [\"band_1\", \"band_2\", \"band_3\", \"band_4\", \"band_7\", \"band_9\", \"band_10\"], \"id\": \"boa_sentinel_2\", \"spatial_extent\": {\"east\": 9.982987168145032, \"north\": 44.28955273307368, \"south\": 44.285449739064504, \"west\": 9.97709805761179}, \"temporal_extent\": [\"2018-05-01\", \"2018-09-01\"]}, \"process_id\": \"load_collection\"}, \"loadcollection16\": {\"arguments\": {\"bands\": [\"band_1\", \"band_2\", \"band_3\", \"band_4\", \"band_7\", \"band_9\", \"band_10\"], \"id\": \"boa_sentinel_2\", \"spatial_extent\": {\"east\": 4.931618129937828, \"north\": 44.69675114014141, \"south\": 44.6921915985547, \"west\": 4.9254005690684375}, \"temporal_extent\": [\"2018-05-01\", \"2018-09-01\"]}, \"process_id\": \"load_collection\"}, \"loadcollection17\": {\"arguments\": {\"bands\": [\"band_1\", \"band_2\", \"band_3\", \"band_4\", \"band_7\", \"band_9\", \"band_10\"], \"id\": \"boa_sentinel_2\", \"spatial_extent\": {\"east\": 7.300698708442809, \"north\": 47.528031986660245, \"south\": 47.52388473740563, \"west\": 7.29439564242935}, \"temporal_extent\": [\"2018-05-01\", \"2018-09-01\"]}, \"process_id\": \"load_collection\"}, \"loadcollection18\": {\"arguments\": {\"bands\": [\"band_1\", \"band_2\", \"band_3\", \"band_4\", \"band_7\", \"band_9\", \"band_10\"], \"id\": \"boa_sentinel_2\", \"spatial_extent\": {\"east\": 8.709078298984892, \"north\": 49.9973342769632, \"south\": 49.993207300932255, \"west\": 8.702532946766505}, \"temporal_extent\": [\"2018-05-01\", \"2018-09-01\"]}, \"process_id\": \"load_collection\"}, \"loadcollection19\": {\"arguments\": {\"bands\": [\"band_1\", \"band_2\", \"band_3\", \"band_4\", \"band_7\", \"band_9\", \"band_10\"], \"id\": \"boa_sentinel_2\", \"spatial_extent\": {\"east\": 6.575505103707034, \"north\": 45.86748153233258, \"south\": 45.86332484363471, \"west\": 6.569384744586005}, \"temporal_extent\": [\"2018-05-01\", \"2018-09-01\"]}, \"process_id\": \"load_collection\"}, \"loadcollection2\": {\"arguments\": {\"bands\": [\"band_1\", \"band_2\", \"band_3\", \"band_4\", \"band_7\", \"band_9\", \"band_10\"], \"id\": \"boa_sentinel_2\", \"spatial_extent\": {\"east\": 11.896578821675314, \"north\": 43.92941593326578, \"south\": 43.9253472340129, \"west\": 11.890701249987536}, \"temporal_extent\": [\"2018-05-01\", \"2018-09-01\"]}, \"process_id\": \"load_collection\"}, \"loadcollection20\": {\"arguments\": {\"bands\": [\"band_1\", \"band_2\", \"band_3\", \"band_4\", \"band_7\", \"band_9\", \"band_10\"], \"id\": \"boa_sentinel_2\", \"spatial_extent\": {\"east\": 9.046584703208815, \"north\": 50.42509977483067, \"south\": 50.42097803643467, \"west\": 9.039946458679278}, \"temporal_extent\": [\"2018-05-01\", \"2018-09-01\"]}, \"process_id\": \"load_collection\"}, \"loadcollection21\": {\"arguments\": {\"bands\": [\"band_1\", \"band_2\", \"band_3\", \"band_4\", \"band_7\", \"band_9\", \"band_10\"], \"id\": \"boa_sentinel_2\", \"spatial_extent\": {\"east\": 15.9621148091241, \"north\": 46.8463155748966, \"south\": 46.842204846135935, \"west\": 15.955953329462682}, \"temporal_extent\": [\"2018-05-01\", \"2018-09-01\"]}, \"process_id\": \"load_collection\"}, \"loadcollection22\": {\"arguments\": {\"bands\": [\"band_1\", \"band_2\", \"band_3\", \"band_4\", \"band_7\", \"band_9\", \"band_10\"], \"id\": \"boa_sentinel_2\", \"spatial_extent\": {\"east\": 5.6021125055261525, \"north\": 48.1866888267235, \"south\": 48.18213242170592, \"west\": 5.595471619308098}, \"temporal_extent\": [\"2018-05-01\", \"2018-09-01\"]}, \"process_id\": \"load_collection\"}, \"loadcollection23\": {\"arguments\": {\"bands\": [\"band_1\", \"band_2\", \"band_3\", \"band_4\", \"band_7\", \"band_9\", \"band_10\"], \"id\": \"boa_sentinel_2\", \"spatial_extent\": {\"east\": 5.7288918287848904, \"north\": 49.42029780587075, \"south\": 49.41574216517162, \"west\": 5.72227674504984}, \"temporal_extent\": [\"2018-05-01\", \"2018-09-01\"]}, \"process_id\": \"load_collection\"}, \"loadcollection24\": {\"arguments\": {\"bands\": [\"band_1\", \"band_2\", \"band_3\", \"band_4\", \"band_7\", \"band_9\", \"band_10\"], \"id\": \"boa_sentinel_2\", \"spatial_extent\": {\"east\": 9.693978343749311, \"north\": 48.64443192204726, \"south\": 48.64032184337625, \"west\": 9.687593232616239}, \"temporal_extent\": [\"2018-05-01\", \"2018-09-01\"]}, \"process_id\": \"load_collection\"}, \"loadcollection25\": {\"arguments\": {\"bands\": [\"band_1\", \"band_2\", \"band_3\", \"band_4\", \"band_7\", \"band_9\", \"band_10\"], \"id\": \"boa_sentinel_2\", \"spatial_extent\": {\"east\": 13.011191603283125, \"north\": 43.48034364504386, \"south\": 43.47645450893394, \"west\": 13.005974069419072}, \"temporal_extent\": [\"2018-05-01\", \"2018-09-01\"]}, \"process_id\": \"load_collection\"}, \"loadcollection26\": {\"arguments\": {\"bands\": [\"band_1\", \"band_2\", \"band_3\", \"band_4\", \"band_7\", \"band_9\", \"band_10\"], \"id\": \"boa_sentinel_2\", \"spatial_extent\": {\"east\": 4.643436575219006, \"north\": 44.964196914100505, \"south\": 44.9596365447897, \"west\": 4.637194331300217}, \"temporal_extent\": [\"2018-05-01\", \"2018-09-01\"]}, \"process_id\": \"load_collection\"}, \"loadcollection27\": {\"arguments\": {\"bands\": [\"band_1\", \"band_2\", \"band_3\", \"band_4\", \"band_7\", \"band_9\", \"band_10\"], \"id\": \"boa_sentinel_2\", \"spatial_extent\": {\"east\": 8.827698174386638, \"north\": 49.02727142408154, \"south\": 49.02314685720524, \"west\": 8.821250546467198}, \"temporal_extent\": [\"2018-05-01\", \"2018-09-01\"]}, \"process_id\": \"load_collection\"}, \"loadcollection28\": {\"arguments\": {\"bands\": [\"band_1\", \"band_2\", \"band_3\", \"band_4\", \"band_7\", \"band_9\", \"band_10\"], \"id\": \"boa_sentinel_2\", \"spatial_extent\": {\"east\": 13.696063567997417, \"north\": 45.916355288317604, \"south\": 45.91231178466637, \"west\": 13.690610807013988}, \"temporal_extent\": [\"2018-05-01\", \"2018-09-01\"]}, \"process_id\": \"load_collection\"}, \"loadcollection29\": {\"arguments\": {\"bands\": [\"band_1\", \"band_2\", \"band_3\", \"band_4\", \"band_7\", \"band_9\", \"band_10\"], \"id\": \"boa_sentinel_2\", \"spatial_extent\": {\"east\": 5.962785097213071, \"north\": 46.00125902841113, \"south\": 45.9967036021326, \"west\": 5.956420483700743}, \"temporal_extent\": [\"2018-05-01\", \"2018-09-01\"]}, \"process_id\": \"load_collection\"}, \"loadcollection3\": {\"arguments\": {\"bands\": [\"band_1\", \"band_2\", \"band_3\", \"band_4\", \"band_7\", \"band_9\", \"band_10\"], \"id\": \"boa_sentinel_2\", \"spatial_extent\": {\"east\": 7.242951585966718, \"north\": 49.19379631647526, \"south\": 49.189647293151154, \"west\": 7.236422020296406}, \"temporal_extent\": [\"2018-05-01\", \"2018-09-01\"]}, \"process_id\": \"load_collection\"}, \"loadcollection30\": {\"arguments\": {\"bands\": [\"band_1\", \"band_2\", \"band_3\", \"band_4\", \"band_7\", \"band_9\", \"band_10\"], \"id\": \"boa_sentinel_2\", \"spatial_extent\": {\"east\": 4.91861053600374, \"north\": 45.61715098055133, \"south\": 45.61259160720928, \"west\": 4.912292202061604}, \"temporal_extent\": [\"2018-05-01\", \"2018-09-01\"]}, \"process_id\": \"load_collection\"}, \"loadcollection4\": {\"arguments\": {\"bands\": [\"band_1\", \"band_2\", \"band_3\", \"band_4\", \"band_7\", \"band_9\", \"band_10\"], \"id\": \"boa_sentinel_2\", \"spatial_extent\": {\"east\": 7.51954871224457, \"north\": 49.47736100376107, \"south\": 49.473215910625214, \"west\": 7.512989201589258}, \"temporal_extent\": [\"2018-05-01\", \"2018-09-01\"]}, \"process_id\": \"load_collection\"}, \"loadcollection5\": {\"arguments\": {\"bands\": [\"band_1\", \"band_2\", \"band_3\", \"band_4\", \"band_7\", \"band_9\", \"band_10\"], \"id\": \"boa_sentinel_2\", \"spatial_extent\": {\"east\": 16.98398463331492, \"north\": 46.89314010284438, \"south\": 46.88922871159105, \"west\": 16.977798461564497}, \"temporal_extent\": [\"2018-05-01\", \"2018-09-01\"]}, \"process_id\": \"load_collection\"}, \"loadcollection6\": {\"arguments\": {\"bands\": [\"band_1\", \"band_2\", \"band_3\", \"band_4\", \"band_7\", \"band_9\", \"band_10\"], \"id\": \"boa_sentinel_2\", \"spatial_extent\": {\"east\": 6.1534773674272065, \"north\": 47.08983954375588, \"south\": 47.0856763215967, \"west\": 6.147191761151927}, \"temporal_extent\": [\"2018-05-01\", \"2018-09-01\"]}, \"process_id\": \"load_collection\"}, \"loadcollection7\": {\"arguments\": {\"bands\": [\"band_1\", \"band_2\", \"band_3\", \"band_4\", \"band_7\", \"band_9\", \"band_10\"], \"id\": \"boa_sentinel_2\", \"spatial_extent\": {\"east\": 3.8712453143237013, \"north\": 44.364903688480744, \"south\": 44.360341188175866, \"west\": 3.865026705715848}, \"temporal_extent\": [\"2018-05-01\", \"2018-09-01\"]}, \"process_id\": \"load_collection\"}, \"loadcollection8\": {\"arguments\": {\"bands\": [\"band_1\", \"band_2\", \"band_3\", \"band_4\", \"band_7\", \"band_9\", \"band_10\"], \"id\": \"boa_sentinel_2\", \"spatial_extent\": {\"east\": 6.44022310085623, \"north\": 49.95972178991101, \"south\": 49.95556541920813, \"west\": 6.43355465739542}, \"temporal_extent\": [\"2018-05-01\", \"2018-09-01\"]}, \"process_id\": \"load_collection\"}, \"loadcollection9\": {\"arguments\": {\"bands\": [\"band_1\", \"band_2\", \"band_3\", \"band_4\", \"band_7\", \"band_9\", \"band_10\"], \"id\": \"boa_sentinel_2\", \"spatial_extent\": {\"east\": 4.873525203760744, \"north\": 45.221277275406635, \"south\": 45.21671766724813, \"west\": 4.867253120867095}, \"temporal_extent\": [\"2018-05-01\", \"2018-09-01\"]}, \"process_id\": \"load_collection\"}, \"loadvectorcube1\": {\"arguments\": {\"URL\": \"https://raw.githubusercontent.com/openEOPlatform/UC8_auxdata/master/vector_data/target_canopy_cover_60m_equi7/target_canopy_cover_equi7_60m_AOI0.geojson\"}, \"process_id\": \"load_vector_cube\"}, \"loadvectorcube10\": {\"arguments\": {\"URL\": \"https://raw.githubusercontent.com/openEOPlatform/UC8_auxdata/master/vector_data/target_canopy_cover_60m_equi7/target_canopy_cover_equi7_60m_AOI9.geojson\"}, \"process_id\": \"load_vector_cube\"}, \"loadvectorcube11\": {\"arguments\": {\"URL\": \"https://raw.githubusercontent.com/openEOPlatform/UC8_auxdata/master/vector_data/target_canopy_cover_60m_equi7/target_canopy_cover_equi7_60m_AOI10.geojson\"}, \"process_id\": \"load_vector_cube\"}, \"loadvectorcube12\": {\"arguments\": {\"URL\": \"https://raw.githubusercontent.com/openEOPlatform/UC8_auxdata/master/vector_data/target_canopy_cover_60m_equi7/target_canopy_cover_equi7_60m_AOI11.geojson\"}, \"process_id\": \"load_vector_cube\"}, \"loadvectorcube13\": {\"arguments\": {\"URL\": \"https://raw.githubusercontent.com/openEOPlatform/UC8_auxdata/master/vector_data/target_canopy_cover_60m_equi7/target_canopy_cover_equi7_60m_AOI12.geojson\"}, \"process_id\": \"load_vector_cube\"}, \"loadvectorcube14\": {\"arguments\": {\"URL\": \"https://raw.githubusercontent.com/openEOPlatform/UC8_auxdata/master/vector_data/target_canopy_cover_60m_equi7/target_canopy_cover_equi7_60m_AOI13.geojson\"}, \"process_id\": \"load_vector_cube\"}, \"loadvectorcube15\": {\"arguments\": {\"URL\": \"https://raw.githubusercontent.com/openEOPlatform/UC8_auxdata/master/vector_data/target_canopy_cover_60m_equi7/target_canopy_cover_equi7_60m_AOI14.geojson\"}, \"process_id\": \"load_vector_cube\"}, \"loadvectorcube16\": {\"arguments\": {\"URL\": \"https://raw.githubusercontent.com/openEOPlatform/UC8_auxdata/master/vector_data/target_canopy_cover_60m_equi7/target_canopy_cover_equi7_60m_AOI15.geojson\"}, \"process_id\": \"load_vector_cube\"}, \"loadvectorcube17\": {\"arguments\": {\"URL\": \"https://raw.githubusercontent.com/openEOPlatform/UC8_auxdata/master/vector_data/target_canopy_cover_60m_equi7/target_canopy_cover_equi7_60m_AOI16.geojson\"}, \"process_id\": \"load_vector_cube\"}, \"loadvectorcube18\": {\"arguments\": {\"URL\": \"https://raw.githubusercontent.com/openEOPlatform/UC8_auxdata/master/vector_data/target_canopy_cover_60m_equi7/target_canopy_cover_equi7_60m_AOI17.geojson\"}, \"process_id\": \"load_vector_cube\"}, \"loadvectorcube19\": {\"arguments\": {\"URL\": \"https://raw.githubusercontent.com/openEOPlatform/UC8_auxdata/master/vector_data/target_canopy_cover_60m_equi7/target_canopy_cover_equi7_60m_AOI18.geojson\"}, \"process_id\": \"load_vector_cube\"}, \"loadvectorcube2\": {\"arguments\": {\"URL\": \"https://raw.githubusercontent.com/openEOPlatform/UC8_auxdata/master/vector_data/target_canopy_cover_60m_equi7/target_canopy_cover_equi7_60m_AOI1.geojson\"}, \"process_id\": \"load_vector_cube\"}, \"loadvectorcube20\": {\"arguments\": {\"URL\": \"https://raw.githubusercontent.com/openEOPlatform/UC8_auxdata/master/vector_data/target_canopy_cover_60m_equi7/target_canopy_cover_equi7_60m_AOI19.geojson\"}, \"process_id\": \"load_vector_cube\"}, \"loadvectorcube21\": {\"arguments\": {\"URL\": \"https://raw.githubusercontent.com/openEOPlatform/UC8_auxdata/master/vector_data/target_canopy_cover_60m_equi7/target_canopy_cover_equi7_60m_AOI20.geojson\"}, \"process_id\": \"load_vector_cube\"}, \"loadvectorcube22\": {\"arguments\": {\"URL\": \"https://raw.githubusercontent.com/openEOPlatform/UC8_auxdata/master/vector_data/target_canopy_cover_60m_equi7/target_canopy_cover_equi7_60m_AOI21.geojson\"}, \"process_id\": \"load_vector_cube\"}, \"loadvectorcube23\": {\"arguments\": {\"URL\": \"https://raw.githubusercontent.com/openEOPlatform/UC8_auxdata/master/vector_data/target_canopy_cover_60m_equi7/target_canopy_cover_equi7_60m_AOI22.geojson\"}, \"process_id\": \"load_vector_cube\"}, \"loadvectorcube24\": {\"arguments\": {\"URL\": \"https://raw.githubusercontent.com/openEOPlatform/UC8_auxdata/master/vector_data/target_canopy_cover_60m_equi7/target_canopy_cover_equi7_60m_AOI23.geojson\"}, \"process_id\": \"load_vector_cube\"}, \"loadvectorcube25\": {\"arguments\": {\"URL\": \"https://raw.githubusercontent.com/openEOPlatform/UC8_auxdata/master/vector_data/target_canopy_cover_60m_equi7/target_canopy_cover_equi7_60m_AOI24.geojson\"}, \"process_id\": \"load_vector_cube\"}, \"loadvectorcube26\": {\"arguments\": {\"URL\": \"https://raw.githubusercontent.com/openEOPlatform/UC8_auxdata/master/vector_data/target_canopy_cover_60m_equi7/target_canopy_cover_equi7_60m_AOI25.geojson\"}, \"process_id\": \"load_vector_cube\"}, \"loadvectorcube27\": {\"arguments\": {\"URL\": \"https://raw.githubusercontent.com/openEOPlatform/UC8_auxdata/master/vector_data/target_canopy_cover_60m_equi7/target_canopy_cover_equi7_60m_AOI26.geojson\"}, \"process_id\": \"load_vector_cube\"}, \"loadvectorcube28\": {\"arguments\": {\"URL\": \"https://raw.githubusercontent.com/openEOPlatform/UC8_auxdata/master/vector_data/target_canopy_cover_60m_equi7/target_canopy_cover_equi7_60m_AOI27.geojson\"}, \"process_id\": \"load_vector_cube\"}, \"loadvectorcube29\": {\"arguments\": {\"URL\": \"https://raw.githubusercontent.com/openEOPlatform/UC8_auxdata/master/vector_data/target_canopy_cover_60m_equi7/target_canopy_cover_equi7_60m_AOI28.geojson\"}, \"process_id\": \"load_vector_cube\"}, \"loadvectorcube3\": {\"arguments\": {\"URL\": \"https://raw.githubusercontent.com/openEOPlatform/UC8_auxdata/master/vector_data/target_canopy_cover_60m_equi7/target_canopy_cover_equi7_60m_AOI2.geojson\"}, \"process_id\": \"load_vector_cube\"}, \"loadvectorcube30\": {\"arguments\": {\"URL\": \"https://raw.githubusercontent.com/openEOPlatform/UC8_auxdata/master/vector_data/target_canopy_cover_60m_equi7/target_canopy_cover_equi7_60m_AOI29.geojson\"}, \"process_id\": \"load_vector_cube\"}, \"loadvectorcube4\": {\"arguments\": {\"URL\": \"https://raw.githubusercontent.com/openEOPlatform/UC8_auxdata/master/vector_data/target_canopy_cover_60m_equi7/target_canopy_cover_equi7_60m_AOI3.geojson\"}, \"process_id\": \"load_vector_cube\"}, \"loadvectorcube5\": {\"arguments\": {\"URL\": \"https://raw.githubusercontent.com/openEOPlatform/UC8_auxdata/master/vector_data/target_canopy_cover_60m_equi7/target_canopy_cover_equi7_60m_AOI4.geojson\"}, \"process_id\": \"load_vector_cube\"}, \"loadvectorcube6\": {\"arguments\": {\"URL\": \"https://raw.githubusercontent.com/openEOPlatform/UC8_auxdata/master/vector_data/target_canopy_cover_60m_equi7/target_canopy_cover_equi7_60m_AOI5.geojson\"}, \"process_id\": \"load_vector_cube\"}, \"loadvectorcube7\": {\"arguments\": {\"URL\": \"https://raw.githubusercontent.com/openEOPlatform/UC8_auxdata/master/vector_data/target_canopy_cover_60m_equi7/target_canopy_cover_equi7_60m_AOI6.geojson\"}, \"process_id\": \"load_vector_cube\"}, \"loadvectorcube8\": {\"arguments\": {\"URL\": \"https://raw.githubusercontent.com/openEOPlatform/UC8_auxdata/master/vector_data/target_canopy_cover_60m_equi7/target_canopy_cover_equi7_60m_AOI7.geojson\"}, \"process_id\": \"load_vector_cube\"}, \"loadvectorcube9\": {\"arguments\": {\"URL\": \"https://raw.githubusercontent.com/openEOPlatform/UC8_auxdata/master/vector_data/target_canopy_cover_60m_equi7/target_canopy_cover_equi7_60m_AOI8.geojson\"}, \"process_id\": \"load_vector_cube\"}, \"mergecubes1\": {\"arguments\": {\"cube1\": {\"from_node\": \"aggregatespatial1\"}, \"cube2\": {\"from_node\": \"loadvectorcube1\"}}, \"process_id\": \"merge_cubes\"}, \"mergecubes10\": {\"arguments\": {\"cube1\": {\"from_node\": \"aggregatespatial6\"}, \"cube2\": {\"from_node\": \"loadvectorcube6\"}}, \"process_id\": \"merge_cubes\"}, \"mergecubes11\": {\"arguments\": {\"cube1\": {\"from_node\": \"mergecubes9\"}, \"cube2\": {\"from_node\": \"mergecubes10\"}}, \"process_id\": \"merge_cubes\"}, \"mergecubes12\": {\"arguments\": {\"cube1\": {\"from_node\": \"aggregatespatial7\"}, \"cube2\": {\"from_node\": \"loadvectorcube7\"}}, \"process_id\": \"merge_cubes\"}, \"mergecubes13\": {\"arguments\": {\"cube1\": {\"from_node\": \"mergecubes11\"}, \"cube2\": {\"from_node\": \"mergecubes12\"}}, \"process_id\": \"merge_cubes\"}, \"mergecubes14\": {\"arguments\": {\"cube1\": {\"from_node\": \"aggregatespatial8\"}, \"cube2\": {\"from_node\": \"loadvectorcube8\"}}, \"process_id\": \"merge_cubes\"}, \"mergecubes15\": {\"arguments\": {\"cube1\": {\"from_node\": \"mergecubes13\"}, \"cube2\": {\"from_node\": \"mergecubes14\"}}, \"process_id\": \"merge_cubes\"}, \"mergecubes16\": {\"arguments\": {\"cube1\": {\"from_node\": \"aggregatespatial9\"}, \"cube2\": {\"from_node\": \"loadvectorcube9\"}}, \"process_id\": \"merge_cubes\"}, \"mergecubes17\": {\"arguments\": {\"cube1\": {\"from_node\": \"mergecubes15\"}, \"cube2\": {\"from_node\": \"mergecubes16\"}}, \"process_id\": \"merge_cubes\"}, \"mergecubes18\": {\"arguments\": {\"cube1\": {\"from_node\": \"aggregatespatial10\"}, \"cube2\": {\"from_node\": \"loadvectorcube10\"}}, \"process_id\": \"merge_cubes\"}, \"mergecubes19\": {\"arguments\": {\"cube1\": {\"from_node\": \"mergecubes17\"}, \"cube2\": {\"from_node\": \"mergecubes18\"}}, \"process_id\": \"merge_cubes\"}, \"mergecubes2\": {\"arguments\": {\"cube1\": {\"from_node\": \"aggregatespatial2\"}, \"cube2\": {\"from_node\": \"loadvectorcube2\"}}, \"process_id\": \"merge_cubes\"}, \"mergecubes20\": {\"arguments\": {\"cube1\": {\"from_node\": \"aggregatespatial11\"}, \"cube2\": {\"from_node\": \"loadvectorcube11\"}}, \"process_id\": \"merge_cubes\"}, \"mergecubes21\": {\"arguments\": {\"cube1\": {\"from_node\": \"mergecubes19\"}, \"cube2\": {\"from_node\": \"mergecubes20\"}}, \"process_id\": \"merge_cubes\"}, \"mergecubes22\": {\"arguments\": {\"cube1\": {\"from_node\": \"aggregatespatial12\"}, \"cube2\": {\"from_node\": \"loadvectorcube12\"}}, \"process_id\": \"merge_cubes\"}, \"mergecubes23\": {\"arguments\": {\"cube1\": {\"from_node\": \"mergecubes21\"}, \"cube2\": {\"from_node\": \"mergecubes22\"}}, \"process_id\": \"merge_cubes\"}, \"mergecubes24\": {\"arguments\": {\"cube1\": {\"from_node\": \"aggregatespatial13\"}, \"cube2\": {\"from_node\": \"loadvectorcube13\"}}, \"process_id\": \"merge_cubes\"}, \"mergecubes25\": {\"arguments\": {\"cube1\": {\"from_node\": \"mergecubes23\"}, \"cube2\": {\"from_node\": \"mergecubes24\"}}, \"process_id\": \"merge_cubes\"}, \"mergecubes26\": {\"arguments\": {\"cube1\": {\"from_node\": \"aggregatespatial14\"}, \"cube2\": {\"from_node\": \"loadvectorcube14\"}}, \"process_id\": \"merge_cubes\"}, \"mergecubes27\": {\"arguments\": {\"cube1\": {\"from_node\": \"mergecubes25\"}, \"cube2\": {\"from_node\": \"mergecubes26\"}}, \"process_id\": \"merge_cubes\"}, \"mergecubes28\": {\"arguments\": {\"cube1\": {\"from_node\": \"aggregatespatial15\"}, \"cube2\": {\"from_node\": \"loadvectorcube15\"}}, \"process_id\": \"merge_cubes\"}, \"mergecubes29\": {\"arguments\": {\"cube1\": {\"from_node\": \"mergecubes27\"}, \"cube2\": {\"from_node\": \"mergecubes28\"}}, \"process_id\": \"merge_cubes\"}, \"mergecubes3\": {\"arguments\": {\"cube1\": {\"from_node\": \"mergecubes1\"}, \"cube2\": {\"from_node\": \"mergecubes2\"}}, \"process_id\": \"merge_cubes\"}, \"mergecubes30\": {\"arguments\": {\"cube1\": {\"from_node\": \"aggregatespatial16\"}, \"cube2\": {\"from_node\": \"loadvectorcube16\"}}, \"process_id\": \"merge_cubes\"}, \"mergecubes31\": {\"arguments\": {\"cube1\": {\"from_node\": \"mergecubes29\"}, \"cube2\": {\"from_node\": \"mergecubes30\"}}, \"process_id\": \"merge_cubes\"}, \"mergecubes32\": {\"arguments\": {\"cube1\": {\"from_node\": \"aggregatespatial17\"}, \"cube2\": {\"from_node\": \"loadvectorcube17\"}}, \"process_id\": \"merge_cubes\"}, \"mergecubes33\": {\"arguments\": {\"cube1\": {\"from_node\": \"mergecubes31\"}, \"cube2\": {\"from_node\": \"mergecubes32\"}}, \"process_id\": \"merge_cubes\"}, \"mergecubes34\": {\"arguments\": {\"cube1\": {\"from_node\": \"aggregatespatial18\"}, \"cube2\": {\"from_node\": \"loadvectorcube18\"}}, \"process_id\": \"merge_cubes\"}, \"mergecubes35\": {\"arguments\": {\"cube1\": {\"from_node\": \"mergecubes33\"}, \"cube2\": {\"from_node\": \"mergecubes34\"}}, \"process_id\": \"merge_cubes\"}, \"mergecubes36\": {\"arguments\": {\"cube1\": {\"from_node\": \"aggregatespatial19\"}, \"cube2\": {\"from_node\": \"loadvectorcube19\"}}, \"process_id\": \"merge_cubes\"}, \"mergecubes37\": {\"arguments\": {\"cube1\": {\"from_node\": \"mergecubes35\"}, \"cube2\": {\"from_node\": \"mergecubes36\"}}, \"process_id\": \"merge_cubes\"}, \"mergecubes38\": {\"arguments\": {\"cube1\": {\"from_node\": \"aggregatespatial20\"}, \"cube2\": {\"from_node\": \"loadvectorcube20\"}}, \"process_id\": \"merge_cubes\"}, \"mergecubes39\": {\"arguments\": {\"cube1\": {\"from_node\": \"mergecubes37\"}, \"cube2\": {\"from_node\": \"mergecubes38\"}}, \"process_id\": \"merge_cubes\"}, \"mergecubes4\": {\"arguments\": {\"cube1\": {\"from_node\": \"aggregatespatial3\"}, \"cube2\": {\"from_node\": \"loadvectorcube3\"}}, \"process_id\": \"merge_cubes\"}, \"mergecubes40\": {\"arguments\": {\"cube1\": {\"from_node\": \"aggregatespatial21\"}, \"cube2\": {\"from_node\": \"loadvectorcube21\"}}, \"process_id\": \"merge_cubes\"}, \"mergecubes41\": {\"arguments\": {\"cube1\": {\"from_node\": \"mergecubes39\"}, \"cube2\": {\"from_node\": \"mergecubes40\"}}, \"process_id\": \"merge_cubes\"}, \"mergecubes42\": {\"arguments\": {\"cube1\": {\"from_node\": \"aggregatespatial22\"}, \"cube2\": {\"from_node\": \"loadvectorcube22\"}}, \"process_id\": \"merge_cubes\"}, \"mergecubes43\": {\"arguments\": {\"cube1\": {\"from_node\": \"mergecubes41\"}, \"cube2\": {\"from_node\": \"mergecubes42\"}}, \"process_id\": \"merge_cubes\"}, \"mergecubes44\": {\"arguments\": {\"cube1\": {\"from_node\": \"aggregatespatial23\"}, \"cube2\": {\"from_node\": \"loadvectorcube23\"}}, \"process_id\": \"merge_cubes\"}, \"mergecubes45\": {\"arguments\": {\"cube1\": {\"from_node\": \"mergecubes43\"}, \"cube2\": {\"from_node\": \"mergecubes44\"}}, \"process_id\": \"merge_cubes\"}, \"mergecubes46\": {\"arguments\": {\"cube1\": {\"from_node\": \"aggregatespatial24\"}, \"cube2\": {\"from_node\": \"loadvectorcube24\"}}, \"process_id\": \"merge_cubes\"}, \"mergecubes47\": {\"arguments\": {\"cube1\": {\"from_node\": \"mergecubes45\"}, \"cube2\": {\"from_node\": \"mergecubes46\"}}, \"process_id\": \"merge_cubes\"}, \"mergecubes48\": {\"arguments\": {\"cube1\": {\"from_node\": \"aggregatespatial25\"}, \"cube2\": {\"from_node\": \"loadvectorcube25\"}}, \"process_id\": \"merge_cubes\"}, \"mergecubes49\": {\"arguments\": {\"cube1\": {\"from_node\": \"mergecubes47\"}, \"cube2\": {\"from_node\": \"mergecubes48\"}}, \"process_id\": \"merge_cubes\"}, \"mergecubes5\": {\"arguments\": {\"cube1\": {\"from_node\": \"mergecubes3\"}, \"cube2\": {\"from_node\": \"mergecubes4\"}}, \"process_id\": \"merge_cubes\"}, \"mergecubes50\": {\"arguments\": {\"cube1\": {\"from_node\": \"aggregatespatial26\"}, \"cube2\": {\"from_node\": \"loadvectorcube26\"}}, \"process_id\": \"merge_cubes\"}, \"mergecubes51\": {\"arguments\": {\"cube1\": {\"from_node\": \"mergecubes49\"}, \"cube2\": {\"from_node\": \"mergecubes50\"}}, \"process_id\": \"merge_cubes\"}, \"mergecubes52\": {\"arguments\": {\"cube1\": {\"from_node\": \"aggregatespatial27\"}, \"cube2\": {\"from_node\": \"loadvectorcube27\"}}, \"process_id\": \"merge_cubes\"}, \"mergecubes53\": {\"arguments\": {\"cube1\": {\"from_node\": \"mergecubes51\"}, \"cube2\": {\"from_node\": \"mergecubes52\"}}, \"process_id\": \"merge_cubes\"}, \"mergecubes54\": {\"arguments\": {\"cube1\": {\"from_node\": \"aggregatespatial28\"}, \"cube2\": {\"from_node\": \"loadvectorcube28\"}}, \"process_id\": \"merge_cubes\"}, \"mergecubes55\": {\"arguments\": {\"cube1\": {\"from_node\": \"mergecubes53\"}, \"cube2\": {\"from_node\": \"mergecubes54\"}}, \"process_id\": \"merge_cubes\"}, \"mergecubes56\": {\"arguments\": {\"cube1\": {\"from_node\": \"aggregatespatial29\"}, \"cube2\": {\"from_node\": \"loadvectorcube29\"}}, \"process_id\": \"merge_cubes\"}, \"mergecubes57\": {\"arguments\": {\"cube1\": {\"from_node\": \"mergecubes55\"}, \"cube2\": {\"from_node\": \"mergecubes56\"}}, \"process_id\": \"merge_cubes\"}, \"mergecubes58\": {\"arguments\": {\"cube1\": {\"from_node\": \"aggregatespatial30\"}, \"cube2\": {\"from_node\": \"loadvectorcube30\"}}, \"process_id\": \"merge_cubes\"}, \"mergecubes59\": {\"arguments\": {\"cube1\": {\"from_node\": \"mergecubes57\"}, \"cube2\": {\"from_node\": \"mergecubes58\"}}, \"process_id\": \"merge_cubes\"}, \"mergecubes6\": {\"arguments\": {\"cube1\": {\"from_node\": \"aggregatespatial4\"}, \"cube2\": {\"from_node\": \"loadvectorcube4\"}}, \"process_id\": \"merge_cubes\"}, \"mergecubes7\": {\"arguments\": {\"cube1\": {\"from_node\": \"mergecubes5\"}, \"cube2\": {\"from_node\": \"mergecubes6\"}}, \"process_id\": \"merge_cubes\"}, \"mergecubes8\": {\"arguments\": {\"cube1\": {\"from_node\": \"aggregatespatial5\"}, \"cube2\": {\"from_node\": \"loadvectorcube5\"}}, \"process_id\": \"merge_cubes\"}, \"mergecubes9\": {\"arguments\": {\"cube1\": {\"from_node\": \"mergecubes7\"}, \"cube2\": {\"from_node\": \"mergecubes8\"}}, \"process_id\": \"merge_cubes\"}, \"reducedimension1\": {\"arguments\": {\"data\": {\"from_node\": \"loadcollection1\"}, \"dimension\": \"t\", \"reducer\": {\"process_graph\": {\"median1\": {\"arguments\": {\"data\": {\"from_parameter\": \"data\"}}, \"process_id\": \"median\", \"result\": true}}}}, \"process_id\": \"reduce_dimension\"}, \"reducedimension10\": {\"arguments\": {\"data\": {\"from_node\": \"loadcollection10\"}, \"dimension\": \"t\", \"reducer\": {\"process_graph\": {\"median10\": {\"arguments\": {\"data\": {\"from_parameter\": \"data\"}}, \"process_id\": \"median\", \"result\": true}}}}, \"process_id\": \"reduce_dimension\"}, \"reducedimension11\": {\"arguments\": {\"data\": {\"from_node\": \"loadcollection11\"}, \"dimension\": \"t\", \"reducer\": {\"process_graph\": {\"median11\": {\"arguments\": {\"data\": {\"from_parameter\": \"data\"}}, \"process_id\": \"median\", \"result\": true}}}}, \"process_id\": \"reduce_dimension\"}, \"reducedimension12\": {\"arguments\": {\"data\": {\"from_node\": \"loadcollection12\"}, \"dimension\": \"t\", \"reducer\": {\"process_graph\": {\"median12\": {\"arguments\": {\"data\": {\"from_parameter\": \"data\"}}, \"process_id\": \"median\", \"result\": true}}}}, \"process_id\": \"reduce_dimension\"}, \"reducedimension13\": {\"arguments\": {\"data\": {\"from_node\": \"loadcollection13\"}, \"dimension\": \"t\", \"reducer\": {\"process_graph\": {\"median13\": {\"arguments\": {\"data\": {\"from_parameter\": \"data\"}}, \"process_id\": \"median\", \"result\": true}}}}, \"process_id\": \"reduce_dimension\"}, \"reducedimension14\": {\"arguments\": {\"data\": {\"from_node\": \"loadcollection14\"}, \"dimension\": \"t\", \"reducer\": {\"process_graph\": {\"median14\": {\"arguments\": {\"data\": {\"from_parameter\": \"data\"}}, \"process_id\": \"median\", \"result\": true}}}}, \"process_id\": \"reduce_dimension\"}, \"reducedimension15\": {\"arguments\": {\"data\": {\"from_node\": \"loadcollection15\"}, \"dimension\": \"t\", \"reducer\": {\"process_graph\": {\"median15\": {\"arguments\": {\"data\": {\"from_parameter\": \"data\"}}, \"process_id\": \"median\", \"result\": true}}}}, \"process_id\": \"reduce_dimension\"}, \"reducedimension16\": {\"arguments\": {\"data\": {\"from_node\": \"loadcollection16\"}, \"dimension\": \"t\", \"reducer\": {\"process_graph\": {\"median16\": {\"arguments\": {\"data\": {\"from_parameter\": \"data\"}}, \"process_id\": \"median\", \"result\": true}}}}, \"process_id\": \"reduce_dimension\"}, \"reducedimension17\": {\"arguments\": {\"data\": {\"from_node\": \"loadcollection17\"}, \"dimension\": \"t\", \"reducer\": {\"process_graph\": {\"median17\": {\"arguments\": {\"data\": {\"from_parameter\": \"data\"}}, \"process_id\": \"median\", \"result\": true}}}}, \"process_id\": \"reduce_dimension\"}, \"reducedimension18\": {\"arguments\": {\"data\": {\"from_node\": \"loadcollection18\"}, \"dimension\": \"t\", \"reducer\": {\"process_graph\": {\"median18\": {\"arguments\": {\"data\": {\"from_parameter\": \"data\"}}, \"process_id\": \"median\", \"result\": true}}}}, \"process_id\": \"reduce_dimension\"}, \"reducedimension19\": {\"arguments\": {\"data\": {\"from_node\": \"loadcollection19\"}, \"dimension\": \"t\", \"reducer\": {\"process_graph\": {\"median19\": {\"arguments\": {\"data\": {\"from_parameter\": \"data\"}}, \"process_id\": \"median\", \"result\": true}}}}, \"process_id\": \"reduce_dimension\"}, \"reducedimension2\": {\"arguments\": {\"data\": {\"from_node\": \"loadcollection2\"}, \"dimension\": \"t\", \"reducer\": {\"process_graph\": {\"median2\": {\"arguments\": {\"data\": {\"from_parameter\": \"data\"}}, \"process_id\": \"median\", \"result\": true}}}}, \"process_id\": \"reduce_dimension\"}, \"reducedimension20\": {\"arguments\": {\"data\": {\"from_node\": \"loadcollection20\"}, \"dimension\": \"t\", \"reducer\": {\"process_graph\": {\"median20\": {\"arguments\": {\"data\": {\"from_parameter\": \"data\"}}, \"process_id\": \"median\", \"result\": true}}}}, \"process_id\": \"reduce_dimension\"}, \"reducedimension21\": {\"arguments\": {\"data\": {\"from_node\": \"loadcollection21\"}, \"dimension\": \"t\", \"reducer\": {\"process_graph\": {\"median21\": {\"arguments\": {\"data\": {\"from_parameter\": \"data\"}}, \"process_id\": \"median\", \"result\": true}}}}, \"process_id\": \"reduce_dimension\"}, \"reducedimension22\": {\"arguments\": {\"data\": {\"from_node\": \"loadcollection22\"}, \"dimension\": \"t\", \"reducer\": {\"process_graph\": {\"median22\": {\"arguments\": {\"data\": {\"from_parameter\": \"data\"}}, \"process_id\": \"median\", \"result\": true}}}}, \"process_id\": \"reduce_dimension\"}, \"reducedimension23\": {\"arguments\": {\"data\": {\"from_node\": \"loadcollection23\"}, \"dimension\": \"t\", \"reducer\": {\"process_graph\": {\"median23\": {\"arguments\": {\"data\": {\"from_parameter\": \"data\"}}, \"process_id\": \"median\", \"result\": true}}}}, \"process_id\": \"reduce_dimension\"}, \"reducedimension24\": {\"arguments\": {\"data\": {\"from_node\": \"loadcollection24\"}, \"dimension\": \"t\", \"reducer\": {\"process_graph\": {\"median24\": {\"arguments\": {\"data\": {\"from_parameter\": \"data\"}}, \"process_id\": \"median\", \"result\": true}}}}, \"process_id\": \"reduce_dimension\"}, \"reducedimension25\": {\"arguments\": {\"data\": {\"from_node\": \"loadcollection25\"}, \"dimension\": \"t\", \"reducer\": {\"process_graph\": {\"median25\": {\"arguments\": {\"data\": {\"from_parameter\": \"data\"}}, \"process_id\": \"median\", \"result\": true}}}}, \"process_id\": \"reduce_dimension\"}, \"reducedimension26\": {\"arguments\": {\"data\": {\"from_node\": \"loadcollection26\"}, \"dimension\": \"t\", \"reducer\": {\"process_graph\": {\"median26\": {\"arguments\": {\"data\": {\"from_parameter\": \"data\"}}, \"process_id\": \"median\", \"result\": true}}}}, \"process_id\": \"reduce_dimension\"}, \"reducedimension27\": {\"arguments\": {\"data\": {\"from_node\": \"loadcollection27\"}, \"dimension\": \"t\", \"reducer\": {\"process_graph\": {\"median27\": {\"arguments\": {\"data\": {\"from_parameter\": \"data\"}}, \"process_id\": \"median\", \"result\": true}}}}, \"process_id\": \"reduce_dimension\"}, \"reducedimension28\": {\"arguments\": {\"data\": {\"from_node\": \"loadcollection28\"}, \"dimension\": \"t\", \"reducer\": {\"process_graph\": {\"median28\": {\"arguments\": {\"data\": {\"from_parameter\": \"data\"}}, \"process_id\": \"median\", \"result\": true}}}}, \"process_id\": \"reduce_dimension\"}, \"reducedimension29\": {\"arguments\": {\"data\": {\"from_node\": \"loadcollection29\"}, \"dimension\": \"t\", \"reducer\": {\"process_graph\": {\"median29\": {\"arguments\": {\"data\": {\"from_parameter\": \"data\"}}, \"process_id\": \"median\", \"result\": true}}}}, \"process_id\": \"reduce_dimension\"}, \"reducedimension3\": {\"arguments\": {\"data\": {\"from_node\": \"loadcollection3\"}, \"dimension\": \"t\", \"reducer\": {\"process_graph\": {\"median3\": {\"arguments\": {\"data\": {\"from_parameter\": \"data\"}}, \"process_id\": \"median\", \"result\": true}}}}, \"process_id\": \"reduce_dimension\"}, \"reducedimension30\": {\"arguments\": {\"data\": {\"from_node\": \"loadcollection30\"}, \"dimension\": \"t\", \"reducer\": {\"process_graph\": {\"median30\": {\"arguments\": {\"data\": {\"from_parameter\": \"data\"}}, \"process_id\": \"median\", \"result\": true}}}}, \"process_id\": \"reduce_dimension\"}, \"reducedimension4\": {\"arguments\": {\"data\": {\"from_node\": \"loadcollection4\"}, \"dimension\": \"t\", \"reducer\": {\"process_graph\": {\"median4\": {\"arguments\": {\"data\": {\"from_parameter\": \"data\"}}, \"process_id\": \"median\", \"result\": true}}}}, \"process_id\": \"reduce_dimension\"}, \"reducedimension5\": {\"arguments\": {\"data\": {\"from_node\": \"loadcollection5\"}, \"dimension\": \"t\", \"reducer\": {\"process_graph\": {\"median5\": {\"arguments\": {\"data\": {\"from_parameter\": \"data\"}}, \"process_id\": \"median\", \"result\": true}}}}, \"process_id\": \"reduce_dimension\"}, \"reducedimension6\": {\"arguments\": {\"data\": {\"from_node\": \"loadcollection6\"}, \"dimension\": \"t\", \"reducer\": {\"process_graph\": {\"median6\": {\"arguments\": {\"data\": {\"from_parameter\": \"data\"}}, \"process_id\": \"median\", \"result\": true}}}}, \"process_id\": \"reduce_dimension\"}, \"reducedimension7\": {\"arguments\": {\"data\": {\"from_node\": \"loadcollection7\"}, \"dimension\": \"t\", \"reducer\": {\"process_graph\": {\"median7\": {\"arguments\": {\"data\": {\"from_parameter\": \"data\"}}, \"process_id\": \"median\", \"result\": true}}}}, \"process_id\": \"reduce_dimension\"}, \"reducedimension8\": {\"arguments\": {\"data\": {\"from_node\": \"loadcollection8\"}, \"dimension\": \"t\", \"reducer\": {\"process_graph\": {\"median8\": {\"arguments\": {\"data\": {\"from_parameter\": \"data\"}}, \"process_id\": \"median\", \"result\": true}}}}, \"process_id\": \"reduce_dimension\"}, \"reducedimension9\": {\"arguments\": {\"data\": {\"from_node\": \"loadcollection9\"}, \"dimension\": \"t\", \"reducer\": {\"process_graph\": {\"median9\": {\"arguments\": {\"data\": {\"from_parameter\": \"data\"}}, \"process_id\": \"median\", \"result\": true}}}}, \"process_id\": \"reduce_dimension\"}, \"savevectorcube1\": {\"arguments\": {\"data\": {\"from_node\": \"mergecubes59\"}}, \"process_id\": \"save_vector_cube\", \"result\": true}}}, \"status\": \"finished\", \"title\": \"UC8_AOI_[0, 1, 2, 3, 4, 5, 6, 7, 8, 9, 10, 11, 12, 13, 14, 15, 16, 17, 18, 19, 20, 21, 22, 23, 24, 25, 26, 27, 28, 29]_vector_cube\"}}</script>\n",
       "    </openeo-job>\n",
       "    "
      ],
      "text/plain": [
       "<RESTJob job_id='jb-a55da16f-dc17-4e02-b54b-f902df3a3c40'>"
      ]
     },
     "execution_count": 73,
     "metadata": {},
     "output_type": "execute_result"
    }
   ],
   "source": [
    "job_ids= [\"jb-a55da16f-dc17-4e02-b54b-f902df3a3c40\",\n",
    "      \"jb-34adbfac-d973-4c41-8278-b5306a881642\",\n",
    "      \"jb-de4b811b-e8f9-4492-bc7f-5e5bdc4757b0\",\n",
    "      \"jb-71c38396-014f-4ffc-b40c-6e6bbbd68e2f\",\n",
    "      \"jb-399de5cd-3ecc-43ba-9978-612295c16e8f\"]\n",
    "RESTJob(job_ids[0],conn)"
   ]
  },
  {
   "cell_type": "markdown",
   "id": "4d43ef09",
   "metadata": {},
   "source": [
    "Once the Jobs are finished we can use the *merge_cubes* process to bring all the aggregated vector files together in one file as base for the training of the machine learning model"
   ]
  },
  {
   "cell_type": "code",
   "execution_count": 87,
   "id": "096a2792",
   "metadata": {},
   "outputs": [],
   "source": [
    "merge = None\n",
    "for jb in job_ids:\n",
    "    if merge is None:\n",
    "        load_vector_cube = full_training_data_cube.process(\"load_vector_cube\",{\"job_id\":jb})\n",
    "        merge = load_vector_cube\n",
    "    else:\n",
    "        load_vector_cube = full_training_data_cube.process(\"load_vector_cube\",{\"job_id\":jb})\n",
    "        merge = merge.process(\"merge_cubes\",{\"cube1\":THIS,\"cube2\":load_vector_cube})\n"
   ]
  },
  {
   "cell_type": "markdown",
   "id": "fb2e98f3",
   "metadata": {},
   "source": [
    "### Training"
   ]
  },
  {
   "cell_type": "markdown",
   "id": "a4ee379c",
   "metadata": {},
   "source": [
    "The random forest model is trained with some basic arguments that allow to modify some of the aspects in the training. In our model we use all the bands of Sentinel-2 to train 100 trees. The process *fit_regr_random_forest* is used for training"
   ]
  },
  {
   "cell_type": "code",
   "execution_count": 88,
   "id": "75c42854",
   "metadata": {
    "scrolled": true
   },
   "outputs": [],
   "source": [
    "rf_arguments = {\n",
    "    \"data\": merge,\n",
    "    \"max_variables\" : None, # Variable used at a node\n",
    "    \"num_trees\": 100, # Number of trees in a rf model\n",
    "    \"seed\": 0,        # Random Number seed for reproducibility\n",
    "    \"predictors_vars\": [\"B02\",\"B03\",\"B04\",\"B05\",\"B06\",\"B07\",\"B08\",\"B11\",\"B12\"], # Name of predictors\n",
    "    # \"predictors_vars\":[\"band_1\",\"band_2\",\"band_3\",\"band_4\",\"band_7\",\"band_9\",\"band_10\"],\n",
    "    \"target_var\": \"target_canopy_cover_x\" # Name of target variable\n",
    "}\n",
    "\n",
    "rf_model = merge.process(\"fit_regr_random_forest\", rf_arguments) # fit the model"
   ]
  },
  {
   "cell_type": "markdown",
   "id": "15c0a153",
   "metadata": {},
   "source": [
    "Afterwards the model can be saved..."
   ]
  },
  {
   "cell_type": "code",
   "execution_count": 89,
   "id": "c7bd6660",
   "metadata": {},
   "outputs": [],
   "source": [
    "rf_model_saved = rf_model.process(\"save_ml_model\",{\"model\":THIS})"
   ]
  },
  {
   "cell_type": "markdown",
   "id": "0d3cb5df",
   "metadata": {},
   "source": [
    "...and the Job can be started"
   ]
  },
  {
   "cell_type": "code",
   "execution_count": 90,
   "id": "e582fd3c",
   "metadata": {},
   "outputs": [],
   "source": [
    "#job_train = rf_model_saved.create_job(title=\"UC8_all_fit_rf_regr_lps\")\n",
    "#job_train.start_job()"
   ]
  },
  {
   "cell_type": "code",
   "execution_count": 76,
   "id": "b2c2acfe",
   "metadata": {},
   "outputs": [
    {
     "data": {
      "text/html": [
       "\n",
       "    <script>\n",
       "    if (!window.customElements || !window.customElements.get('openeo-job')) {\n",
       "        var el = document.createElement('script');\n",
       "        el.src = \"https://cdn.jsdelivr.net/npm/@openeo/vue-components@2/assets/openeo.min.js\";\n",
       "        document.head.appendChild(el);\n",
       "\n",
       "        var font = document.createElement('font');\n",
       "        font.as = \"font\";\n",
       "        font.type = \"font/woff2\";\n",
       "        font.crossOrigin = true;\n",
       "        font.href = \"https://use.fontawesome.com/releases/v5.13.0/webfonts/fa-solid-900.woff2\"\n",
       "        document.head.appendChild(font);\n",
       "    }\n",
       "    </script>\n",
       "    <openeo-job>\n",
       "        <script type=\"application/json\">{\"currency\": \"EUR\", \"job\": {\"created\": \"2022-05-18T11:31:54Z\", \"id\": \"jb-bd7703ac-9309-4665-9b10-600dceae44d7\", \"process\": {\"deprecated\": false, \"exceptions\": {}, \"experimental\": false, \"id\": \"yVTPgqYmZ9DZKEyh\", \"process_graph\": {\"fitregrrandomforest1\": {\"arguments\": {\"data\": {\"from_node\": \"mergecubes4\"}, \"max_variables\": null, \"num_trees\": 100, \"predictors_vars\": [\"band_1\", \"band_2\", \"band_3\", \"band_4\", \"band_7\", \"band_9\", \"band_10\"], \"seed\": 0, \"target_var\": \"target_canopy_cover_x\"}, \"process_id\": \"fit_regr_random_forest\"}, \"loadvectorcube1\": {\"arguments\": {\"job_id\": \"jb-a55da16f-dc17-4e02-b54b-f902df3a3c40\"}, \"process_id\": \"load_vector_cube\"}, \"loadvectorcube2\": {\"arguments\": {\"job_id\": \"jb-34adbfac-d973-4c41-8278-b5306a881642\"}, \"process_id\": \"load_vector_cube\"}, \"loadvectorcube3\": {\"arguments\": {\"job_id\": \"jb-de4b811b-e8f9-4492-bc7f-5e5bdc4757b0\"}, \"process_id\": \"load_vector_cube\"}, \"loadvectorcube4\": {\"arguments\": {\"job_id\": \"jb-71c38396-014f-4ffc-b40c-6e6bbbd68e2f\"}, \"process_id\": \"load_vector_cube\"}, \"loadvectorcube5\": {\"arguments\": {\"job_id\": \"jb-399de5cd-3ecc-43ba-9978-612295c16e8f\"}, \"process_id\": \"load_vector_cube\"}, \"mergecubes1\": {\"arguments\": {\"cube1\": {\"from_node\": \"loadvectorcube1\"}, \"cube2\": {\"from_node\": \"loadvectorcube2\"}}, \"process_id\": \"merge_cubes\"}, \"mergecubes2\": {\"arguments\": {\"cube1\": {\"from_node\": \"mergecubes1\"}, \"cube2\": {\"from_node\": \"loadvectorcube3\"}}, \"process_id\": \"merge_cubes\"}, \"mergecubes3\": {\"arguments\": {\"cube1\": {\"from_node\": \"mergecubes2\"}, \"cube2\": {\"from_node\": \"loadvectorcube4\"}}, \"process_id\": \"merge_cubes\"}, \"mergecubes4\": {\"arguments\": {\"cube1\": {\"from_node\": \"mergecubes3\"}, \"cube2\": {\"from_node\": \"loadvectorcube5\"}}, \"process_id\": \"merge_cubes\"}, \"savemlmodel1\": {\"arguments\": {\"model\": {\"from_node\": \"fitregrrandomforest1\"}}, \"process_id\": \"save_ml_model\", \"result\": true}}}, \"status\": \"finished\", \"title\": \"UC8_all_fit_rf_regr_lps\"}}</script>\n",
       "    </openeo-job>\n",
       "    "
      ],
      "text/plain": [
       "<RESTJob job_id='jb-bd7703ac-9309-4665-9b10-600dceae44d7'>"
      ]
     },
     "execution_count": 76,
     "metadata": {},
     "output_type": "execute_result"
    }
   ],
   "source": [
    "job_train = \"jb-bd7703ac-9309-4665-9b10-600dceae44d7\"\n",
    "RESTJob(job_train,conn)"
   ]
  },
  {
   "cell_type": "markdown",
   "id": "4d7cc880",
   "metadata": {},
   "source": [
    "## 3. Prediction"
   ]
  },
  {
   "cell_type": "markdown",
   "id": "01e44f26",
   "metadata": {},
   "source": [
    "For demonstration purposes we are going to predict an area around the Adamello natural park based on the predictors for 2018 "
   ]
  },
  {
   "cell_type": "code",
   "execution_count": 91,
   "id": "d902c1b5",
   "metadata": {},
   "outputs": [],
   "source": [
    "#spatial_extent  =  {\"west\":10.454955,\n",
    "#                    \"east\":10.737297,\n",
    "#                    \"south\":46.102185,\n",
    "#                    \"north\":46.133657}\n",
    "spatial_extent  =  {\"west\":10.45,\n",
    "                    \"east\":10.74,\n",
    "                    \"south\":46.10,\n",
    "                    \"north\":46.14}"
   ]
  },
  {
   "cell_type": "markdown",
   "id": "c563db26",
   "metadata": {},
   "source": [
    "The model will be applied to this area based on the same collections and bands we have used for the training of the model. As the predictors are universal for 2018 we base the prediction on the summer period using the *reduce_dimension* process. Being in an early stage of development, future developments will include diverse predictors based on time and therefore also the prediction will change allowing more features"
   ]
  },
  {
   "cell_type": "code",
   "execution_count": 95,
   "id": "62a94064",
   "metadata": {},
   "outputs": [],
   "source": [
    "collection      = \"boa_sentinel_2\"\n",
    "temporal_extent = [\"2018-05-01\", \"2018-09-01\"]\n",
    "bands           = [\"B02\",\"B03\",\"B04\",\"B05\",\"B06\",\"B07\",\"B08\",\"B11\",\"B12\"]\n",
    "#bands           = [\"band_1\",\"band_2\",\"band_3\",\"band_4\",\"band_7\",\"band_9\",\"band_10\"]\n",
    "\n",
    "boa_sentinel_2_cube = conn.load_collection(\n",
    "    collection_id   = collection,\n",
    "    spatial_extent  = spatial_extent,\n",
    "    temporal_extent = temporal_extent,\n",
    "    bands = bands\n",
    "    )\n",
    "boa_sentinel_2_cube_reduced = boa_sentinel_2_cube.reduce_dimension(dimension=\"t\",reducer=median)"
   ]
  },
  {
   "cell_type": "markdown",
   "id": "3fcbcdfe",
   "metadata": {},
   "source": [
    "Predict the model based on a saved model created in the step beforehand"
   ]
  },
  {
   "cell_type": "code",
   "execution_count": 96,
   "id": "49624b21",
   "metadata": {},
   "outputs": [],
   "source": [
    "model_jb = \"jb-561da48a-359e-43c9-b45e-7d7e8524a1fc\"\n",
    "fractional_canopy_cover = boa_sentinel_2_cube_reduced.predict_random_forest(dimension=\"bands\", model=model_jb)"
   ]
  },
  {
   "cell_type": "markdown",
   "id": "963acf4d",
   "metadata": {},
   "source": [
    "And now the result can be saved..."
   ]
  },
  {
   "cell_type": "code",
   "execution_count": 97,
   "id": "1f3516ff",
   "metadata": {},
   "outputs": [],
   "source": [
    "fractional_canopy_cover_netcdf = fractional_canopy_cover.save_result(format=\"netCDF\")"
   ]
  },
  {
   "cell_type": "markdown",
   "id": "cdf079a8",
   "metadata": {},
   "source": [
    "...before the job is executed"
   ]
  },
  {
   "cell_type": "code",
   "execution_count": 98,
   "id": "318f8d01",
   "metadata": {},
   "outputs": [],
   "source": [
    "#job_pred = fractional_canopy_cover_netcdf.create_job(title=\"UC8_predict_rf_adamello_lps\")\n",
    "#job_pred.start_job()"
   ]
  },
  {
   "cell_type": "markdown",
   "id": "d63e6e0f",
   "metadata": {},
   "source": [
    "The job can be visualized as follows:"
   ]
  },
  {
   "cell_type": "code",
   "execution_count": 75,
   "id": "d90f82a1",
   "metadata": {
    "scrolled": true
   },
   "outputs": [
    {
     "data": {
      "text/html": [
       "\n",
       "    <script>\n",
       "    if (!window.customElements || !window.customElements.get('openeo-job')) {\n",
       "        var el = document.createElement('script');\n",
       "        el.src = \"https://cdn.jsdelivr.net/npm/@openeo/vue-components@2/assets/openeo.min.js\";\n",
       "        document.head.appendChild(el);\n",
       "\n",
       "        var font = document.createElement('font');\n",
       "        font.as = \"font\";\n",
       "        font.type = \"font/woff2\";\n",
       "        font.crossOrigin = true;\n",
       "        font.href = \"https://use.fontawesome.com/releases/v5.13.0/webfonts/fa-solid-900.woff2\"\n",
       "        document.head.appendChild(font);\n",
       "    }\n",
       "    </script>\n",
       "    <openeo-job>\n",
       "        <script type=\"application/json\">{\"currency\": \"EUR\", \"job\": {\"created\": \"2022-05-18T11:45:15Z\", \"id\": \"jb-7df5b3c3-c0fe-492c-b161-5a7f824c182a\", \"process\": {\"deprecated\": false, \"exceptions\": {}, \"experimental\": false, \"id\": \"tsjTXq8E0fcZJ7WT\", \"process_graph\": {\"loadcollection1\": {\"arguments\": {\"bands\": [\"band_1\", \"band_2\", \"band_3\", \"band_4\", \"band_7\", \"band_9\", \"band_10\"], \"id\": \"boa_sentinel_2\", \"spatial_extent\": {\"east\": 10.74, \"north\": 46.14, \"south\": 46.1, \"west\": 10.45}, \"temporal_extent\": [\"2018-05-01\", \"2018-09-01\"]}, \"process_id\": \"load_collection\"}, \"loadmlmodel1\": {\"arguments\": {\"id\": \"jb-561da48a-359e-43c9-b45e-7d7e8524a1fc\"}, \"process_id\": \"load_ml_model\"}, \"reducedimension1\": {\"arguments\": {\"data\": {\"from_node\": \"loadcollection1\"}, \"dimension\": \"t\", \"reducer\": {\"process_graph\": {\"median1\": {\"arguments\": {\"data\": {\"from_parameter\": \"data\"}}, \"process_id\": \"median\", \"result\": true}}}}, \"process_id\": \"reduce_dimension\"}, \"reducedimension2\": {\"arguments\": {\"context\": {\"from_node\": \"loadmlmodel1\"}, \"data\": {\"from_node\": \"reducedimension1\"}, \"dimension\": \"bands\", \"reducer\": {\"process_graph\": {\"predictrandomforest1\": {\"arguments\": {\"data\": {\"from_parameter\": \"data\"}, \"model\": {\"from_parameter\": \"context\"}}, \"process_id\": \"predict_random_forest\", \"result\": true}}}}, \"process_id\": \"reduce_dimension\"}, \"saveresult1\": {\"arguments\": {\"data\": {\"from_node\": \"reducedimension2\"}, \"format\": \"netCDF\", \"options\": {}}, \"process_id\": \"save_result\", \"result\": true}}}, \"status\": \"finished\", \"title\": \"UC8_predict_rf_regr_subset_lps_small\"}}</script>\n",
       "    </openeo-job>\n",
       "    "
      ],
      "text/plain": [
       "<RESTJob job_id='jb-7df5b3c3-c0fe-492c-b161-5a7f824c182a'>"
      ]
     },
     "execution_count": 75,
     "metadata": {},
     "output_type": "execute_result"
    }
   ],
   "source": [
    "job_pred = \"jb-7df5b3c3-c0fe-492c-b161-5a7f824c182a\"\n",
    "RESTJob(job_pred,conn)"
   ]
  },
  {
   "cell_type": "markdown",
   "id": "b8a8e14b",
   "metadata": {},
   "source": [
    "And the final result can be seen in the following picture"
   ]
  },
  {
   "cell_type": "markdown",
   "id": "6258d7bc",
   "metadata": {},
   "source": [
    "![](resources/05_fccprediction.png)"
   ]
  },
  {
   "cell_type": "code",
   "execution_count": null,
   "id": "7c023d35",
   "metadata": {},
   "outputs": [],
   "source": []
  }
 ],
 "metadata": {
  "kernelspec": {
   "display_name": "Python 3",
   "language": "python",
   "name": "python3"
  },
  "language_info": {
   "codemirror_mode": {
    "name": "ipython",
    "version": 3
   },
   "file_extension": ".py",
   "mimetype": "text/x-python",
   "name": "python",
   "nbconvert_exporter": "python",
   "pygments_lexer": "ipython3",
   "version": "3.10.2"
  }
 },
 "nbformat": 4,
 "nbformat_minor": 5
}
