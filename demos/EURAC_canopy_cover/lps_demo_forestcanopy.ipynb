{
 "cells": [
  {
   "cell_type": "markdown",
   "id": "c760cedb-d627-4c3a-a198-83e71df9eeb9",
   "metadata": {},
   "source": [
    "<img src=\"https://avatars.githubusercontent.com/u/74911464?s=200&v=4\"\n",
    "     alt=\"OpenEO Platform logo\"\n",
    "     style=\"float: left; margin-right: 10px;\" />\n",
    "# Forest canopy cover mapping using openEO Platform\n",
    "## Demo at the ESA Living planet symposium\n",
    "### 27.05.2022\n"
   ]
  },
  {
   "cell_type": "markdown",
   "id": "9fb7db81",
   "metadata": {},
   "source": [
    "The approach subsequently presented has the objective to derive the fractional canopy cover (FCC) in forest based on Planetscope very-high resolution data as well as Sentinel-2 data. It includes several processing steps involving the calculation and transformation of datacubes, as well as training and prediction of FCC with a random forest regression.\n",
    "\n",
    "This Python notebook utilizes the [OpenEO Python client](https://github.com/Open-EO/openeo-python-client) to construct openEO jobs in form of JSON files sent as http requests to the back-ends. This will be accomplished in three main steps:\n",
    "- Computation of the target variable (FCC) from VHR data cubes\n",
    "- Training of the model\n",
    "- Prediction of the model"
   ]
  },
  {
   "cell_type": "markdown",
   "id": "c431dd6d",
   "metadata": {},
   "source": [
    "## Requirements\n",
    "\n",
    "First the necessary python modules must be loaded"
   ]
  },
  {
   "cell_type": "code",
   "execution_count": 56,
   "id": "db8b5896",
   "metadata": {},
   "outputs": [],
   "source": [
    "import openeo\n",
    "from openeo.processes import median, sd\n",
    "import numpy as np\n",
    "import geopandas as gpd\n",
    "import xarray as xr\n",
    "import matplotlib.pyplot as plt\n",
    "from shapely.geometry.polygon import Polygon\n",
    "import json\n",
    "from openeo.rest.datacube import PGNode, THIS"
   ]
  },
  {
   "cell_type": "markdown",
   "id": "af585131",
   "metadata": {},
   "source": [
    "## Connection"
   ]
  },
  {
   "cell_type": "markdown",
   "id": "b65d9538",
   "metadata": {},
   "source": [
    "Connect to the OpenEO back-end using the OpenEO client"
   ]
  },
  {
   "cell_type": "code",
   "execution_count": 7,
   "id": "6fa11ae3",
   "metadata": {},
   "outputs": [],
   "source": [
    "connection = openeo.connect(\"openeo.cloud\")"
   ]
  },
  {
   "cell_type": "markdown",
   "id": "c53e42d5",
   "metadata": {},
   "source": [
    "Authenticate via EGI Check-in (OpenID Connect)"
   ]
  },
  {
   "cell_type": "code",
   "execution_count": 8,
   "id": "d9d6f113",
   "metadata": {},
   "outputs": [
    {
     "name": "stdout",
     "output_type": "stream",
     "text": [
      "Authenticated using refresh token.\n"
     ]
    },
    {
     "data": {
      "text/plain": [
       "<Connection to 'https://openeocloud.vito.be/openeo/1.0.0/' with OidcBearerAuth>"
      ]
     },
     "execution_count": 8,
     "metadata": {},
     "output_type": "execute_result"
    }
   ],
   "source": [
    "connection.authenticate_oidc(\"egi\")\n",
    "connection"
   ]
  },
  {
   "cell_type": "markdown",
   "id": "78cfb813",
   "metadata": {},
   "source": [
    "## 1. Target Variable for regression"
   ]
  },
  {
   "cell_type": "markdown",
   "id": "7d6cdb84",
   "metadata": {},
   "source": [
    "The VHR data from `PLANETSCOPE` - the base for the target variable of our regression - is stored in a dedicated **OpenEO collection**. \n",
    "The `PLANETSCOPE`collection is commercial data that has been acquired specifically for this project. It is not openly accessible to all users."
   ]
  },
  {
   "cell_type": "code",
   "execution_count": 9,
   "id": "ca115c70",
   "metadata": {
    "tags": []
   },
   "outputs": [
    {
     "data": {
      "text/html": [
       "\n",
       "    <script>\n",
       "    if (!window.customElements || !window.customElements.get('openeo-collection')) {\n",
       "        var el = document.createElement('script');\n",
       "        el.src = \"https://cdn.jsdelivr.net/npm/@openeo/vue-components@2/assets/openeo.min.js\";\n",
       "        document.head.appendChild(el);\n",
       "\n",
       "        var font = document.createElement('font');\n",
       "        font.as = \"font\";\n",
       "        font.type = \"font/woff2\";\n",
       "        font.crossOrigin = true;\n",
       "        font.href = \"https://use.fontawesome.com/releases/v5.13.0/webfonts/fa-solid-900.woff2\"\n",
       "        document.head.appendChild(font);\n",
       "    }\n",
       "    </script>\n",
       "    <openeo-collection>\n",
       "        <script type=\"application/json\">{\"mapOptions\": {}, \"data\": {\"cube:dimensions\": {\"bands\": {\"type\": \"bands\", \"values\": [\"B1\", \"B2\", \"B3\", \"B4\", \"UDM\", \"UDM2_Clear\", \"UDM2_Snow\", \"UDM2_Shadow\", \"UDM2_LightHaze\", \"UDM2_HeavyHaze\", \"UDM2_Cloud\", \"UDM2_Confidence\", \"dataMask\"]}, \"t\": {\"extent\": [\"2016-01-01T00:00:00Z\", null], \"type\": \"temporal\"}, \"x\": {\"axis\": \"x\", \"extent\": [-180, 180], \"reference_system\": {\"$schema\": \"https://proj.org/schemas/v0.2/projjson.schema.json\", \"area\": \"World\", \"base_crs\": {\"coordinate_system\": {\"axis\": [{\"abbreviation\": \"Lat\", \"direction\": \"north\", \"name\": \"Geodetic latitude\", \"unit\": \"degree\"}, {\"abbreviation\": \"Lon\", \"direction\": \"east\", \"name\": \"Geodetic longitude\", \"unit\": \"degree\"}], \"subtype\": \"ellipsoidal\"}, \"datum\": {\"ellipsoid\": {\"inverse_flattening\": 298.257223563, \"name\": \"WGS 84\", \"semi_major_axis\": 6378137}, \"name\": \"World Geodetic System 1984\", \"type\": \"GeodeticReferenceFrame\"}, \"name\": \"WGS 84\"}, \"bbox\": {\"east_longitude\": 180, \"north_latitude\": 90, \"south_latitude\": -90, \"west_longitude\": -180}, \"coordinate_system\": {\"axis\": [{\"abbreviation\": \"E\", \"direction\": \"east\", \"name\": \"Easting\", \"unit\": \"metre\"}, {\"abbreviation\": \"N\", \"direction\": \"north\", \"name\": \"Northing\", \"unit\": \"metre\"}], \"subtype\": \"Cartesian\"}, \"id\": {\"authority\": \"OGC\", \"code\": \"Auto42001\", \"version\": \"1.3\"}, \"name\": \"AUTO 42001 (Universal Transverse Mercator)\", \"type\": \"ProjectedCRS\"}, \"type\": \"spatial\"}, \"y\": {\"axis\": \"y\", \"extent\": [-90, 90], \"reference_system\": {\"$schema\": \"https://proj.org/schemas/v0.2/projjson.schema.json\", \"area\": \"World\", \"base_crs\": {\"coordinate_system\": {\"axis\": [{\"abbreviation\": \"Lat\", \"direction\": \"north\", \"name\": \"Geodetic latitude\", \"unit\": \"degree\"}, {\"abbreviation\": \"Lon\", \"direction\": \"east\", \"name\": \"Geodetic longitude\", \"unit\": \"degree\"}], \"subtype\": \"ellipsoidal\"}, \"datum\": {\"ellipsoid\": {\"inverse_flattening\": 298.257223563, \"name\": \"WGS 84\", \"semi_major_axis\": 6378137}, \"name\": \"World Geodetic System 1984\", \"type\": \"GeodeticReferenceFrame\"}, \"name\": \"WGS 84\"}, \"bbox\": {\"east_longitude\": 180, \"north_latitude\": 90, \"south_latitude\": -90, \"west_longitude\": -180}, \"coordinate_system\": {\"axis\": [{\"abbreviation\": \"E\", \"direction\": \"east\", \"name\": \"Easting\", \"unit\": \"metre\"}, {\"abbreviation\": \"N\", \"direction\": \"north\", \"name\": \"Northing\", \"unit\": \"metre\"}], \"subtype\": \"Cartesian\"}, \"id\": {\"authority\": \"OGC\", \"code\": \"Auto42001\", \"version\": \"1.3\"}, \"name\": \"AUTO 42001 (Universal Transverse Mercator)\", \"type\": \"ProjectedCRS\"}, \"type\": \"spatial\"}}, \"datasource_type\": \"byoc-ID\", \"description\": \"PlanetScope is one of the satellite constellation operated by Planet. PlanetScope satellite constellation consists of more than 130 small satellites called Doves. Each Dove satellite is a CubeSat made of three cubic units and thus measures only 10 cm x 10 cm x 30 cm. The satellites are launched in groups, which constantly improves mission's characteristics such as revisit times, spatial and spectral resolutions. The constellation is constantly on and does not require an acquisition planning. PlanetScope is commercial data and has to be ordered by the user\", \"extent\": {\"spatial\": {\"bbox\": [[-180, -90, 180, 90]]}, \"temporal\": {\"interval\": [[\"2016-01-01T00:00:00Z\", null]]}}, \"id\": \"PLANETSCOPE\", \"keywords\": [\"sentinel hub\", \"PlanetScope\", \"vhr\", \"commercial data\"], \"license\": \"various\", \"links\": [], \"providers\": [{\"description\": \"\", \"name\": \"Sentinel Hub\", \"roles\": [\"processor\"], \"url\": \"https://docs.sentinel-hub.com/api/latest/data/planet-scope/\"}, {\"description\": \"\", \"name\": \"Planet\", \"roles\": [\"producer\"], \"url\": \"https://www.planet.com/products/planet-imagery/\"}], \"sci:citation\": \"\\u00a9 Planet (YYYY), contains PlanetScope data processed by Sentinel Hub\", \"stac_extensions\": [\"datacube\"], \"stac_version\": \"0.9.0\", \"summaries\": {\"crs\": [\"http://www.opengis.net/def/crs/OGC/1.3/CRS84\", \"http://www.opengis.net/def/crs/EPSG/0/2154\", \"http://www.opengis.net/def/crs/EPSG/0/2180\", \"http://www.opengis.net/def/crs/EPSG/0/2193\", \"http://www.opengis.net/def/crs/EPSG/0/3003\", \"http://www.opengis.net/def/crs/EPSG/0/3004\", \"http://www.opengis.net/def/crs/EPSG/0/3031\", \"http://www.opengis.net/def/crs/EPSG/0/3035\", \"http://www.opengis.net/def/crs/EPSG/0/4326\", \"http://www.opengis.net/def/crs/EPSG/0/4346\", \"http://www.opengis.net/def/crs/EPSG/0/4416\", \"http://www.opengis.net/def/crs/EPSG/0/4765\", \"http://www.opengis.net/def/crs/EPSG/0/4794\", \"http://www.opengis.net/def/crs/EPSG/0/4844\", \"http://www.opengis.net/def/crs/EPSG/0/4857\", \"http://www.opengis.net/def/crs/EPSG/0/3912\", \"http://www.opengis.net/def/crs/EPSG/0/3995\", \"http://www.opengis.net/def/crs/EPSG/0/4026\", \"http://www.opengis.net/def/crs/EPSG/0/5514\", \"http://www.opengis.net/def/crs/EPSG/0/28992\", \"http://www.opengis.net/def/crs/EPSG/0/32601\", \"http://www.opengis.net/def/crs/EPSG/0/32602\", \"http://www.opengis.net/def/crs/EPSG/0/32603\", \"http://www.opengis.net/def/crs/EPSG/0/32604\", \"http://www.opengis.net/def/crs/EPSG/0/32605\", \"http://www.opengis.net/def/crs/EPSG/0/32606\", \"http://www.opengis.net/def/crs/EPSG/0/32607\", \"http://www.opengis.net/def/crs/EPSG/0/32608\", \"http://www.opengis.net/def/crs/EPSG/0/32609\", \"http://www.opengis.net/def/crs/EPSG/0/32610\", \"http://www.opengis.net/def/crs/EPSG/0/32611\", \"http://www.opengis.net/def/crs/EPSG/0/32612\", \"http://www.opengis.net/def/crs/EPSG/0/32613\", \"http://www.opengis.net/def/crs/EPSG/0/32614\", \"http://www.opengis.net/def/crs/EPSG/0/32615\", \"http://www.opengis.net/def/crs/EPSG/0/32616\", \"http://www.opengis.net/def/crs/EPSG/0/32617\", \"http://www.opengis.net/def/crs/EPSG/0/32618\", \"http://www.opengis.net/def/crs/EPSG/0/32619\", \"http://www.opengis.net/def/crs/EPSG/0/32620\", \"http://www.opengis.net/def/crs/EPSG/0/32621\", \"http://www.opengis.net/def/crs/EPSG/0/32622\", \"http://www.opengis.net/def/crs/EPSG/0/32623\", \"http://www.opengis.net/def/crs/EPSG/0/32624\", \"http://www.opengis.net/def/crs/EPSG/0/32625\", \"http://www.opengis.net/def/crs/EPSG/0/32626\", \"http://www.opengis.net/def/crs/EPSG/0/32627\", \"http://www.opengis.net/def/crs/EPSG/0/32628\", \"http://www.opengis.net/def/crs/EPSG/0/32629\", \"http://www.opengis.net/def/crs/EPSG/0/32630\", \"http://www.opengis.net/def/crs/EPSG/0/32631\", \"http://www.opengis.net/def/crs/EPSG/0/32632\", \"http://www.opengis.net/def/crs/EPSG/0/32633\", \"http://www.opengis.net/def/crs/EPSG/0/32634\", \"http://www.opengis.net/def/crs/EPSG/0/32635\", \"http://www.opengis.net/def/crs/EPSG/0/32636\", \"http://www.opengis.net/def/crs/EPSG/0/32637\", \"http://www.opengis.net/def/crs/EPSG/0/32638\", \"http://www.opengis.net/def/crs/EPSG/0/32639\", \"http://www.opengis.net/def/crs/EPSG/0/32640\", \"http://www.opengis.net/def/crs/EPSG/0/32641\", \"http://www.opengis.net/def/crs/EPSG/0/32642\", \"http://www.opengis.net/def/crs/EPSG/0/32643\", \"http://www.opengis.net/def/crs/EPSG/0/32644\", \"http://www.opengis.net/def/crs/EPSG/0/32645\", \"http://www.opengis.net/def/crs/EPSG/0/32646\", \"http://www.opengis.net/def/crs/EPSG/0/32647\", \"http://www.opengis.net/def/crs/EPSG/0/32648\", \"http://www.opengis.net/def/crs/EPSG/0/32649\", \"http://www.opengis.net/def/crs/EPSG/0/32650\", \"http://www.opengis.net/def/crs/EPSG/0/32651\", \"http://www.opengis.net/def/crs/EPSG/0/32652\", \"http://www.opengis.net/def/crs/EPSG/0/32653\", \"http://www.opengis.net/def/crs/EPSG/0/32654\", \"http://www.opengis.net/def/crs/EPSG/0/32655\", \"http://www.opengis.net/def/crs/EPSG/0/32656\", \"http://www.opengis.net/def/crs/EPSG/0/32657\", \"http://www.opengis.net/def/crs/EPSG/0/32658\", \"http://www.opengis.net/def/crs/EPSG/0/32659\", \"http://www.opengis.net/def/crs/EPSG/0/32660\", \"http://www.opengis.net/def/crs/EPSG/0/32701\", \"http://www.opengis.net/def/crs/EPSG/0/32702\", \"http://www.opengis.net/def/crs/EPSG/0/32703\", \"http://www.opengis.net/def/crs/EPSG/0/32704\", \"http://www.opengis.net/def/crs/EPSG/0/32705\", \"http://www.opengis.net/def/crs/EPSG/0/32706\", \"http://www.opengis.net/def/crs/EPSG/0/32707\", \"http://www.opengis.net/def/crs/EPSG/0/32708\", \"http://www.opengis.net/def/crs/EPSG/0/32709\", \"http://www.opengis.net/def/crs/EPSG/0/32710\", \"http://www.opengis.net/def/crs/EPSG/0/32711\", \"http://www.opengis.net/def/crs/EPSG/0/32712\", \"http://www.opengis.net/def/crs/EPSG/0/32713\", \"http://www.opengis.net/def/crs/EPSG/0/32714\", \"http://www.opengis.net/def/crs/EPSG/0/32715\", \"http://www.opengis.net/def/crs/EPSG/0/32716\", \"http://www.opengis.net/def/crs/EPSG/0/32717\", \"http://www.opengis.net/def/crs/EPSG/0/32718\", \"http://www.opengis.net/def/crs/EPSG/0/32719\", \"http://www.opengis.net/def/crs/EPSG/0/32720\", \"http://www.opengis.net/def/crs/EPSG/0/32721\", \"http://www.opengis.net/def/crs/EPSG/0/32722\", \"http://www.opengis.net/def/crs/EPSG/0/32723\", \"http://www.opengis.net/def/crs/EPSG/0/32724\", \"http://www.opengis.net/def/crs/EPSG/0/32725\", \"http://www.opengis.net/def/crs/EPSG/0/32726\", \"http://www.opengis.net/def/crs/EPSG/0/32727\", \"http://www.opengis.net/def/crs/EPSG/0/32728\", \"http://www.opengis.net/def/crs/EPSG/0/32729\", \"http://www.opengis.net/def/crs/EPSG/0/32730\", \"http://www.opengis.net/def/crs/EPSG/0/32731\", \"http://www.opengis.net/def/crs/EPSG/0/32732\", \"http://www.opengis.net/def/crs/EPSG/0/32733\", \"http://www.opengis.net/def/crs/EPSG/0/32734\", \"http://www.opengis.net/def/crs/EPSG/0/32735\", \"http://www.opengis.net/def/crs/EPSG/0/32736\", \"http://www.opengis.net/def/crs/EPSG/0/32737\", \"http://www.opengis.net/def/crs/EPSG/0/32738\", \"http://www.opengis.net/def/crs/EPSG/0/32739\", \"http://www.opengis.net/def/crs/EPSG/0/32740\", \"http://www.opengis.net/def/crs/EPSG/0/32741\", \"http://www.opengis.net/def/crs/EPSG/0/32742\", \"http://www.opengis.net/def/crs/EPSG/0/32743\", \"http://www.opengis.net/def/crs/EPSG/0/32744\", \"http://www.opengis.net/def/crs/EPSG/0/32745\", \"http://www.opengis.net/def/crs/EPSG/0/32746\", \"http://www.opengis.net/def/crs/EPSG/0/32746\", \"http://www.opengis.net/def/crs/EPSG/0/32748\", \"http://www.opengis.net/def/crs/EPSG/0/32749\", \"http://www.opengis.net/def/crs/EPSG/0/32750\", \"http://www.opengis.net/def/crs/EPSG/0/32751\", \"http://www.opengis.net/def/crs/EPSG/0/32752\", \"http://www.opengis.net/def/crs/EPSG/0/32753\", \"http://www.opengis.net/def/crs/EPSG/0/32754\", \"http://www.opengis.net/def/crs/EPSG/0/32755\", \"http://www.opengis.net/def/crs/EPSG/0/32756\", \"http://www.opengis.net/def/crs/EPSG/0/32757\", \"http://www.opengis.net/def/crs/EPSG/0/32758\", \"http://www.opengis.net/def/crs/EPSG/0/32759\", \"http://www.opengis.net/def/crs/EPSG/0/32760\", \"http://www.opengis.net/def/crs/SR-ORG/0/98739\"], \"eo:bands\": [{\"center_wavelength\": 0.485, \"common_name\": \"blue\", \"description\": \"Blue (485 nm)\", \"full_width_half_max\": 0.3, \"name\": \"B1\", \"openeo:gsd\": {\"unit\": \"m\", \"value\": [3, 3]}}, {\"center_wavelength\": 0.545, \"common_name\": \"green\", \"description\": \"Green (545 nm)\", \"full_width_half_max\": 0.45, \"name\": \"B2\", \"openeo:gsd\": {\"unit\": \"m\", \"value\": [3, 3]}}, {\"center_wavelength\": 0.63, \"common_name\": \"red\", \"description\": \"Red (630 nm)\", \"full_width_half_max\": 0.4, \"name\": \"B3\", \"openeo:gsd\": {\"unit\": \"m\", \"value\": [3, 3]}}, {\"center_wavelength\": 0.82, \"common_name\": \"nir08\", \"description\": \"Near Infrared (820 nm)\", \"full_width_half_max\": 0.4, \"name\": \"B4\", \"openeo:gsd\": {\"unit\": \"m\", \"value\": [3, 3]}}, {\"description\": \"Unusable Data Mask\", \"name\": \"UDM\", \"openeo:gsd\": {\"unit\": \"m\", \"value\": [3, 3]}}, {\"description\": \"Usable Data mask - Clear mask\", \"name\": \"UDM2_Clear\", \"openeo:gsd\": {\"unit\": \"m\", \"value\": [3, 3]}}, {\"description\": \"Usable Data mask - Snow mask\", \"name\": \"UDM2_Snow\", \"openeo:gsd\": {\"unit\": \"m\", \"value\": [3, 3]}}, {\"description\": \"Usable Data mask - Shadow mask\", \"name\": \"UDM2_Shadow\", \"openeo:gsd\": {\"unit\": \"m\", \"value\": [3, 3]}}, {\"description\": \"Usable Data mask - Light haze mask\", \"name\": \"UDM2_LightHaze\", \"openeo:gsd\": {\"unit\": \"m\", \"value\": [3, 3]}}, {\"description\": \"Usable Data mask - Heavy haze mask\", \"name\": \"UDM2_HeavyHaze\", \"openeo:gsd\": {\"unit\": \"m\", \"value\": [3, 3]}}, {\"description\": \"Usable Data mask - Cloud mask\", \"name\": \"UDM2_Cloud\", \"openeo:gsd\": {\"unit\": \"m\", \"value\": [3, 3]}}, {\"description\": \"Usable Data mask - Confidence map\", \"name\": \"UDM2_Confidence\", \"openeo:gsd\": {\"unit\": \"m\", \"value\": [3, 3]}}, {\"description\": \"The mask of data/no data pixels\", \"name\": \"dataMask\"}]}, \"title\": \"PlanetScope\"}}</script>\n",
       "    </openeo-collection>\n",
       "    "
      ],
      "text/plain": [
       "{'cube:dimensions': {'bands': {'type': 'bands',\n",
       "   'values': ['B1',\n",
       "    'B2',\n",
       "    'B3',\n",
       "    'B4',\n",
       "    'UDM',\n",
       "    'UDM2_Clear',\n",
       "    'UDM2_Snow',\n",
       "    'UDM2_Shadow',\n",
       "    'UDM2_LightHaze',\n",
       "    'UDM2_HeavyHaze',\n",
       "    'UDM2_Cloud',\n",
       "    'UDM2_Confidence',\n",
       "    'dataMask']},\n",
       "  't': {'extent': ['2016-01-01T00:00:00Z', None], 'type': 'temporal'},\n",
       "  'x': {'axis': 'x',\n",
       "   'extent': [-180, 180],\n",
       "   'reference_system': {'$schema': 'https://proj.org/schemas/v0.2/projjson.schema.json',\n",
       "    'area': 'World',\n",
       "    'base_crs': {'coordinate_system': {'axis': [{'abbreviation': 'Lat',\n",
       "        'direction': 'north',\n",
       "        'name': 'Geodetic latitude',\n",
       "        'unit': 'degree'},\n",
       "       {'abbreviation': 'Lon',\n",
       "        'direction': 'east',\n",
       "        'name': 'Geodetic longitude',\n",
       "        'unit': 'degree'}],\n",
       "      'subtype': 'ellipsoidal'},\n",
       "     'datum': {'ellipsoid': {'inverse_flattening': 298.257223563,\n",
       "       'name': 'WGS 84',\n",
       "       'semi_major_axis': 6378137},\n",
       "      'name': 'World Geodetic System 1984',\n",
       "      'type': 'GeodeticReferenceFrame'},\n",
       "     'name': 'WGS 84'},\n",
       "    'bbox': {'east_longitude': 180,\n",
       "     'north_latitude': 90,\n",
       "     'south_latitude': -90,\n",
       "     'west_longitude': -180},\n",
       "    'coordinate_system': {'axis': [{'abbreviation': 'E',\n",
       "       'direction': 'east',\n",
       "       'name': 'Easting',\n",
       "       'unit': 'metre'},\n",
       "      {'abbreviation': 'N',\n",
       "       'direction': 'north',\n",
       "       'name': 'Northing',\n",
       "       'unit': 'metre'}],\n",
       "     'subtype': 'Cartesian'},\n",
       "    'id': {'authority': 'OGC', 'code': 'Auto42001', 'version': '1.3'},\n",
       "    'name': 'AUTO 42001 (Universal Transverse Mercator)',\n",
       "    'type': 'ProjectedCRS'},\n",
       "   'type': 'spatial'},\n",
       "  'y': {'axis': 'y',\n",
       "   'extent': [-90, 90],\n",
       "   'reference_system': {'$schema': 'https://proj.org/schemas/v0.2/projjson.schema.json',\n",
       "    'area': 'World',\n",
       "    'base_crs': {'coordinate_system': {'axis': [{'abbreviation': 'Lat',\n",
       "        'direction': 'north',\n",
       "        'name': 'Geodetic latitude',\n",
       "        'unit': 'degree'},\n",
       "       {'abbreviation': 'Lon',\n",
       "        'direction': 'east',\n",
       "        'name': 'Geodetic longitude',\n",
       "        'unit': 'degree'}],\n",
       "      'subtype': 'ellipsoidal'},\n",
       "     'datum': {'ellipsoid': {'inverse_flattening': 298.257223563,\n",
       "       'name': 'WGS 84',\n",
       "       'semi_major_axis': 6378137},\n",
       "      'name': 'World Geodetic System 1984',\n",
       "      'type': 'GeodeticReferenceFrame'},\n",
       "     'name': 'WGS 84'},\n",
       "    'bbox': {'east_longitude': 180,\n",
       "     'north_latitude': 90,\n",
       "     'south_latitude': -90,\n",
       "     'west_longitude': -180},\n",
       "    'coordinate_system': {'axis': [{'abbreviation': 'E',\n",
       "       'direction': 'east',\n",
       "       'name': 'Easting',\n",
       "       'unit': 'metre'},\n",
       "      {'abbreviation': 'N',\n",
       "       'direction': 'north',\n",
       "       'name': 'Northing',\n",
       "       'unit': 'metre'}],\n",
       "     'subtype': 'Cartesian'},\n",
       "    'id': {'authority': 'OGC', 'code': 'Auto42001', 'version': '1.3'},\n",
       "    'name': 'AUTO 42001 (Universal Transverse Mercator)',\n",
       "    'type': 'ProjectedCRS'},\n",
       "   'type': 'spatial'}},\n",
       " 'datasource_type': 'byoc-ID',\n",
       " 'description': \"PlanetScope is one of the satellite constellation operated by Planet. PlanetScope satellite constellation consists of more than 130 small satellites called Doves. Each Dove satellite is a CubeSat made of three cubic units and thus measures only 10 cm x 10 cm x 30 cm. The satellites are launched in groups, which constantly improves mission's characteristics such as revisit times, spatial and spectral resolutions. The constellation is constantly on and does not require an acquisition planning. PlanetScope is commercial data and has to be ordered by the user\",\n",
       " 'extent': {'spatial': {'bbox': [[-180, -90, 180, 90]]},\n",
       "  'temporal': {'interval': [['2016-01-01T00:00:00Z', None]]}},\n",
       " 'id': 'PLANETSCOPE',\n",
       " 'keywords': ['sentinel hub', 'PlanetScope', 'vhr', 'commercial data'],\n",
       " 'license': 'various',\n",
       " 'links': [],\n",
       " 'providers': [{'description': '',\n",
       "   'name': 'Sentinel Hub',\n",
       "   'roles': ['processor'],\n",
       "   'url': 'https://docs.sentinel-hub.com/api/latest/data/planet-scope/'},\n",
       "  {'description': '',\n",
       "   'name': 'Planet',\n",
       "   'roles': ['producer'],\n",
       "   'url': 'https://www.planet.com/products/planet-imagery/'}],\n",
       " 'sci:citation': '© Planet (YYYY), contains PlanetScope data processed by Sentinel Hub',\n",
       " 'stac_extensions': ['datacube'],\n",
       " 'stac_version': '0.9.0',\n",
       " 'summaries': {'crs': ['http://www.opengis.net/def/crs/OGC/1.3/CRS84',\n",
       "   'http://www.opengis.net/def/crs/EPSG/0/2154',\n",
       "   'http://www.opengis.net/def/crs/EPSG/0/2180',\n",
       "   'http://www.opengis.net/def/crs/EPSG/0/2193',\n",
       "   'http://www.opengis.net/def/crs/EPSG/0/3003',\n",
       "   'http://www.opengis.net/def/crs/EPSG/0/3004',\n",
       "   'http://www.opengis.net/def/crs/EPSG/0/3031',\n",
       "   'http://www.opengis.net/def/crs/EPSG/0/3035',\n",
       "   'http://www.opengis.net/def/crs/EPSG/0/4326',\n",
       "   'http://www.opengis.net/def/crs/EPSG/0/4346',\n",
       "   'http://www.opengis.net/def/crs/EPSG/0/4416',\n",
       "   'http://www.opengis.net/def/crs/EPSG/0/4765',\n",
       "   'http://www.opengis.net/def/crs/EPSG/0/4794',\n",
       "   'http://www.opengis.net/def/crs/EPSG/0/4844',\n",
       "   'http://www.opengis.net/def/crs/EPSG/0/4857',\n",
       "   'http://www.opengis.net/def/crs/EPSG/0/3912',\n",
       "   'http://www.opengis.net/def/crs/EPSG/0/3995',\n",
       "   'http://www.opengis.net/def/crs/EPSG/0/4026',\n",
       "   'http://www.opengis.net/def/crs/EPSG/0/5514',\n",
       "   'http://www.opengis.net/def/crs/EPSG/0/28992',\n",
       "   'http://www.opengis.net/def/crs/EPSG/0/32601',\n",
       "   'http://www.opengis.net/def/crs/EPSG/0/32602',\n",
       "   'http://www.opengis.net/def/crs/EPSG/0/32603',\n",
       "   'http://www.opengis.net/def/crs/EPSG/0/32604',\n",
       "   'http://www.opengis.net/def/crs/EPSG/0/32605',\n",
       "   'http://www.opengis.net/def/crs/EPSG/0/32606',\n",
       "   'http://www.opengis.net/def/crs/EPSG/0/32607',\n",
       "   'http://www.opengis.net/def/crs/EPSG/0/32608',\n",
       "   'http://www.opengis.net/def/crs/EPSG/0/32609',\n",
       "   'http://www.opengis.net/def/crs/EPSG/0/32610',\n",
       "   'http://www.opengis.net/def/crs/EPSG/0/32611',\n",
       "   'http://www.opengis.net/def/crs/EPSG/0/32612',\n",
       "   'http://www.opengis.net/def/crs/EPSG/0/32613',\n",
       "   'http://www.opengis.net/def/crs/EPSG/0/32614',\n",
       "   'http://www.opengis.net/def/crs/EPSG/0/32615',\n",
       "   'http://www.opengis.net/def/crs/EPSG/0/32616',\n",
       "   'http://www.opengis.net/def/crs/EPSG/0/32617',\n",
       "   'http://www.opengis.net/def/crs/EPSG/0/32618',\n",
       "   'http://www.opengis.net/def/crs/EPSG/0/32619',\n",
       "   'http://www.opengis.net/def/crs/EPSG/0/32620',\n",
       "   'http://www.opengis.net/def/crs/EPSG/0/32621',\n",
       "   'http://www.opengis.net/def/crs/EPSG/0/32622',\n",
       "   'http://www.opengis.net/def/crs/EPSG/0/32623',\n",
       "   'http://www.opengis.net/def/crs/EPSG/0/32624',\n",
       "   'http://www.opengis.net/def/crs/EPSG/0/32625',\n",
       "   'http://www.opengis.net/def/crs/EPSG/0/32626',\n",
       "   'http://www.opengis.net/def/crs/EPSG/0/32627',\n",
       "   'http://www.opengis.net/def/crs/EPSG/0/32628',\n",
       "   'http://www.opengis.net/def/crs/EPSG/0/32629',\n",
       "   'http://www.opengis.net/def/crs/EPSG/0/32630',\n",
       "   'http://www.opengis.net/def/crs/EPSG/0/32631',\n",
       "   'http://www.opengis.net/def/crs/EPSG/0/32632',\n",
       "   'http://www.opengis.net/def/crs/EPSG/0/32633',\n",
       "   'http://www.opengis.net/def/crs/EPSG/0/32634',\n",
       "   'http://www.opengis.net/def/crs/EPSG/0/32635',\n",
       "   'http://www.opengis.net/def/crs/EPSG/0/32636',\n",
       "   'http://www.opengis.net/def/crs/EPSG/0/32637',\n",
       "   'http://www.opengis.net/def/crs/EPSG/0/32638',\n",
       "   'http://www.opengis.net/def/crs/EPSG/0/32639',\n",
       "   'http://www.opengis.net/def/crs/EPSG/0/32640',\n",
       "   'http://www.opengis.net/def/crs/EPSG/0/32641',\n",
       "   'http://www.opengis.net/def/crs/EPSG/0/32642',\n",
       "   'http://www.opengis.net/def/crs/EPSG/0/32643',\n",
       "   'http://www.opengis.net/def/crs/EPSG/0/32644',\n",
       "   'http://www.opengis.net/def/crs/EPSG/0/32645',\n",
       "   'http://www.opengis.net/def/crs/EPSG/0/32646',\n",
       "   'http://www.opengis.net/def/crs/EPSG/0/32647',\n",
       "   'http://www.opengis.net/def/crs/EPSG/0/32648',\n",
       "   'http://www.opengis.net/def/crs/EPSG/0/32649',\n",
       "   'http://www.opengis.net/def/crs/EPSG/0/32650',\n",
       "   'http://www.opengis.net/def/crs/EPSG/0/32651',\n",
       "   'http://www.opengis.net/def/crs/EPSG/0/32652',\n",
       "   'http://www.opengis.net/def/crs/EPSG/0/32653',\n",
       "   'http://www.opengis.net/def/crs/EPSG/0/32654',\n",
       "   'http://www.opengis.net/def/crs/EPSG/0/32655',\n",
       "   'http://www.opengis.net/def/crs/EPSG/0/32656',\n",
       "   'http://www.opengis.net/def/crs/EPSG/0/32657',\n",
       "   'http://www.opengis.net/def/crs/EPSG/0/32658',\n",
       "   'http://www.opengis.net/def/crs/EPSG/0/32659',\n",
       "   'http://www.opengis.net/def/crs/EPSG/0/32660',\n",
       "   'http://www.opengis.net/def/crs/EPSG/0/32701',\n",
       "   'http://www.opengis.net/def/crs/EPSG/0/32702',\n",
       "   'http://www.opengis.net/def/crs/EPSG/0/32703',\n",
       "   'http://www.opengis.net/def/crs/EPSG/0/32704',\n",
       "   'http://www.opengis.net/def/crs/EPSG/0/32705',\n",
       "   'http://www.opengis.net/def/crs/EPSG/0/32706',\n",
       "   'http://www.opengis.net/def/crs/EPSG/0/32707',\n",
       "   'http://www.opengis.net/def/crs/EPSG/0/32708',\n",
       "   'http://www.opengis.net/def/crs/EPSG/0/32709',\n",
       "   'http://www.opengis.net/def/crs/EPSG/0/32710',\n",
       "   'http://www.opengis.net/def/crs/EPSG/0/32711',\n",
       "   'http://www.opengis.net/def/crs/EPSG/0/32712',\n",
       "   'http://www.opengis.net/def/crs/EPSG/0/32713',\n",
       "   'http://www.opengis.net/def/crs/EPSG/0/32714',\n",
       "   'http://www.opengis.net/def/crs/EPSG/0/32715',\n",
       "   'http://www.opengis.net/def/crs/EPSG/0/32716',\n",
       "   'http://www.opengis.net/def/crs/EPSG/0/32717',\n",
       "   'http://www.opengis.net/def/crs/EPSG/0/32718',\n",
       "   'http://www.opengis.net/def/crs/EPSG/0/32719',\n",
       "   'http://www.opengis.net/def/crs/EPSG/0/32720',\n",
       "   'http://www.opengis.net/def/crs/EPSG/0/32721',\n",
       "   'http://www.opengis.net/def/crs/EPSG/0/32722',\n",
       "   'http://www.opengis.net/def/crs/EPSG/0/32723',\n",
       "   'http://www.opengis.net/def/crs/EPSG/0/32724',\n",
       "   'http://www.opengis.net/def/crs/EPSG/0/32725',\n",
       "   'http://www.opengis.net/def/crs/EPSG/0/32726',\n",
       "   'http://www.opengis.net/def/crs/EPSG/0/32727',\n",
       "   'http://www.opengis.net/def/crs/EPSG/0/32728',\n",
       "   'http://www.opengis.net/def/crs/EPSG/0/32729',\n",
       "   'http://www.opengis.net/def/crs/EPSG/0/32730',\n",
       "   'http://www.opengis.net/def/crs/EPSG/0/32731',\n",
       "   'http://www.opengis.net/def/crs/EPSG/0/32732',\n",
       "   'http://www.opengis.net/def/crs/EPSG/0/32733',\n",
       "   'http://www.opengis.net/def/crs/EPSG/0/32734',\n",
       "   'http://www.opengis.net/def/crs/EPSG/0/32735',\n",
       "   'http://www.opengis.net/def/crs/EPSG/0/32736',\n",
       "   'http://www.opengis.net/def/crs/EPSG/0/32737',\n",
       "   'http://www.opengis.net/def/crs/EPSG/0/32738',\n",
       "   'http://www.opengis.net/def/crs/EPSG/0/32739',\n",
       "   'http://www.opengis.net/def/crs/EPSG/0/32740',\n",
       "   'http://www.opengis.net/def/crs/EPSG/0/32741',\n",
       "   'http://www.opengis.net/def/crs/EPSG/0/32742',\n",
       "   'http://www.opengis.net/def/crs/EPSG/0/32743',\n",
       "   'http://www.opengis.net/def/crs/EPSG/0/32744',\n",
       "   'http://www.opengis.net/def/crs/EPSG/0/32745',\n",
       "   'http://www.opengis.net/def/crs/EPSG/0/32746',\n",
       "   'http://www.opengis.net/def/crs/EPSG/0/32746',\n",
       "   'http://www.opengis.net/def/crs/EPSG/0/32748',\n",
       "   'http://www.opengis.net/def/crs/EPSG/0/32749',\n",
       "   'http://www.opengis.net/def/crs/EPSG/0/32750',\n",
       "   'http://www.opengis.net/def/crs/EPSG/0/32751',\n",
       "   'http://www.opengis.net/def/crs/EPSG/0/32752',\n",
       "   'http://www.opengis.net/def/crs/EPSG/0/32753',\n",
       "   'http://www.opengis.net/def/crs/EPSG/0/32754',\n",
       "   'http://www.opengis.net/def/crs/EPSG/0/32755',\n",
       "   'http://www.opengis.net/def/crs/EPSG/0/32756',\n",
       "   'http://www.opengis.net/def/crs/EPSG/0/32757',\n",
       "   'http://www.opengis.net/def/crs/EPSG/0/32758',\n",
       "   'http://www.opengis.net/def/crs/EPSG/0/32759',\n",
       "   'http://www.opengis.net/def/crs/EPSG/0/32760',\n",
       "   'http://www.opengis.net/def/crs/SR-ORG/0/98739'],\n",
       "  'eo:bands': [{'center_wavelength': 0.485,\n",
       "    'common_name': 'blue',\n",
       "    'description': 'Blue (485 nm)',\n",
       "    'full_width_half_max': 0.3,\n",
       "    'name': 'B1',\n",
       "    'openeo:gsd': {'unit': 'm', 'value': [3, 3]}},\n",
       "   {'center_wavelength': 0.545,\n",
       "    'common_name': 'green',\n",
       "    'description': 'Green (545 nm)',\n",
       "    'full_width_half_max': 0.45,\n",
       "    'name': 'B2',\n",
       "    'openeo:gsd': {'unit': 'm', 'value': [3, 3]}},\n",
       "   {'center_wavelength': 0.63,\n",
       "    'common_name': 'red',\n",
       "    'description': 'Red (630 nm)',\n",
       "    'full_width_half_max': 0.4,\n",
       "    'name': 'B3',\n",
       "    'openeo:gsd': {'unit': 'm', 'value': [3, 3]}},\n",
       "   {'center_wavelength': 0.82,\n",
       "    'common_name': 'nir08',\n",
       "    'description': 'Near Infrared (820 nm)',\n",
       "    'full_width_half_max': 0.4,\n",
       "    'name': 'B4',\n",
       "    'openeo:gsd': {'unit': 'm', 'value': [3, 3]}},\n",
       "   {'description': 'Unusable Data Mask',\n",
       "    'name': 'UDM',\n",
       "    'openeo:gsd': {'unit': 'm', 'value': [3, 3]}},\n",
       "   {'description': 'Usable Data mask - Clear mask',\n",
       "    'name': 'UDM2_Clear',\n",
       "    'openeo:gsd': {'unit': 'm', 'value': [3, 3]}},\n",
       "   {'description': 'Usable Data mask - Snow mask',\n",
       "    'name': 'UDM2_Snow',\n",
       "    'openeo:gsd': {'unit': 'm', 'value': [3, 3]}},\n",
       "   {'description': 'Usable Data mask - Shadow mask',\n",
       "    'name': 'UDM2_Shadow',\n",
       "    'openeo:gsd': {'unit': 'm', 'value': [3, 3]}},\n",
       "   {'description': 'Usable Data mask - Light haze mask',\n",
       "    'name': 'UDM2_LightHaze',\n",
       "    'openeo:gsd': {'unit': 'm', 'value': [3, 3]}},\n",
       "   {'description': 'Usable Data mask - Heavy haze mask',\n",
       "    'name': 'UDM2_HeavyHaze',\n",
       "    'openeo:gsd': {'unit': 'm', 'value': [3, 3]}},\n",
       "   {'description': 'Usable Data mask - Cloud mask',\n",
       "    'name': 'UDM2_Cloud',\n",
       "    'openeo:gsd': {'unit': 'm', 'value': [3, 3]}},\n",
       "   {'description': 'Usable Data mask - Confidence map',\n",
       "    'name': 'UDM2_Confidence',\n",
       "    'openeo:gsd': {'unit': 'm', 'value': [3, 3]}},\n",
       "   {'description': 'The mask of data/no data pixels', 'name': 'dataMask'}]},\n",
       " 'title': 'PlanetScope'}"
      ]
     },
     "execution_count": 9,
     "metadata": {},
     "output_type": "execute_result"
    }
   ],
   "source": [
    "connection.describe_collection(\"PLANETSCOPE\")"
   ]
  },
  {
   "cell_type": "markdown",
   "id": "117c3021",
   "metadata": {},
   "source": [
    "It is required to use a specific FeatureFlag denominated **BYOC** (Bring your own collection). It is read from a textfile that cannot be shared publicly.  This means that this notebook is not reproducible for all users without the BYOC code for this data cube. "
   ]
  },
  {
   "cell_type": "code",
   "execution_count": 10,
   "id": "f6ca4bb5",
   "metadata": {},
   "outputs": [],
   "source": [
    "byoc_id_file = \"extdata/byoc.txt\"\n",
    "byoc_id  = open(byoc_id_file,\"r\").read().splitlines()[0]"
   ]
  },
  {
   "cell_type": "markdown",
   "id": "f35112f8",
   "metadata": {},
   "source": [
    "### External Data"
   ]
  },
  {
   "cell_type": "markdown",
   "id": "88c02782",
   "metadata": {},
   "source": [
    "In order to process all the test sites a shapefile is read containing the boundaries of the smaller test areas. We applied a 0.0001° buffer in order to obtain all Pixels in the test sites"
   ]
  },
  {
   "cell_type": "code",
   "execution_count": 11,
   "id": "102f876c",
   "metadata": {
    "scrolled": true
   },
   "outputs": [
    {
     "name": "stderr",
     "output_type": "stream",
     "text": [
      "/tmp/ipykernel_7591/505307699.py:3: UserWarning: Geometry is in a geographic CRS. Results from 'buffer' are likely incorrect. Use 'GeoSeries.to_crs()' to re-project geometries to a projected CRS before this operation.\n",
      "\n",
      "  aoi_buffered_geometries = aoi_geometries.buffer(0.0001)\n"
     ]
    },
    {
     "data": {
      "text/plain": [
       "0      POLYGON ((7.79031 50.30665, 7.79030 50.30665, ...\n",
       "1      POLYGON ((11.89106 43.92545, 11.89105 43.92545...\n",
       "2      POLYGON ((7.23700 49.18974, 7.23699 49.18974, ...\n",
       "3      POLYGON ((7.51359 49.47334, 7.51358 49.47334, ...\n",
       "4      POLYGON ((16.97810 46.88940, 16.97809 46.88940...\n",
       "                             ...                        \n",
       "145    POLYGON ((9.95005 47.03182, 9.95004 47.03182, ...\n",
       "146    POLYGON ((12.25466 44.82748, 12.25465 44.82748...\n",
       "147    POLYGON ((6.84307 43.52251, 6.84306 43.52251, ...\n",
       "148    POLYGON ((12.08926 44.18149, 12.08925 44.18149...\n",
       "149    POLYGON ((4.69950 43.55341, 4.69949 43.55341, ...\n",
       "Length: 150, dtype: geometry"
      ]
     },
     "execution_count": 11,
     "metadata": {},
     "output_type": "execute_result"
    }
   ],
   "source": [
    "shp_path = \"./resources/UC8/vector_data/SuitableSitesVHR_selected_country.shp\"\n",
    "aoi_geometries = gpd.read_file(shp_path)\n",
    "aoi_buffered_geometries = aoi_geometries.buffer(0.0001)\n",
    "aoi_buffered_geometries"
   ]
  },
  {
   "cell_type": "code",
   "execution_count": 12,
   "id": "0c0dc81e",
   "metadata": {},
   "outputs": [
    {
     "name": "stdout",
     "output_type": "stream",
     "text": [
      "Bounds of the first considered AOI in lat/lon (WGS84):  [ 7.79003931 50.30665141  7.79601901 50.310554  ]\n"
     ]
    }
   ],
   "source": [
    "aois_bounds = aoi_buffered_geometries.bounds.to_numpy()\n",
    "print(\"Bounds of the first considered AOI in lat/lon (WGS84): \",aois_bounds[0])"
   ]
  },
  {
   "cell_type": "markdown",
   "id": "410c96c2",
   "metadata": {},
   "source": [
    "### Connect to VHR data"
   ]
  },
  {
   "cell_type": "markdown",
   "id": "bee0e3fe",
   "metadata": {},
   "source": [
    "In this exemplary Notebook the target variable is calculated for the first test site in Germany for the year 2018"
   ]
  },
  {
   "cell_type": "code",
   "execution_count": 13,
   "id": "f6cdd68c",
   "metadata": {},
   "outputs": [],
   "source": [
    "aoi0_bounds = aois_bounds[0]\n",
    "year = 2018"
   ]
  },
  {
   "cell_type": "markdown",
   "id": "8ba71357",
   "metadata": {},
   "source": [
    "It might be difficult to use  to properly distinguish between forests and other land cover classes, especially those that also represent vegetation such as crops or grasslands. *Yang et al. (2019)* showed a nice representation of standardized forest NDVI signatures that nicely show the seasonal trend within a year based on different forest types. There are several time intervals of interest when generating a forest mask. Due to the high frequency of revisits by the `PLANETSCOPE` satellites each time interval is represented multiple times with several images. The time intervals of interest are:\n",
    "- **summer_time**: Time of the maximum productivity of vegetation from mid April to mid September\n",
    "- **winter_time**: Time of the minimum productivity of vegetation from mid November to mid February\n",
    "- **annual_time**: The whole year range\n",
    "- **total_time**: Takes into account the **annual_year** as well as some shoulder values in Winter (until mid-february the following year)"
   ]
  },
  {
   "cell_type": "code",
   "execution_count": 14,
   "id": "50e142f1",
   "metadata": {},
   "outputs": [],
   "source": [
    "summer_time =  [np.datetime64(str(year)+\"-04-15\"),np.datetime64(str(year)+\"-09-15\")]\n",
    "winter_time =  [np.datetime64(str(year)+\"-11-15\"),np.datetime64(str(year+1)+\"-02-15\")]\n",
    "annual_time =  [np.datetime64(str(year)+\"-01-01\"),np.datetime64(str(year)+\"-12-31\")]\n",
    "total_time  =  [np.datetime64(str(year)+\"-01-01\"),np.datetime64(str(year+1)+\"-02-15\")]"
   ]
  },
  {
   "cell_type": "markdown",
   "id": "5968c664",
   "metadata": {},
   "source": [
    "The `PLANETSCOPE` data is loaded primarily for **total_time** before the NDVI is calculated. Afterwards a clear-sky mask is applied to exclude all Pixel that are altered by clouds, haze and other atmospheric effects."
   ]
  },
  {
   "cell_type": "code",
   "execution_count": 15,
   "id": "83d02172",
   "metadata": {},
   "outputs": [],
   "source": [
    "plnt = connection.load_collection(\n",
    "    collection_id  = \"PLANETSCOPE\",\n",
    "    spatial_extent = {\"west\": aoi0_bounds[0], \n",
    "                      \"south\": aoi0_bounds[1], \n",
    "                      \"east\": aoi0_bounds[2], \n",
    "                      \"north\": aoi0_bounds[3]},\n",
    "    temporal_extent= [str(total_time[0]), str(total_time[1])]\n",
    "    )\n",
    "plnt._pg.arguments['featureflags'] = {'byoc_collection_id': byoc_id}\n",
    "\n",
    "plnt_ndvi = plnt.ndvi(nir=\"B4\",red=\"B3\")\n",
    "mask      = plnt.band(\"UDM2_Clear\").apply(lambda x: x.neq(1))\n",
    "plnt_ndvi_msk = plnt_ndvi.mask(mask=mask)"
   ]
  },
  {
   "cell_type": "markdown",
   "id": "5a37ede6",
   "metadata": {},
   "source": [
    "### Create Seasonal masks"
   ]
  },
  {
   "cell_type": "markdown",
   "id": "81f4231f",
   "metadata": {},
   "source": [
    "In this step the **summer_time** is applied to the data using the `filter_temporal` process. For analysing the whole summer period based on `median` and `sd` metrics, the `reduce_dimension` process is used on the *t* dimension.\n",
    "\n",
    "We calculate two indicators important for the mask generation:\n",
    "- **s_msk_med_hig**: Median summer NDVI above 0.6\n",
    "- **s_msk_sd_low**: Summer NDVI standard deviation below 0.1"
   ]
  },
  {
   "cell_type": "code",
   "execution_count": 16,
   "id": "99c1744f",
   "metadata": {},
   "outputs": [],
   "source": [
    "summer_time =  [np.datetime64(str(year)+\"-04-15\"),np.datetime64(str(year)+\"-09-15\")]\n",
    "plnt_summer =  plnt_ndvi_msk.filter_temporal(extent= [str(summer_time[0]), str(summer_time[1])])\n",
    "\n",
    "s_msk_med     = plnt_summer.reduce_dimension(dimension='t',reducer=median)\n",
    "s_msk_med_hig = s_msk_med > 0.6\n",
    "\n",
    "s_msk_sd      = plnt_summer.reduce_dimension(dimension='t',reducer=sd)\n",
    "s_msk_sd_low  = s_msk_sd < 0.1"
   ]
  },
  {
   "cell_type": "markdown",
   "id": "b1e31f9c",
   "metadata": {},
   "source": [
    "In this step the **winter_time** is applied to the data using the `filter_temporal` process. For analysing the whole summer period based on `median` metric, the `reduce_dimension` process is used on the *t* dimension.\n",
    "\n",
    "Here we calculate two indicators important for the mask generation:\n",
    "- **w_msk_med_hig**: Median summer NDVI above 0.6\n",
    "- **w_msk_med_low**: Median summer NDVI between 0 and 0.4"
   ]
  },
  {
   "cell_type": "code",
   "execution_count": 17,
   "id": "9d2a0e11",
   "metadata": {},
   "outputs": [],
   "source": [
    "winter_time =  [np.datetime64(str(year)+\"-11-15\"),np.datetime64(str(year+1)+\"-02-15\")]\n",
    "plnt_winter =  plnt_ndvi_msk.filter_temporal(extent= [str(winter_time[0]), str(winter_time[1])])\n",
    "\n",
    "w_msk_med     = plnt_winter.reduce_dimension(dimension='t',reducer=median)\n",
    "w_msk_med_hig = w_msk_med > 0.6\n",
    "\n",
    "w_low_upper   = w_msk_med < 0.4\n",
    "w_low_lower   = w_msk_med > 0\n",
    "w_msk_med_low = w_low_upper * w_low_lower"
   ]
  },
  {
   "cell_type": "markdown",
   "id": "c59110a1",
   "metadata": {},
   "source": [
    "In this step the **year_time** is applied to the data using the `filter_temporal` process. For analysing the whole summer period based on `median` metric, the `reduce_dimension` process is used on the *t* dimension.\n",
    "\n",
    "Here we calculate two indicators important for the mask generation:\n",
    "- **y_msk_med_hig**: Median yearly NDVI above 0.6"
   ]
  },
  {
   "cell_type": "code",
   "execution_count": 18,
   "id": "c6cc8446",
   "metadata": {},
   "outputs": [],
   "source": [
    "annual_time =  [np.datetime64(str(year)+\"-01-01\"),np.datetime64(str(year)+\"-12-31\")]\n",
    "plnt_year   =  plnt_ndvi_msk.filter_temporal(extent= [str(annual_time[0]), str(annual_time[1])])\n",
    "\n",
    "y_msk_med     = plnt_year.reduce_dimension(dimension='t',reducer=median)\n",
    "y_msk_med_hig = y_msk_med > 0.6"
   ]
  },
  {
   "cell_type": "markdown",
   "id": "3bd773ad",
   "metadata": {
    "tags": []
   },
   "source": [
    "### Create thematic masks"
   ]
  },
  {
   "cell_type": "markdown",
   "id": "c349c591",
   "metadata": {},
   "source": [
    "Based on the **seasonal_masks** also thematic ones are created:\n",
    "\n",
    "- **f_evergreen_mask**: A mask with high summer and high winter values typically for evergreen (conifer) forests\n",
    "- **f_deciduous_mask**: A mask with high summer and very low winter values typically hinting at deciduous forests\n",
    "- **f_mixed_mask**: Mixed forests typically have a high yearly and high summer value but are the most difficult to spot. This mask sustains the other to exlude other vegetation types"
   ]
  },
  {
   "cell_type": "code",
   "execution_count": 19,
   "id": "1e608076",
   "metadata": {},
   "outputs": [],
   "source": [
    "f_evergreen_mask  = s_msk_med_hig * w_msk_med_hig\n",
    "f_deciduous_mask  = s_msk_med_hig * w_msk_med_low\n",
    "f_mixed_mask      = y_msk_med_hig * s_msk_med_hig"
   ]
  },
  {
   "cell_type": "markdown",
   "id": "9f544378",
   "metadata": {},
   "source": [
    "Finally the masks are being combined to a final forest canopy cover mask with th following criteria:\n",
    "- **cmask_forest**: Estimates whether it is either an evergreen, deciduous forest or mixed (or multiple of those)\n",
    "- **cmask_forest_error**: Excludes Pixel with a high standard deviation in summer. These are often hinting at management processes typical for crops and grassland vegetation"
   ]
  },
  {
   "cell_type": "code",
   "execution_count": 20,
   "id": "e412d68f",
   "metadata": {},
   "outputs": [],
   "source": [
    "cmask_forest = f_evergreen_mask + f_deciduous_mask + f_mixed_mask\n",
    "cmask_forest = cmask_forest > 0\n",
    "cmask_forest_sd = cmask_forest * s_msk_sd_low"
   ]
  },
  {
   "cell_type": "markdown",
   "id": "0334011a",
   "metadata": {
    "tags": []
   },
   "source": [
    "### Resample"
   ]
  },
  {
   "cell_type": "markdown",
   "id": "0a80e2e1",
   "metadata": {},
   "source": [
    "The target variable will be resampled to 60m. The output pixels will be the result of the average over 20 x 20 (400) Planet pixels, since the Planet pixel size is 3 meters.\n",
    "\n",
    "The 60m x 60m unit area corresponds to 6x6 (36) Sentinel-2 pixels with 10 meters resolution and 3x3 (9) Sentinel-1 pixels with 20m resolution.\n",
    "\n",
    "This allows for a more stable estimation of the target variable during the random Forest regression"
   ]
  },
  {
   "cell_type": "code",
   "execution_count": 21,
   "id": "77a628aa",
   "metadata": {},
   "outputs": [],
   "source": [
    "test_res = cmask_forest_sd.resample_spatial(resolution=60,method=\"average\")\n",
    "res_save = test_res.save_result(format=\"NetCDF\")"
   ]
  },
  {
   "cell_type": "code",
   "execution_count": 22,
   "id": "657949d3",
   "metadata": {},
   "outputs": [],
   "source": [
    "job = res_save.create_job(title = \"VH0_result_Resample60_average_lps\")\n",
    "job.start_job()"
   ]
  },
  {
   "cell_type": "code",
   "execution_count": 24,
   "id": "902e174a",
   "metadata": {},
   "outputs": [
    {
     "data": {
      "text/html": [
       "\n",
       "    <script>\n",
       "    if (!window.customElements || !window.customElements.get('openeo-job')) {\n",
       "        var el = document.createElement('script');\n",
       "        el.src = \"https://cdn.jsdelivr.net/npm/@openeo/vue-components@2/assets/openeo.min.js\";\n",
       "        document.head.appendChild(el);\n",
       "\n",
       "        var font = document.createElement('font');\n",
       "        font.as = \"font\";\n",
       "        font.type = \"font/woff2\";\n",
       "        font.crossOrigin = true;\n",
       "        font.href = \"https://use.fontawesome.com/releases/v5.13.0/webfonts/fa-solid-900.woff2\"\n",
       "        document.head.appendChild(font);\n",
       "    }\n",
       "    </script>\n",
       "    <openeo-job>\n",
       "        <script type=\"application/json\">{\"currency\": \"EUR\", \"job\": {\"created\": \"2022-05-18T08:05:29Z\", \"id\": \"vito-17416247-bedb-44d8-8a95-99d633ad0470\", \"process\": {\"process_graph\": {\"apply1\": {\"arguments\": {\"data\": {\"from_node\": \"reducedimension1\"}, \"process\": {\"process_graph\": {\"neq1\": {\"arguments\": {\"x\": {\"from_parameter\": \"x\"}, \"y\": 1}, \"process_id\": \"neq\", \"result\": true}}}}, \"process_id\": \"apply\"}, \"apply2\": {\"arguments\": {\"data\": {\"from_node\": \"reducedimension2\"}, \"process\": {\"process_graph\": {\"gt1\": {\"arguments\": {\"x\": {\"from_parameter\": \"x\"}, \"y\": 0.6}, \"process_id\": \"gt\", \"result\": true}}}}, \"process_id\": \"apply\"}, \"apply3\": {\"arguments\": {\"data\": {\"from_node\": \"reducedimension3\"}, \"process\": {\"process_graph\": {\"gt2\": {\"arguments\": {\"x\": {\"from_parameter\": \"x\"}, \"y\": 0.6}, \"process_id\": \"gt\", \"result\": true}}}}, \"process_id\": \"apply\"}, \"apply4\": {\"arguments\": {\"data\": {\"from_node\": \"reducedimension3\"}, \"process\": {\"process_graph\": {\"lt1\": {\"arguments\": {\"x\": {\"from_parameter\": \"x\"}, \"y\": 0.4}, \"process_id\": \"lt\", \"result\": true}}}}, \"process_id\": \"apply\"}, \"apply5\": {\"arguments\": {\"data\": {\"from_node\": \"reducedimension3\"}, \"process\": {\"process_graph\": {\"gt3\": {\"arguments\": {\"x\": {\"from_parameter\": \"x\"}, \"y\": 0}, \"process_id\": \"gt\", \"result\": true}}}}, \"process_id\": \"apply\"}, \"apply6\": {\"arguments\": {\"data\": {\"from_node\": \"reducedimension4\"}, \"process\": {\"process_graph\": {\"gt4\": {\"arguments\": {\"x\": {\"from_parameter\": \"x\"}, \"y\": 0.6}, \"process_id\": \"gt\", \"result\": true}}}}, \"process_id\": \"apply\"}, \"apply7\": {\"arguments\": {\"data\": {\"from_node\": \"mergecubes6\"}, \"process\": {\"process_graph\": {\"gt5\": {\"arguments\": {\"x\": {\"from_parameter\": \"x\"}, \"y\": 0}, \"process_id\": \"gt\", \"result\": true}}}}, \"process_id\": \"apply\"}, \"apply8\": {\"arguments\": {\"data\": {\"from_node\": \"reducedimension5\"}, \"process\": {\"process_graph\": {\"lt2\": {\"arguments\": {\"x\": {\"from_parameter\": \"x\"}, \"y\": 0.1}, \"process_id\": \"lt\", \"result\": true}}}}, \"process_id\": \"apply\"}, \"filtertemporal1\": {\"arguments\": {\"data\": {\"from_node\": \"mask1\"}, \"extent\": [\"2018-04-15\", \"2018-09-15\"]}, \"process_id\": \"filter_temporal\"}, \"filtertemporal2\": {\"arguments\": {\"data\": {\"from_node\": \"mask1\"}, \"extent\": [\"2018-11-15\", \"2019-02-15\"]}, \"process_id\": \"filter_temporal\"}, \"filtertemporal3\": {\"arguments\": {\"data\": {\"from_node\": \"mask1\"}, \"extent\": [\"2018-01-01\", \"2018-12-31\"]}, \"process_id\": \"filter_temporal\"}, \"loadcollection1\": {\"arguments\": {\"featureflags\": {\"byoc_collection_id\": \"byoc-b0e9c853-52a9-43b3-b1a0-14980815e289\"}, \"id\": \"PLANETSCOPE\", \"spatial_extent\": {\"east\": 7.796019014812819, \"north\": 50.31055399966784, \"south\": 50.30665140881424, \"west\": 7.790039311009943}, \"temporal_extent\": [\"2018-01-01\", \"2019-02-15\"]}, \"process_id\": \"load_collection\"}, \"mask1\": {\"arguments\": {\"data\": {\"from_node\": \"ndvi1\"}, \"mask\": {\"from_node\": \"apply1\"}}, \"process_id\": \"mask\"}, \"mergecubes1\": {\"arguments\": {\"cube1\": {\"from_node\": \"apply2\"}, \"cube2\": {\"from_node\": \"apply3\"}, \"overlap_resolver\": {\"process_graph\": {\"multiply1\": {\"arguments\": {\"x\": {\"from_parameter\": \"x\"}, \"y\": {\"from_parameter\": \"y\"}}, \"process_id\": \"multiply\", \"result\": true}}}}, \"process_id\": \"merge_cubes\"}, \"mergecubes2\": {\"arguments\": {\"cube1\": {\"from_node\": \"apply4\"}, \"cube2\": {\"from_node\": \"apply5\"}, \"overlap_resolver\": {\"process_graph\": {\"multiply2\": {\"arguments\": {\"x\": {\"from_parameter\": \"x\"}, \"y\": {\"from_parameter\": \"y\"}}, \"process_id\": \"multiply\", \"result\": true}}}}, \"process_id\": \"merge_cubes\"}, \"mergecubes3\": {\"arguments\": {\"cube1\": {\"from_node\": \"apply2\"}, \"cube2\": {\"from_node\": \"mergecubes2\"}, \"overlap_resolver\": {\"process_graph\": {\"multiply3\": {\"arguments\": {\"x\": {\"from_parameter\": \"x\"}, \"y\": {\"from_parameter\": \"y\"}}, \"process_id\": \"multiply\", \"result\": true}}}}, \"process_id\": \"merge_cubes\"}, \"mergecubes4\": {\"arguments\": {\"cube1\": {\"from_node\": \"mergecubes1\"}, \"cube2\": {\"from_node\": \"mergecubes3\"}, \"overlap_resolver\": {\"process_graph\": {\"add1\": {\"arguments\": {\"x\": {\"from_parameter\": \"x\"}, \"y\": {\"from_parameter\": \"y\"}}, \"process_id\": \"add\", \"result\": true}}}}, \"process_id\": \"merge_cubes\"}, \"mergecubes5\": {\"arguments\": {\"cube1\": {\"from_node\": \"apply6\"}, \"cube2\": {\"from_node\": \"apply2\"}, \"overlap_resolver\": {\"process_graph\": {\"multiply4\": {\"arguments\": {\"x\": {\"from_parameter\": \"x\"}, \"y\": {\"from_parameter\": \"y\"}}, \"process_id\": \"multiply\", \"result\": true}}}}, \"process_id\": \"merge_cubes\"}, \"mergecubes6\": {\"arguments\": {\"cube1\": {\"from_node\": \"mergecubes4\"}, \"cube2\": {\"from_node\": \"mergecubes5\"}, \"overlap_resolver\": {\"process_graph\": {\"add2\": {\"arguments\": {\"x\": {\"from_parameter\": \"x\"}, \"y\": {\"from_parameter\": \"y\"}}, \"process_id\": \"add\", \"result\": true}}}}, \"process_id\": \"merge_cubes\"}, \"mergecubes7\": {\"arguments\": {\"cube1\": {\"from_node\": \"apply7\"}, \"cube2\": {\"from_node\": \"apply8\"}, \"overlap_resolver\": {\"process_graph\": {\"multiply5\": {\"arguments\": {\"x\": {\"from_parameter\": \"x\"}, \"y\": {\"from_parameter\": \"y\"}}, \"process_id\": \"multiply\", \"result\": true}}}}, \"process_id\": \"merge_cubes\"}, \"ndvi1\": {\"arguments\": {\"data\": {\"from_node\": \"loadcollection1\"}, \"nir\": \"B4\", \"red\": \"B3\"}, \"process_id\": \"ndvi\"}, \"reducedimension1\": {\"arguments\": {\"data\": {\"from_node\": \"loadcollection1\"}, \"dimension\": \"bands\", \"reducer\": {\"process_graph\": {\"arrayelement1\": {\"arguments\": {\"data\": {\"from_parameter\": \"data\"}, \"index\": 5}, \"process_id\": \"array_element\", \"result\": true}}}}, \"process_id\": \"reduce_dimension\"}, \"reducedimension2\": {\"arguments\": {\"data\": {\"from_node\": \"filtertemporal1\"}, \"dimension\": \"t\", \"reducer\": {\"process_graph\": {\"median1\": {\"arguments\": {\"data\": {\"from_parameter\": \"data\"}}, \"process_id\": \"median\", \"result\": true}}}}, \"process_id\": \"reduce_dimension\"}, \"reducedimension3\": {\"arguments\": {\"data\": {\"from_node\": \"filtertemporal2\"}, \"dimension\": \"t\", \"reducer\": {\"process_graph\": {\"median2\": {\"arguments\": {\"data\": {\"from_parameter\": \"data\"}}, \"process_id\": \"median\", \"result\": true}}}}, \"process_id\": \"reduce_dimension\"}, \"reducedimension4\": {\"arguments\": {\"data\": {\"from_node\": \"filtertemporal3\"}, \"dimension\": \"t\", \"reducer\": {\"process_graph\": {\"median3\": {\"arguments\": {\"data\": {\"from_parameter\": \"data\"}}, \"process_id\": \"median\", \"result\": true}}}}, \"process_id\": \"reduce_dimension\"}, \"reducedimension5\": {\"arguments\": {\"data\": {\"from_node\": \"filtertemporal1\"}, \"dimension\": \"t\", \"reducer\": {\"process_graph\": {\"sd1\": {\"arguments\": {\"data\": {\"from_parameter\": \"data\"}}, \"process_id\": \"sd\", \"result\": true}}}}, \"process_id\": \"reduce_dimension\"}, \"resamplespatial1\": {\"arguments\": {\"align\": \"upper-left\", \"data\": {\"from_node\": \"mergecubes7\"}, \"method\": \"average\", \"projection\": null, \"resolution\": 60}, \"process_id\": \"resample_spatial\"}, \"saveresult1\": {\"arguments\": {\"data\": {\"from_node\": \"resamplespatial1\"}, \"format\": \"NetCDF\", \"options\": {}}, \"process_id\": \"save_result\", \"result\": true}}}, \"status\": \"finished\", \"title\": \"VH0_result_Resample60_average_lps\", \"updated\": \"2022-05-18T08:06:01Z\", \"usage\": {\"cpu\": {\"unit\": \"cpu-seconds\", \"value\": 115409}, \"duration\": {\"unit\": \"seconds\", \"value\": 377}, \"memory\": {\"unit\": \"mb-seconds\", \"value\": 294748659}, \"sentinelhub\": {\"unit\": \"sentinelhub_processing_unit\", \"value\": 2856.0}}}}</script>\n",
       "    </openeo-job>\n",
       "    "
      ],
      "text/plain": [
       "<RESTJob job_id='vito-17416247-bedb-44d8-8a95-99d633ad0470'>"
      ]
     },
     "execution_count": 24,
     "metadata": {},
     "output_type": "execute_result"
    }
   ],
   "source": [
    "# job = \"vito-17416247-bedb-44d8-8a95-99d633ad0470\"\n",
    "job"
   ]
  },
  {
   "cell_type": "code",
   "execution_count": null,
   "id": "b0f836da-cc06-4761-9720-5695a7e14b98",
   "metadata": {},
   "outputs": [],
   "source": [
    "results = job.get_results()\n",
    "results.download_files(\"./resources/UC8/canopy_cover_masks/AOI0/\")"
   ]
  },
  {
   "cell_type": "markdown",
   "id": "012c56cc",
   "metadata": {},
   "source": [
    "### Conversion to Vector"
   ]
  },
  {
   "cell_type": "markdown",
   "id": "cced8088",
   "metadata": {},
   "source": [
    "After this last step the NetCDF containing the resampled information about the fractional canopy cover is converted to a vector-based GeoJSON file where each pixel is represented by a different Polygon. This allows to use it as Input file for the extracting the training samples needed for the random Forest regression"
   ]
  },
  {
   "cell_type": "markdown",
   "id": "63a8ffce",
   "metadata": {},
   "source": [
    "## 2. Training of the model"
   ]
  },
  {
   "cell_type": "markdown",
   "id": "fda69009",
   "metadata": {},
   "source": [
    "In a first step we have to connect to a different OpenEO environment. As some functionalities are currently under heavy development they are not yet deployed on the live back-end. This will occur soon after the Living planet symposium when all the remaining uncertainties were tackled"
   ]
  },
  {
   "cell_type": "code",
   "execution_count": 25,
   "id": "2b7b793c",
   "metadata": {},
   "outputs": [
    {
     "name": "stdout",
     "output_type": "stream",
     "text": [
      "Authenticated using refresh token.\n"
     ]
    },
    {
     "data": {
      "text/plain": [
       "<Connection to 'https://openeo-dev.eodc.eu/v1.0' with OidcBearerAuth>"
      ]
     },
     "execution_count": 25,
     "metadata": {},
     "output_type": "execute_result"
    }
   ],
   "source": [
    "conn = openeo.connect(\"https://openeo-dev.eodc.eu/v1.0\")\n",
    "#conn = openeo.connect(\"https://openeo.eodc.eu/v1.0\")\n",
    "conn.authenticate_oidc(\"egi\")\n",
    "#conn = connection\n",
    "conn"
   ]
  },
  {
   "cell_type": "markdown",
   "id": "57b1eb8d",
   "metadata": {},
   "source": [
    "### Target and Predictors"
   ]
  },
  {
   "cell_type": "markdown",
   "id": "43ced6b7",
   "metadata": {},
   "source": [
    "The total area covers around 150 AOIs. As the aggregate spatial process is computationally intensive, we distributed the 150 AOIs into 5 jobs in order to create 5 vector cubes using the aggregate spatial process. Afterwards we can merge the 5 vector cubes together. s\n",
    "At the moment this process is still in development to allow a user to bypass the splitting of the data. Currently we are working on an efficient way to tile the vectors similarly to the data cubes in order to reduce the computation for single jobs. In future there is no need to create multiple jobs for the aggregate spatial operation"
   ]
  },
  {
   "cell_type": "code",
   "execution_count": 26,
   "id": "9dd630e3",
   "metadata": {},
   "outputs": [],
   "source": [
    "import numpy as np\n",
    "\n",
    "job_ids = []\n",
    "index = [list(np.arange(0,30)), list(np.arange(30,60)), list(np.arange(60,90)), list(np.arange(90,120)), list(np.arange(120,150))]\n",
    "no_index = [37, 78, 82]\n",
    "\n",
    "for l in index:\n",
    "    merged_data = None\n",
    "    for i in l:\n",
    "        aoi_URL = f\"https://raw.githubusercontent.com/openEOPlatform/UC8_auxdata/master/vector_data/target_canopy_cover_60m_equi7/target_canopy_cover_equi7_60m_AOI{i}.geojson\"\n",
    "        if i not in no_index:\n",
    "            aoi_gdf = gpd.read_file(aoi_URL)\n",
    "            aoi_gdf = aoi_gdf.to_crs('EPSG:4326')\n",
    "            aoi_bounds = aoi_gdf.total_bounds\n",
    "\n",
    "            collection      = \"boa_sentinel_2\"\n",
    "            spatial_extent  = {\"east\": aoi_bounds[2],\n",
    "                               \"north\": aoi_bounds[3],\n",
    "                               \"south\": aoi_bounds[1],\n",
    "                               \"west\": aoi_bounds[0]}\n",
    "            temporal_extent = [\"2018-05-01\", \"2018-09-01\"]\n",
    "            # bands           = [\"B02\",\"B03\",\"B04\",\"B05\",\"B06\",\"B07\",\"B08\",\"B11\",\"B12\"]\n",
    "            bands           = [\"band_1\",\"band_2\",\"band_3\",\"band_4\",\"band_7\",\"band_9\",\"band_10\"]\n",
    "\n",
    "\n",
    "            boa_sentinel_2_cube = conn.load_collection(\n",
    "                collection_id   = collection,\n",
    "                spatial_extent  = spatial_extent,\n",
    "                temporal_extent = temporal_extent,\n",
    "                bands = bands\n",
    "                )\n",
    "\n",
    "            boa_sentinel_2_cube_reduced = boa_sentinel_2_cube.reduce_dimension(dimension=\"t\",reducer=median)\n",
    "\n",
    "            aoi_vector_cube = PGNode(\"load_vector_cube\",{\"URL\":aoi_URL})\n",
    "            sentinel_2_predictors = boa_sentinel_2_cube_reduced.process(\"aggregate_spatial\",{\"data\":THIS,\"target_dimension\":\"result\",\"geometries\":aoi_vector_cube,\"reducer\":\"mean\"})\n",
    "            full_training_data_cube = sentinel_2_predictors.process(\"merge_cubes\",{\"cube1\":THIS,\"cube2\":aoi_vector_cube})\n",
    "            if merged_data is None:\n",
    "                merged_data = full_training_data_cube\n",
    "            else:\n",
    "                merged_data = merged_data.process(\"merge_cubes\",{\"cube1\":THIS,\"cube2\":full_training_data_cube})\n",
    "\n",
    "    save_vector_cube = merged_data.process(\"save_vector_cube\",{\"data\":THIS})\n",
    "        \n",
    "    job = save_vector_cube.create_job(title=f\"UC8_AOI_{l}_vector_cube\")\n",
    "    job_id = job.job_id\n",
    "    job_ids.append(job_id)"
   ]
  },
  {
   "cell_type": "markdown",
   "id": "ed469ca2",
   "metadata": {},
   "source": [
    "Afterwards we can start the Jobs iteratively"
   ]
  },
  {
   "cell_type": "code",
   "execution_count": 27,
   "id": "37a5c41f",
   "metadata": {},
   "outputs": [
    {
     "name": "stdout",
     "output_type": "stream",
     "text": [
      "Job  jb-a55da16f-dc17-4e02-b54b-f902df3a3c40  has been started. \n",
      "Job  jb-34adbfac-d973-4c41-8278-b5306a881642  has been started. \n",
      "Job  jb-de4b811b-e8f9-4492-bc7f-5e5bdc4757b0  has been started. \n",
      "Job  jb-71c38396-014f-4ffc-b40c-6e6bbbd68e2f  has been started. \n",
      "Job  jb-399de5cd-3ecc-43ba-9978-612295c16e8f  has been started. \n"
     ]
    }
   ],
   "source": [
    "from time import sleep\n",
    "for jb in job_ids:\n",
    "    job = conn.job(jb)\n",
    "    job.start_job()\n",
    "    print('Job ', jb, ' has been started. ')\n",
    "    sleep(120)"
   ]
  },
  {
   "cell_type": "markdown",
   "id": "f58eee48",
   "metadata": {},
   "source": [
    "And check the status"
   ]
  },
  {
   "cell_type": "code",
   "execution_count": 28,
   "id": "7cfed2e2",
   "metadata": {},
   "outputs": [
    {
     "name": "stdout",
     "output_type": "stream",
     "text": [
      "Batch job with id:  jb-a55da16f-dc17-4e02-b54b-f902df3a3c40  is  finished\n",
      "Batch job with id:  jb-34adbfac-d973-4c41-8278-b5306a881642  is  finished\n",
      "Batch job with id:  jb-de4b811b-e8f9-4492-bc7f-5e5bdc4757b0  is  finished\n",
      "Batch job with id:  jb-71c38396-014f-4ffc-b40c-6e6bbbd68e2f  is  finished\n",
      "Batch job with id:  jb-399de5cd-3ecc-43ba-9978-612295c16e8f  is  finished\n"
     ]
    }
   ],
   "source": [
    "for jb in job_ids:\n",
    "    job = conn.job(jb)\n",
    "    job_description = job.describe_job()\n",
    "    print(\"Batch job with id: \",jb, ' is ',job_description['status'])"
   ]
  },
  {
   "cell_type": "markdown",
   "id": "34b9fccd",
   "metadata": {},
   "source": [
    "Each of the jobs include a wide range of different openEO processes that are being called sequentially. At the moment the spatial aggregation of one AOI is done in less than a minute. In future - when all different Jobs are unified in a single one and a tiling will be applied - the aggregation of raster information in vectors is going to be much faster.\n",
    "Now we can take a glimpse at one Job"
   ]
  },
  {
   "cell_type": "code",
   "execution_count": 29,
   "id": "e8b979f9",
   "metadata": {},
   "outputs": [
    {
     "data": {
      "text/html": [
       "\n",
       "    <script>\n",
       "    if (!window.customElements || !window.customElements.get('openeo-job')) {\n",
       "        var el = document.createElement('script');\n",
       "        el.src = \"https://cdn.jsdelivr.net/npm/@openeo/vue-components@2/assets/openeo.min.js\";\n",
       "        document.head.appendChild(el);\n",
       "\n",
       "        var font = document.createElement('font');\n",
       "        font.as = \"font\";\n",
       "        font.type = \"font/woff2\";\n",
       "        font.crossOrigin = true;\n",
       "        font.href = \"https://use.fontawesome.com/releases/v5.13.0/webfonts/fa-solid-900.woff2\"\n",
       "        document.head.appendChild(font);\n",
       "    }\n",
       "    </script>\n",
       "    <openeo-job>\n",
       "        <script type=\"application/json\">{\"currency\": \"EUR\", \"job\": {\"created\": \"2022-05-18T10:46:59Z\", \"id\": \"jb-399de5cd-3ecc-43ba-9978-612295c16e8f\", \"process\": {\"deprecated\": false, \"exceptions\": {}, \"experimental\": false, \"id\": \"PqRBqlmmtIDD54Kh\", \"process_graph\": {\"aggregatespatial1\": {\"arguments\": {\"data\": {\"from_node\": \"reducedimension1\"}, \"geometries\": {\"from_node\": \"loadvectorcube1\"}, \"reducer\": \"mean\", \"target_dimension\": \"result\"}, \"process_id\": \"aggregate_spatial\"}, \"aggregatespatial10\": {\"arguments\": {\"data\": {\"from_node\": \"reducedimension10\"}, \"geometries\": {\"from_node\": \"loadvectorcube10\"}, \"reducer\": \"mean\", \"target_dimension\": \"result\"}, \"process_id\": \"aggregate_spatial\"}, \"aggregatespatial11\": {\"arguments\": {\"data\": {\"from_node\": \"reducedimension11\"}, \"geometries\": {\"from_node\": \"loadvectorcube11\"}, \"reducer\": \"mean\", \"target_dimension\": \"result\"}, \"process_id\": \"aggregate_spatial\"}, \"aggregatespatial12\": {\"arguments\": {\"data\": {\"from_node\": \"reducedimension12\"}, \"geometries\": {\"from_node\": \"loadvectorcube12\"}, \"reducer\": \"mean\", \"target_dimension\": \"result\"}, \"process_id\": \"aggregate_spatial\"}, \"aggregatespatial13\": {\"arguments\": {\"data\": {\"from_node\": \"reducedimension13\"}, \"geometries\": {\"from_node\": \"loadvectorcube13\"}, \"reducer\": \"mean\", \"target_dimension\": \"result\"}, \"process_id\": \"aggregate_spatial\"}, \"aggregatespatial14\": {\"arguments\": {\"data\": {\"from_node\": \"reducedimension14\"}, \"geometries\": {\"from_node\": \"loadvectorcube14\"}, \"reducer\": \"mean\", \"target_dimension\": \"result\"}, \"process_id\": \"aggregate_spatial\"}, \"aggregatespatial15\": {\"arguments\": {\"data\": {\"from_node\": \"reducedimension15\"}, \"geometries\": {\"from_node\": \"loadvectorcube15\"}, \"reducer\": \"mean\", \"target_dimension\": \"result\"}, \"process_id\": \"aggregate_spatial\"}, \"aggregatespatial16\": {\"arguments\": {\"data\": {\"from_node\": \"reducedimension16\"}, \"geometries\": {\"from_node\": \"loadvectorcube16\"}, \"reducer\": \"mean\", \"target_dimension\": \"result\"}, \"process_id\": \"aggregate_spatial\"}, \"aggregatespatial17\": {\"arguments\": {\"data\": {\"from_node\": \"reducedimension17\"}, \"geometries\": {\"from_node\": \"loadvectorcube17\"}, \"reducer\": \"mean\", \"target_dimension\": \"result\"}, \"process_id\": \"aggregate_spatial\"}, \"aggregatespatial18\": {\"arguments\": {\"data\": {\"from_node\": \"reducedimension18\"}, \"geometries\": {\"from_node\": \"loadvectorcube18\"}, \"reducer\": \"mean\", \"target_dimension\": \"result\"}, \"process_id\": \"aggregate_spatial\"}, \"aggregatespatial19\": {\"arguments\": {\"data\": {\"from_node\": \"reducedimension19\"}, \"geometries\": {\"from_node\": \"loadvectorcube19\"}, \"reducer\": \"mean\", \"target_dimension\": \"result\"}, \"process_id\": \"aggregate_spatial\"}, \"aggregatespatial2\": {\"arguments\": {\"data\": {\"from_node\": \"reducedimension2\"}, \"geometries\": {\"from_node\": \"loadvectorcube2\"}, \"reducer\": \"mean\", \"target_dimension\": \"result\"}, \"process_id\": \"aggregate_spatial\"}, \"aggregatespatial20\": {\"arguments\": {\"data\": {\"from_node\": \"reducedimension20\"}, \"geometries\": {\"from_node\": \"loadvectorcube20\"}, \"reducer\": \"mean\", \"target_dimension\": \"result\"}, \"process_id\": \"aggregate_spatial\"}, \"aggregatespatial21\": {\"arguments\": {\"data\": {\"from_node\": \"reducedimension21\"}, \"geometries\": {\"from_node\": \"loadvectorcube21\"}, \"reducer\": \"mean\", \"target_dimension\": \"result\"}, \"process_id\": \"aggregate_spatial\"}, \"aggregatespatial22\": {\"arguments\": {\"data\": {\"from_node\": \"reducedimension22\"}, \"geometries\": {\"from_node\": \"loadvectorcube22\"}, \"reducer\": \"mean\", \"target_dimension\": \"result\"}, \"process_id\": \"aggregate_spatial\"}, \"aggregatespatial23\": {\"arguments\": {\"data\": {\"from_node\": \"reducedimension23\"}, \"geometries\": {\"from_node\": \"loadvectorcube23\"}, \"reducer\": \"mean\", \"target_dimension\": \"result\"}, \"process_id\": \"aggregate_spatial\"}, \"aggregatespatial24\": {\"arguments\": {\"data\": {\"from_node\": \"reducedimension24\"}, \"geometries\": {\"from_node\": \"loadvectorcube24\"}, \"reducer\": \"mean\", \"target_dimension\": \"result\"}, \"process_id\": \"aggregate_spatial\"}, \"aggregatespatial25\": {\"arguments\": {\"data\": {\"from_node\": \"reducedimension25\"}, \"geometries\": {\"from_node\": \"loadvectorcube25\"}, \"reducer\": \"mean\", \"target_dimension\": \"result\"}, \"process_id\": \"aggregate_spatial\"}, \"aggregatespatial26\": {\"arguments\": {\"data\": {\"from_node\": \"reducedimension26\"}, \"geometries\": {\"from_node\": \"loadvectorcube26\"}, \"reducer\": \"mean\", \"target_dimension\": \"result\"}, \"process_id\": \"aggregate_spatial\"}, \"aggregatespatial27\": {\"arguments\": {\"data\": {\"from_node\": \"reducedimension27\"}, \"geometries\": {\"from_node\": \"loadvectorcube27\"}, \"reducer\": \"mean\", \"target_dimension\": \"result\"}, \"process_id\": \"aggregate_spatial\"}, \"aggregatespatial28\": {\"arguments\": {\"data\": {\"from_node\": \"reducedimension28\"}, \"geometries\": {\"from_node\": \"loadvectorcube28\"}, \"reducer\": \"mean\", \"target_dimension\": \"result\"}, \"process_id\": \"aggregate_spatial\"}, \"aggregatespatial29\": {\"arguments\": {\"data\": {\"from_node\": \"reducedimension29\"}, \"geometries\": {\"from_node\": \"loadvectorcube29\"}, \"reducer\": \"mean\", \"target_dimension\": \"result\"}, \"process_id\": \"aggregate_spatial\"}, \"aggregatespatial3\": {\"arguments\": {\"data\": {\"from_node\": \"reducedimension3\"}, \"geometries\": {\"from_node\": \"loadvectorcube3\"}, \"reducer\": \"mean\", \"target_dimension\": \"result\"}, \"process_id\": \"aggregate_spatial\"}, \"aggregatespatial30\": {\"arguments\": {\"data\": {\"from_node\": \"reducedimension30\"}, \"geometries\": {\"from_node\": \"loadvectorcube30\"}, \"reducer\": \"mean\", \"target_dimension\": \"result\"}, \"process_id\": \"aggregate_spatial\"}, \"aggregatespatial4\": {\"arguments\": {\"data\": {\"from_node\": \"reducedimension4\"}, \"geometries\": {\"from_node\": \"loadvectorcube4\"}, \"reducer\": \"mean\", \"target_dimension\": \"result\"}, \"process_id\": \"aggregate_spatial\"}, \"aggregatespatial5\": {\"arguments\": {\"data\": {\"from_node\": \"reducedimension5\"}, \"geometries\": {\"from_node\": \"loadvectorcube5\"}, \"reducer\": \"mean\", \"target_dimension\": \"result\"}, \"process_id\": \"aggregate_spatial\"}, \"aggregatespatial6\": {\"arguments\": {\"data\": {\"from_node\": \"reducedimension6\"}, \"geometries\": {\"from_node\": \"loadvectorcube6\"}, \"reducer\": \"mean\", \"target_dimension\": \"result\"}, \"process_id\": \"aggregate_spatial\"}, \"aggregatespatial7\": {\"arguments\": {\"data\": {\"from_node\": \"reducedimension7\"}, \"geometries\": {\"from_node\": \"loadvectorcube7\"}, \"reducer\": \"mean\", \"target_dimension\": \"result\"}, \"process_id\": \"aggregate_spatial\"}, \"aggregatespatial8\": {\"arguments\": {\"data\": {\"from_node\": \"reducedimension8\"}, \"geometries\": {\"from_node\": \"loadvectorcube8\"}, \"reducer\": \"mean\", \"target_dimension\": \"result\"}, \"process_id\": \"aggregate_spatial\"}, \"aggregatespatial9\": {\"arguments\": {\"data\": {\"from_node\": \"reducedimension9\"}, \"geometries\": {\"from_node\": \"loadvectorcube9\"}, \"reducer\": \"mean\", \"target_dimension\": \"result\"}, \"process_id\": \"aggregate_spatial\"}, \"loadcollection1\": {\"arguments\": {\"bands\": [\"band_1\", \"band_2\", \"band_3\", \"band_4\", \"band_7\", \"band_9\", \"band_10\"], \"id\": \"boa_sentinel_2\", \"spatial_extent\": {\"east\": 11.72191772163231, \"north\": 50.4738135469125, \"south\": 50.469738833719646, \"west\": 11.715254323991294}, \"temporal_extent\": [\"2018-05-01\", \"2018-09-01\"]}, \"process_id\": \"load_collection\"}, \"loadcollection10\": {\"arguments\": {\"bands\": [\"band_1\", \"band_2\", \"band_3\", \"band_4\", \"band_7\", \"band_9\", \"band_10\"], \"id\": \"boa_sentinel_2\", \"spatial_extent\": {\"east\": 13.319998485864106, \"north\": 49.05995358439394, \"south\": 49.05592874322601, \"west\": 13.313740124719953}, \"temporal_extent\": [\"2018-05-01\", \"2018-09-01\"]}, \"process_id\": \"load_collection\"}, \"loadcollection11\": {\"arguments\": {\"bands\": [\"band_1\", \"band_2\", \"band_3\", \"band_4\", \"band_7\", \"band_9\", \"band_10\"], \"id\": \"boa_sentinel_2\", \"spatial_extent\": {\"east\": 15.543402972904513, \"north\": 46.41369560244897, \"south\": 46.40976200197611, \"west\": 15.537299604310597}, \"temporal_extent\": [\"2018-05-01\", \"2018-09-01\"]}, \"process_id\": \"load_collection\"}, \"loadcollection12\": {\"arguments\": {\"bands\": [\"band_1\", \"band_2\", \"band_3\", \"band_4\", \"band_7\", \"band_9\", \"band_10\"], \"id\": \"boa_sentinel_2\", \"spatial_extent\": {\"east\": 8.135145276652182, \"north\": 44.05615011907129, \"south\": 44.05201736086959, \"west\": 8.129157595820596}, \"temporal_extent\": [\"2018-05-01\", \"2018-09-01\"]}, \"process_id\": \"load_collection\"}, \"loadcollection13\": {\"arguments\": {\"bands\": [\"band_1\", \"band_2\", \"band_3\", \"band_4\", \"band_7\", \"band_9\", \"band_10\"], \"id\": \"boa_sentinel_2\", \"spatial_extent\": {\"east\": 12.22460749016521, \"north\": 48.568736074392525, \"south\": 48.5647582415543, \"west\": 12.218320298812257}, \"temporal_extent\": [\"2018-05-01\", \"2018-09-01\"]}, \"process_id\": \"load_collection\"}, \"loadcollection14\": {\"arguments\": {\"bands\": [\"band_1\", \"band_2\", \"band_3\", \"band_4\", \"band_7\", \"band_9\", \"band_10\"], \"id\": \"boa_sentinel_2\", \"spatial_extent\": {\"east\": 13.0403606375886, \"north\": 43.28092115331888, \"south\": 43.276892646894176, \"west\": 13.035161283041752}, \"temporal_extent\": [\"2018-05-01\", \"2018-09-01\"]}, \"process_id\": \"load_collection\"}, \"loadcollection15\": {\"arguments\": {\"bands\": [\"band_1\", \"band_2\", \"band_3\", \"band_4\", \"band_7\", \"band_9\", \"band_10\"], \"id\": \"boa_sentinel_2\", \"spatial_extent\": {\"east\": 11.226536566547573, \"north\": 46.50664351309407, \"south\": 46.50256133892211, \"west\": 11.220386965487116}, \"temporal_extent\": [\"2018-05-01\", \"2018-09-01\"]}, \"process_id\": \"load_collection\"}, \"loadcollection16\": {\"arguments\": {\"bands\": [\"band_1\", \"band_2\", \"band_3\", \"band_4\", \"band_7\", \"band_9\", \"band_10\"], \"id\": \"boa_sentinel_2\", \"spatial_extent\": {\"east\": 14.744327902181997, \"north\": 47.55948341949002, \"south\": 47.55541066223671, \"west\": 14.738204088453127}, \"temporal_extent\": [\"2018-05-01\", \"2018-09-01\"]}, \"process_id\": \"load_collection\"}, \"loadcollection17\": {\"arguments\": {\"bands\": [\"band_1\", \"band_2\", \"band_3\", \"band_4\", \"band_7\", \"band_9\", \"band_10\"], \"id\": \"boa_sentinel_2\", \"spatial_extent\": {\"east\": 11.875173660244272, \"north\": 47.3255907280054, \"south\": 47.32160877709041, \"west\": 11.86891834591214}, \"temporal_extent\": [\"2018-05-01\", \"2018-09-01\"]}, \"process_id\": \"load_collection\"}, \"loadcollection18\": {\"arguments\": {\"bands\": [\"band_1\", \"band_2\", \"band_3\", \"band_4\", \"band_7\", \"band_9\", \"band_10\"], \"id\": \"boa_sentinel_2\", \"spatial_extent\": {\"east\": 12.721093665810535, \"north\": 49.42164013690699, \"south\": 49.417668315659085, \"west\": 12.71481093842173}, \"temporal_extent\": [\"2018-05-01\", \"2018-09-01\"]}, \"process_id\": \"load_collection\"}, \"loadcollection19\": {\"arguments\": {\"bands\": [\"band_1\", \"band_2\", \"band_3\", \"band_4\", \"band_7\", \"band_9\", \"band_10\"], \"id\": \"boa_sentinel_2\", \"spatial_extent\": {\"east\": 15.710142382058363, \"north\": 49.90110342337429, \"south\": 49.897005582376636, \"west\": 15.703601072898227}, \"temporal_extent\": [\"2018-05-01\", \"2018-09-01\"]}, \"process_id\": \"load_collection\"}, \"loadcollection2\": {\"arguments\": {\"bands\": [\"band_1\", \"band_2\", \"band_3\", \"band_4\", \"band_7\", \"band_9\", \"band_10\"], \"id\": \"boa_sentinel_2\", \"spatial_extent\": {\"east\": 13.932634605267756, \"north\": 47.52325577572848, \"south\": 47.51920818196828, \"west\": 13.926541030216995}, \"temporal_extent\": [\"2018-05-01\", \"2018-09-01\"]}, \"process_id\": \"load_collection\"}, \"loadcollection20\": {\"arguments\": {\"bands\": [\"band_1\", \"band_2\", \"band_3\", \"band_4\", \"band_7\", \"band_9\", \"band_10\"], \"id\": \"boa_sentinel_2\", \"spatial_extent\": {\"east\": 12.867466004078818, \"north\": 46.79625371560716, \"south\": 46.79220256235038, \"west\": 12.860829039736021}, \"temporal_extent\": [\"2018-05-01\", \"2018-09-01\"]}, \"process_id\": \"load_collection\"}, \"loadcollection21\": {\"arguments\": {\"bands\": [\"band_1\", \"band_2\", \"band_3\", \"band_4\", \"band_7\", \"band_9\", \"band_10\"], \"id\": \"boa_sentinel_2\", \"spatial_extent\": {\"east\": 9.962616935792658, \"north\": 44.830502891078616, \"south\": 44.826399276064876, \"west\": 9.95667134895392}, \"temporal_extent\": [\"2018-05-01\", \"2018-09-01\"]}, \"process_id\": \"load_collection\"}, \"loadcollection22\": {\"arguments\": {\"bands\": [\"band_1\", \"band_2\", \"band_3\", \"band_4\", \"band_7\", \"band_9\", \"band_10\"], \"id\": \"boa_sentinel_2\", \"spatial_extent\": {\"east\": 4.731068012436902, \"north\": 43.54101165439113, \"south\": 43.536451224303605, \"west\": 4.7249831127552255}, \"temporal_extent\": [\"2018-05-01\", \"2018-09-01\"]}, \"process_id\": \"load_collection\"}, \"loadcollection23\": {\"arguments\": {\"bands\": [\"band_1\", \"band_2\", \"band_3\", \"band_4\", \"band_7\", \"band_9\", \"band_10\"], \"id\": \"boa_sentinel_2\", \"spatial_extent\": {\"east\": 12.205931060300198, \"north\": 45.89986145408017, \"south\": 45.8959691005815, \"west\": 12.20048077866248}, \"temporal_extent\": [\"2018-05-01\", \"2018-09-01\"]}, \"process_id\": \"load_collection\"}, \"loadcollection24\": {\"arguments\": {\"bands\": [\"band_1\", \"band_2\", \"band_3\", \"band_4\", \"band_7\", \"band_9\", \"band_10\"], \"id\": \"boa_sentinel_2\", \"spatial_extent\": {\"east\": 11.199437778661714, \"north\": 45.054528558276736, \"south\": 45.05044654559671, \"west\": 11.19345071469589}, \"temporal_extent\": [\"2018-05-01\", \"2018-09-01\"]}, \"process_id\": \"load_collection\"}, \"loadcollection25\": {\"arguments\": {\"bands\": [\"band_1\", \"band_2\", \"band_3\", \"band_4\", \"band_7\", \"band_9\", \"band_10\"], \"id\": \"boa_sentinel_2\", \"spatial_extent\": {\"east\": 9.89333030366385, \"north\": 44.12706652420037, \"south\": 44.123063571255294, \"west\": 9.887459258329741}, \"temporal_extent\": [\"2018-05-01\", \"2018-09-01\"]}, \"process_id\": \"load_collection\"}, \"loadcollection26\": {\"arguments\": {\"bands\": [\"band_1\", \"band_2\", \"band_3\", \"band_4\", \"band_7\", \"band_9\", \"band_10\"], \"id\": \"boa_sentinel_2\", \"spatial_extent\": {\"east\": 9.955883654411846, \"north\": 47.03576043356937, \"south\": 47.03175790723389, \"west\": 9.949691347982347}, \"temporal_extent\": [\"2018-05-01\", \"2018-09-01\"]}, \"process_id\": \"load_collection\"}, \"loadcollection27\": {\"arguments\": {\"bands\": [\"band_1\", \"band_2\", \"band_3\", \"band_4\", \"band_7\", \"band_9\", \"band_10\"], \"id\": \"boa_sentinel_2\", \"spatial_extent\": {\"east\": 12.259557851039006, \"north\": 44.831390657092406, \"south\": 44.82749819471339, \"west\": 12.254213704294164}, \"temporal_extent\": [\"2018-05-01\", \"2018-09-01\"]}, \"process_id\": \"load_collection\"}, \"loadcollection28\": {\"arguments\": {\"bands\": [\"band_1\", \"band_2\", \"band_3\", \"band_4\", \"band_7\", \"band_9\", \"band_10\"], \"id\": \"boa_sentinel_2\", \"spatial_extent\": {\"east\": 6.848420390082598, \"north\": 43.526558697034105, \"south\": 43.52240724010004, \"west\": 6.842575374298818}, \"temporal_extent\": [\"2018-05-01\", \"2018-09-01\"]}, \"process_id\": \"load_collection\"}, \"loadcollection29\": {\"arguments\": {\"bands\": [\"band_1\", \"band_2\", \"band_3\", \"band_4\", \"band_7\", \"band_9\", \"band_10\"], \"id\": \"boa_sentinel_2\", \"spatial_extent\": {\"east\": 12.094116095620969, \"north\": 44.185413462421025, \"south\": 44.18152001846514, \"west\": 12.088833890723313}, \"temporal_extent\": [\"2018-05-01\", \"2018-09-01\"]}, \"process_id\": \"load_collection\"}, \"loadcollection3\": {\"arguments\": {\"bands\": [\"band_1\", \"band_2\", \"band_3\", \"band_4\", \"band_7\", \"band_9\", \"band_10\"], \"id\": \"boa_sentinel_2\", \"spatial_extent\": {\"east\": 14.14474575473554, \"north\": 49.15855753825801, \"south\": 49.15450659451434, \"west\": 14.138446689910069}, \"temporal_extent\": [\"2018-05-01\", \"2018-09-01\"]}, \"process_id\": \"load_collection\"}, \"loadcollection30\": {\"arguments\": {\"bands\": [\"band_1\", \"band_2\", \"band_3\", \"band_4\", \"band_7\", \"band_9\", \"band_10\"], \"id\": \"boa_sentinel_2\", \"spatial_extent\": {\"east\": 4.7047757710863305, \"north\": 43.55770959196104, \"south\": 43.553149084780294, \"west\": 4.698689110958136}, \"temporal_extent\": [\"2018-05-01\", \"2018-09-01\"]}, \"process_id\": \"load_collection\"}, \"loadcollection4\": {\"arguments\": {\"bands\": [\"band_1\", \"band_2\", \"band_3\", \"band_4\", \"band_7\", \"band_9\", \"band_10\"], \"id\": \"boa_sentinel_2\", \"spatial_extent\": {\"east\": 10.42005634310742, \"north\": 47.87754872500512, \"south\": 47.87345151433347, \"west\": 10.41375534052143}, \"temporal_extent\": [\"2018-05-01\", \"2018-09-01\"]}, \"process_id\": \"load_collection\"}, \"loadcollection5\": {\"arguments\": {\"bands\": [\"band_1\", \"band_2\", \"band_3\", \"band_4\", \"band_7\", \"band_9\", \"band_10\"], \"id\": \"boa_sentinel_2\", \"spatial_extent\": {\"east\": 12.271733323184673, \"north\": 48.996226801694625, \"south\": 48.99216322558709, \"west\": 12.264839741619596}, \"temporal_extent\": [\"2018-05-01\", \"2018-09-01\"]}, \"process_id\": \"load_collection\"}, \"loadcollection6\": {\"arguments\": {\"bands\": [\"band_1\", \"band_2\", \"band_3\", \"band_4\", \"band_7\", \"band_9\", \"band_10\"], \"id\": \"boa_sentinel_2\", \"spatial_extent\": {\"east\": 12.14214054290141, \"north\": 47.522560613214694, \"south\": 47.51857080352635, \"west\": 12.136106950423839}, \"temporal_extent\": [\"2018-05-01\", \"2018-09-01\"]}, \"process_id\": \"load_collection\"}, \"loadcollection7\": {\"arguments\": {\"bands\": [\"band_1\", \"band_2\", \"band_3\", \"band_4\", \"band_7\", \"band_9\", \"band_10\"], \"id\": \"boa_sentinel_2\", \"spatial_extent\": {\"east\": 9.992539570642537, \"north\": 47.54351397913283, \"south\": 47.53940952302446, \"west\": 9.986286097726131}, \"temporal_extent\": [\"2018-05-01\", \"2018-09-01\"]}, \"process_id\": \"load_collection\"}, \"loadcollection8\": {\"arguments\": {\"bands\": [\"band_1\", \"band_2\", \"band_3\", \"band_4\", \"band_7\", \"band_9\", \"band_10\"], \"id\": \"boa_sentinel_2\", \"spatial_extent\": {\"east\": 14.340178143138251, \"north\": 48.2574698613123, \"south\": 48.2535191993259, \"west\": 14.333984082644482}, \"temporal_extent\": [\"2018-05-01\", \"2018-09-01\"]}, \"process_id\": \"load_collection\"}, \"loadcollection9\": {\"arguments\": {\"bands\": [\"band_1\", \"band_2\", \"band_3\", \"band_4\", \"band_7\", \"band_9\", \"band_10\"], \"id\": \"boa_sentinel_2\", \"spatial_extent\": {\"east\": 11.275207834054413, \"north\": 48.734776743104476, \"south\": 48.73069447658812, \"west\": 11.268785603017383}, \"temporal_extent\": [\"2018-05-01\", \"2018-09-01\"]}, \"process_id\": \"load_collection\"}, \"loadvectorcube1\": {\"arguments\": {\"URL\": \"https://raw.githubusercontent.com/openEOPlatform/UC8_auxdata/master/vector_data/target_canopy_cover_60m_equi7/target_canopy_cover_equi7_60m_AOI120.geojson\"}, \"process_id\": \"load_vector_cube\"}, \"loadvectorcube10\": {\"arguments\": {\"URL\": \"https://raw.githubusercontent.com/openEOPlatform/UC8_auxdata/master/vector_data/target_canopy_cover_60m_equi7/target_canopy_cover_equi7_60m_AOI129.geojson\"}, \"process_id\": \"load_vector_cube\"}, \"loadvectorcube11\": {\"arguments\": {\"URL\": \"https://raw.githubusercontent.com/openEOPlatform/UC8_auxdata/master/vector_data/target_canopy_cover_60m_equi7/target_canopy_cover_equi7_60m_AOI130.geojson\"}, \"process_id\": \"load_vector_cube\"}, \"loadvectorcube12\": {\"arguments\": {\"URL\": \"https://raw.githubusercontent.com/openEOPlatform/UC8_auxdata/master/vector_data/target_canopy_cover_60m_equi7/target_canopy_cover_equi7_60m_AOI131.geojson\"}, \"process_id\": \"load_vector_cube\"}, \"loadvectorcube13\": {\"arguments\": {\"URL\": \"https://raw.githubusercontent.com/openEOPlatform/UC8_auxdata/master/vector_data/target_canopy_cover_60m_equi7/target_canopy_cover_equi7_60m_AOI132.geojson\"}, \"process_id\": \"load_vector_cube\"}, \"loadvectorcube14\": {\"arguments\": {\"URL\": \"https://raw.githubusercontent.com/openEOPlatform/UC8_auxdata/master/vector_data/target_canopy_cover_60m_equi7/target_canopy_cover_equi7_60m_AOI133.geojson\"}, \"process_id\": \"load_vector_cube\"}, \"loadvectorcube15\": {\"arguments\": {\"URL\": \"https://raw.githubusercontent.com/openEOPlatform/UC8_auxdata/master/vector_data/target_canopy_cover_60m_equi7/target_canopy_cover_equi7_60m_AOI134.geojson\"}, \"process_id\": \"load_vector_cube\"}, \"loadvectorcube16\": {\"arguments\": {\"URL\": \"https://raw.githubusercontent.com/openEOPlatform/UC8_auxdata/master/vector_data/target_canopy_cover_60m_equi7/target_canopy_cover_equi7_60m_AOI135.geojson\"}, \"process_id\": \"load_vector_cube\"}, \"loadvectorcube17\": {\"arguments\": {\"URL\": \"https://raw.githubusercontent.com/openEOPlatform/UC8_auxdata/master/vector_data/target_canopy_cover_60m_equi7/target_canopy_cover_equi7_60m_AOI136.geojson\"}, \"process_id\": \"load_vector_cube\"}, \"loadvectorcube18\": {\"arguments\": {\"URL\": \"https://raw.githubusercontent.com/openEOPlatform/UC8_auxdata/master/vector_data/target_canopy_cover_60m_equi7/target_canopy_cover_equi7_60m_AOI137.geojson\"}, \"process_id\": \"load_vector_cube\"}, \"loadvectorcube19\": {\"arguments\": {\"URL\": \"https://raw.githubusercontent.com/openEOPlatform/UC8_auxdata/master/vector_data/target_canopy_cover_60m_equi7/target_canopy_cover_equi7_60m_AOI138.geojson\"}, \"process_id\": \"load_vector_cube\"}, \"loadvectorcube2\": {\"arguments\": {\"URL\": \"https://raw.githubusercontent.com/openEOPlatform/UC8_auxdata/master/vector_data/target_canopy_cover_60m_equi7/target_canopy_cover_equi7_60m_AOI121.geojson\"}, \"process_id\": \"load_vector_cube\"}, \"loadvectorcube20\": {\"arguments\": {\"URL\": \"https://raw.githubusercontent.com/openEOPlatform/UC8_auxdata/master/vector_data/target_canopy_cover_60m_equi7/target_canopy_cover_equi7_60m_AOI139.geojson\"}, \"process_id\": \"load_vector_cube\"}, \"loadvectorcube21\": {\"arguments\": {\"URL\": \"https://raw.githubusercontent.com/openEOPlatform/UC8_auxdata/master/vector_data/target_canopy_cover_60m_equi7/target_canopy_cover_equi7_60m_AOI140.geojson\"}, \"process_id\": \"load_vector_cube\"}, \"loadvectorcube22\": {\"arguments\": {\"URL\": \"https://raw.githubusercontent.com/openEOPlatform/UC8_auxdata/master/vector_data/target_canopy_cover_60m_equi7/target_canopy_cover_equi7_60m_AOI141.geojson\"}, \"process_id\": \"load_vector_cube\"}, \"loadvectorcube23\": {\"arguments\": {\"URL\": \"https://raw.githubusercontent.com/openEOPlatform/UC8_auxdata/master/vector_data/target_canopy_cover_60m_equi7/target_canopy_cover_equi7_60m_AOI142.geojson\"}, \"process_id\": \"load_vector_cube\"}, \"loadvectorcube24\": {\"arguments\": {\"URL\": \"https://raw.githubusercontent.com/openEOPlatform/UC8_auxdata/master/vector_data/target_canopy_cover_60m_equi7/target_canopy_cover_equi7_60m_AOI143.geojson\"}, \"process_id\": \"load_vector_cube\"}, \"loadvectorcube25\": {\"arguments\": {\"URL\": \"https://raw.githubusercontent.com/openEOPlatform/UC8_auxdata/master/vector_data/target_canopy_cover_60m_equi7/target_canopy_cover_equi7_60m_AOI144.geojson\"}, \"process_id\": \"load_vector_cube\"}, \"loadvectorcube26\": {\"arguments\": {\"URL\": \"https://raw.githubusercontent.com/openEOPlatform/UC8_auxdata/master/vector_data/target_canopy_cover_60m_equi7/target_canopy_cover_equi7_60m_AOI145.geojson\"}, \"process_id\": \"load_vector_cube\"}, \"loadvectorcube27\": {\"arguments\": {\"URL\": \"https://raw.githubusercontent.com/openEOPlatform/UC8_auxdata/master/vector_data/target_canopy_cover_60m_equi7/target_canopy_cover_equi7_60m_AOI146.geojson\"}, \"process_id\": \"load_vector_cube\"}, \"loadvectorcube28\": {\"arguments\": {\"URL\": \"https://raw.githubusercontent.com/openEOPlatform/UC8_auxdata/master/vector_data/target_canopy_cover_60m_equi7/target_canopy_cover_equi7_60m_AOI147.geojson\"}, \"process_id\": \"load_vector_cube\"}, \"loadvectorcube29\": {\"arguments\": {\"URL\": \"https://raw.githubusercontent.com/openEOPlatform/UC8_auxdata/master/vector_data/target_canopy_cover_60m_equi7/target_canopy_cover_equi7_60m_AOI148.geojson\"}, \"process_id\": \"load_vector_cube\"}, \"loadvectorcube3\": {\"arguments\": {\"URL\": \"https://raw.githubusercontent.com/openEOPlatform/UC8_auxdata/master/vector_data/target_canopy_cover_60m_equi7/target_canopy_cover_equi7_60m_AOI122.geojson\"}, \"process_id\": \"load_vector_cube\"}, \"loadvectorcube30\": {\"arguments\": {\"URL\": \"https://raw.githubusercontent.com/openEOPlatform/UC8_auxdata/master/vector_data/target_canopy_cover_60m_equi7/target_canopy_cover_equi7_60m_AOI149.geojson\"}, \"process_id\": \"load_vector_cube\"}, \"loadvectorcube4\": {\"arguments\": {\"URL\": \"https://raw.githubusercontent.com/openEOPlatform/UC8_auxdata/master/vector_data/target_canopy_cover_60m_equi7/target_canopy_cover_equi7_60m_AOI123.geojson\"}, \"process_id\": \"load_vector_cube\"}, \"loadvectorcube5\": {\"arguments\": {\"URL\": \"https://raw.githubusercontent.com/openEOPlatform/UC8_auxdata/master/vector_data/target_canopy_cover_60m_equi7/target_canopy_cover_equi7_60m_AOI124.geojson\"}, \"process_id\": \"load_vector_cube\"}, \"loadvectorcube6\": {\"arguments\": {\"URL\": \"https://raw.githubusercontent.com/openEOPlatform/UC8_auxdata/master/vector_data/target_canopy_cover_60m_equi7/target_canopy_cover_equi7_60m_AOI125.geojson\"}, \"process_id\": \"load_vector_cube\"}, \"loadvectorcube7\": {\"arguments\": {\"URL\": \"https://raw.githubusercontent.com/openEOPlatform/UC8_auxdata/master/vector_data/target_canopy_cover_60m_equi7/target_canopy_cover_equi7_60m_AOI126.geojson\"}, \"process_id\": \"load_vector_cube\"}, \"loadvectorcube8\": {\"arguments\": {\"URL\": \"https://raw.githubusercontent.com/openEOPlatform/UC8_auxdata/master/vector_data/target_canopy_cover_60m_equi7/target_canopy_cover_equi7_60m_AOI127.geojson\"}, \"process_id\": \"load_vector_cube\"}, \"loadvectorcube9\": {\"arguments\": {\"URL\": \"https://raw.githubusercontent.com/openEOPlatform/UC8_auxdata/master/vector_data/target_canopy_cover_60m_equi7/target_canopy_cover_equi7_60m_AOI128.geojson\"}, \"process_id\": \"load_vector_cube\"}, \"mergecubes1\": {\"arguments\": {\"cube1\": {\"from_node\": \"aggregatespatial1\"}, \"cube2\": {\"from_node\": \"loadvectorcube1\"}}, \"process_id\": \"merge_cubes\"}, \"mergecubes10\": {\"arguments\": {\"cube1\": {\"from_node\": \"aggregatespatial6\"}, \"cube2\": {\"from_node\": \"loadvectorcube6\"}}, \"process_id\": \"merge_cubes\"}, \"mergecubes11\": {\"arguments\": {\"cube1\": {\"from_node\": \"mergecubes9\"}, \"cube2\": {\"from_node\": \"mergecubes10\"}}, \"process_id\": \"merge_cubes\"}, \"mergecubes12\": {\"arguments\": {\"cube1\": {\"from_node\": \"aggregatespatial7\"}, \"cube2\": {\"from_node\": \"loadvectorcube7\"}}, \"process_id\": \"merge_cubes\"}, \"mergecubes13\": {\"arguments\": {\"cube1\": {\"from_node\": \"mergecubes11\"}, \"cube2\": {\"from_node\": \"mergecubes12\"}}, \"process_id\": \"merge_cubes\"}, \"mergecubes14\": {\"arguments\": {\"cube1\": {\"from_node\": \"aggregatespatial8\"}, \"cube2\": {\"from_node\": \"loadvectorcube8\"}}, \"process_id\": \"merge_cubes\"}, \"mergecubes15\": {\"arguments\": {\"cube1\": {\"from_node\": \"mergecubes13\"}, \"cube2\": {\"from_node\": \"mergecubes14\"}}, \"process_id\": \"merge_cubes\"}, \"mergecubes16\": {\"arguments\": {\"cube1\": {\"from_node\": \"aggregatespatial9\"}, \"cube2\": {\"from_node\": \"loadvectorcube9\"}}, \"process_id\": \"merge_cubes\"}, \"mergecubes17\": {\"arguments\": {\"cube1\": {\"from_node\": \"mergecubes15\"}, \"cube2\": {\"from_node\": \"mergecubes16\"}}, \"process_id\": \"merge_cubes\"}, \"mergecubes18\": {\"arguments\": {\"cube1\": {\"from_node\": \"aggregatespatial10\"}, \"cube2\": {\"from_node\": \"loadvectorcube10\"}}, \"process_id\": \"merge_cubes\"}, \"mergecubes19\": {\"arguments\": {\"cube1\": {\"from_node\": \"mergecubes17\"}, \"cube2\": {\"from_node\": \"mergecubes18\"}}, \"process_id\": \"merge_cubes\"}, \"mergecubes2\": {\"arguments\": {\"cube1\": {\"from_node\": \"aggregatespatial2\"}, \"cube2\": {\"from_node\": \"loadvectorcube2\"}}, \"process_id\": \"merge_cubes\"}, \"mergecubes20\": {\"arguments\": {\"cube1\": {\"from_node\": \"aggregatespatial11\"}, \"cube2\": {\"from_node\": \"loadvectorcube11\"}}, \"process_id\": \"merge_cubes\"}, \"mergecubes21\": {\"arguments\": {\"cube1\": {\"from_node\": \"mergecubes19\"}, \"cube2\": {\"from_node\": \"mergecubes20\"}}, \"process_id\": \"merge_cubes\"}, \"mergecubes22\": {\"arguments\": {\"cube1\": {\"from_node\": \"aggregatespatial12\"}, \"cube2\": {\"from_node\": \"loadvectorcube12\"}}, \"process_id\": \"merge_cubes\"}, \"mergecubes23\": {\"arguments\": {\"cube1\": {\"from_node\": \"mergecubes21\"}, \"cube2\": {\"from_node\": \"mergecubes22\"}}, \"process_id\": \"merge_cubes\"}, \"mergecubes24\": {\"arguments\": {\"cube1\": {\"from_node\": \"aggregatespatial13\"}, \"cube2\": {\"from_node\": \"loadvectorcube13\"}}, \"process_id\": \"merge_cubes\"}, \"mergecubes25\": {\"arguments\": {\"cube1\": {\"from_node\": \"mergecubes23\"}, \"cube2\": {\"from_node\": \"mergecubes24\"}}, \"process_id\": \"merge_cubes\"}, \"mergecubes26\": {\"arguments\": {\"cube1\": {\"from_node\": \"aggregatespatial14\"}, \"cube2\": {\"from_node\": \"loadvectorcube14\"}}, \"process_id\": \"merge_cubes\"}, \"mergecubes27\": {\"arguments\": {\"cube1\": {\"from_node\": \"mergecubes25\"}, \"cube2\": {\"from_node\": \"mergecubes26\"}}, \"process_id\": \"merge_cubes\"}, \"mergecubes28\": {\"arguments\": {\"cube1\": {\"from_node\": \"aggregatespatial15\"}, \"cube2\": {\"from_node\": \"loadvectorcube15\"}}, \"process_id\": \"merge_cubes\"}, \"mergecubes29\": {\"arguments\": {\"cube1\": {\"from_node\": \"mergecubes27\"}, \"cube2\": {\"from_node\": \"mergecubes28\"}}, \"process_id\": \"merge_cubes\"}, \"mergecubes3\": {\"arguments\": {\"cube1\": {\"from_node\": \"mergecubes1\"}, \"cube2\": {\"from_node\": \"mergecubes2\"}}, \"process_id\": \"merge_cubes\"}, \"mergecubes30\": {\"arguments\": {\"cube1\": {\"from_node\": \"aggregatespatial16\"}, \"cube2\": {\"from_node\": \"loadvectorcube16\"}}, \"process_id\": \"merge_cubes\"}, \"mergecubes31\": {\"arguments\": {\"cube1\": {\"from_node\": \"mergecubes29\"}, \"cube2\": {\"from_node\": \"mergecubes30\"}}, \"process_id\": \"merge_cubes\"}, \"mergecubes32\": {\"arguments\": {\"cube1\": {\"from_node\": \"aggregatespatial17\"}, \"cube2\": {\"from_node\": \"loadvectorcube17\"}}, \"process_id\": \"merge_cubes\"}, \"mergecubes33\": {\"arguments\": {\"cube1\": {\"from_node\": \"mergecubes31\"}, \"cube2\": {\"from_node\": \"mergecubes32\"}}, \"process_id\": \"merge_cubes\"}, \"mergecubes34\": {\"arguments\": {\"cube1\": {\"from_node\": \"aggregatespatial18\"}, \"cube2\": {\"from_node\": \"loadvectorcube18\"}}, \"process_id\": \"merge_cubes\"}, \"mergecubes35\": {\"arguments\": {\"cube1\": {\"from_node\": \"mergecubes33\"}, \"cube2\": {\"from_node\": \"mergecubes34\"}}, \"process_id\": \"merge_cubes\"}, \"mergecubes36\": {\"arguments\": {\"cube1\": {\"from_node\": \"aggregatespatial19\"}, \"cube2\": {\"from_node\": \"loadvectorcube19\"}}, \"process_id\": \"merge_cubes\"}, \"mergecubes37\": {\"arguments\": {\"cube1\": {\"from_node\": \"mergecubes35\"}, \"cube2\": {\"from_node\": \"mergecubes36\"}}, \"process_id\": \"merge_cubes\"}, \"mergecubes38\": {\"arguments\": {\"cube1\": {\"from_node\": \"aggregatespatial20\"}, \"cube2\": {\"from_node\": \"loadvectorcube20\"}}, \"process_id\": \"merge_cubes\"}, \"mergecubes39\": {\"arguments\": {\"cube1\": {\"from_node\": \"mergecubes37\"}, \"cube2\": {\"from_node\": \"mergecubes38\"}}, \"process_id\": \"merge_cubes\"}, \"mergecubes4\": {\"arguments\": {\"cube1\": {\"from_node\": \"aggregatespatial3\"}, \"cube2\": {\"from_node\": \"loadvectorcube3\"}}, \"process_id\": \"merge_cubes\"}, \"mergecubes40\": {\"arguments\": {\"cube1\": {\"from_node\": \"aggregatespatial21\"}, \"cube2\": {\"from_node\": \"loadvectorcube21\"}}, \"process_id\": \"merge_cubes\"}, \"mergecubes41\": {\"arguments\": {\"cube1\": {\"from_node\": \"mergecubes39\"}, \"cube2\": {\"from_node\": \"mergecubes40\"}}, \"process_id\": \"merge_cubes\"}, \"mergecubes42\": {\"arguments\": {\"cube1\": {\"from_node\": \"aggregatespatial22\"}, \"cube2\": {\"from_node\": \"loadvectorcube22\"}}, \"process_id\": \"merge_cubes\"}, \"mergecubes43\": {\"arguments\": {\"cube1\": {\"from_node\": \"mergecubes41\"}, \"cube2\": {\"from_node\": \"mergecubes42\"}}, \"process_id\": \"merge_cubes\"}, \"mergecubes44\": {\"arguments\": {\"cube1\": {\"from_node\": \"aggregatespatial23\"}, \"cube2\": {\"from_node\": \"loadvectorcube23\"}}, \"process_id\": \"merge_cubes\"}, \"mergecubes45\": {\"arguments\": {\"cube1\": {\"from_node\": \"mergecubes43\"}, \"cube2\": {\"from_node\": \"mergecubes44\"}}, \"process_id\": \"merge_cubes\"}, \"mergecubes46\": {\"arguments\": {\"cube1\": {\"from_node\": \"aggregatespatial24\"}, \"cube2\": {\"from_node\": \"loadvectorcube24\"}}, \"process_id\": \"merge_cubes\"}, \"mergecubes47\": {\"arguments\": {\"cube1\": {\"from_node\": \"mergecubes45\"}, \"cube2\": {\"from_node\": \"mergecubes46\"}}, \"process_id\": \"merge_cubes\"}, \"mergecubes48\": {\"arguments\": {\"cube1\": {\"from_node\": \"aggregatespatial25\"}, \"cube2\": {\"from_node\": \"loadvectorcube25\"}}, \"process_id\": \"merge_cubes\"}, \"mergecubes49\": {\"arguments\": {\"cube1\": {\"from_node\": \"mergecubes47\"}, \"cube2\": {\"from_node\": \"mergecubes48\"}}, \"process_id\": \"merge_cubes\"}, \"mergecubes5\": {\"arguments\": {\"cube1\": {\"from_node\": \"mergecubes3\"}, \"cube2\": {\"from_node\": \"mergecubes4\"}}, \"process_id\": \"merge_cubes\"}, \"mergecubes50\": {\"arguments\": {\"cube1\": {\"from_node\": \"aggregatespatial26\"}, \"cube2\": {\"from_node\": \"loadvectorcube26\"}}, \"process_id\": \"merge_cubes\"}, \"mergecubes51\": {\"arguments\": {\"cube1\": {\"from_node\": \"mergecubes49\"}, \"cube2\": {\"from_node\": \"mergecubes50\"}}, \"process_id\": \"merge_cubes\"}, \"mergecubes52\": {\"arguments\": {\"cube1\": {\"from_node\": \"aggregatespatial27\"}, \"cube2\": {\"from_node\": \"loadvectorcube27\"}}, \"process_id\": \"merge_cubes\"}, \"mergecubes53\": {\"arguments\": {\"cube1\": {\"from_node\": \"mergecubes51\"}, \"cube2\": {\"from_node\": \"mergecubes52\"}}, \"process_id\": \"merge_cubes\"}, \"mergecubes54\": {\"arguments\": {\"cube1\": {\"from_node\": \"aggregatespatial28\"}, \"cube2\": {\"from_node\": \"loadvectorcube28\"}}, \"process_id\": \"merge_cubes\"}, \"mergecubes55\": {\"arguments\": {\"cube1\": {\"from_node\": \"mergecubes53\"}, \"cube2\": {\"from_node\": \"mergecubes54\"}}, \"process_id\": \"merge_cubes\"}, \"mergecubes56\": {\"arguments\": {\"cube1\": {\"from_node\": \"aggregatespatial29\"}, \"cube2\": {\"from_node\": \"loadvectorcube29\"}}, \"process_id\": \"merge_cubes\"}, \"mergecubes57\": {\"arguments\": {\"cube1\": {\"from_node\": \"mergecubes55\"}, \"cube2\": {\"from_node\": \"mergecubes56\"}}, \"process_id\": \"merge_cubes\"}, \"mergecubes58\": {\"arguments\": {\"cube1\": {\"from_node\": \"aggregatespatial30\"}, \"cube2\": {\"from_node\": \"loadvectorcube30\"}}, \"process_id\": \"merge_cubes\"}, \"mergecubes59\": {\"arguments\": {\"cube1\": {\"from_node\": \"mergecubes57\"}, \"cube2\": {\"from_node\": \"mergecubes58\"}}, \"process_id\": \"merge_cubes\"}, \"mergecubes6\": {\"arguments\": {\"cube1\": {\"from_node\": \"aggregatespatial4\"}, \"cube2\": {\"from_node\": \"loadvectorcube4\"}}, \"process_id\": \"merge_cubes\"}, \"mergecubes7\": {\"arguments\": {\"cube1\": {\"from_node\": \"mergecubes5\"}, \"cube2\": {\"from_node\": \"mergecubes6\"}}, \"process_id\": \"merge_cubes\"}, \"mergecubes8\": {\"arguments\": {\"cube1\": {\"from_node\": \"aggregatespatial5\"}, \"cube2\": {\"from_node\": \"loadvectorcube5\"}}, \"process_id\": \"merge_cubes\"}, \"mergecubes9\": {\"arguments\": {\"cube1\": {\"from_node\": \"mergecubes7\"}, \"cube2\": {\"from_node\": \"mergecubes8\"}}, \"process_id\": \"merge_cubes\"}, \"reducedimension1\": {\"arguments\": {\"data\": {\"from_node\": \"loadcollection1\"}, \"dimension\": \"t\", \"reducer\": {\"process_graph\": {\"median1\": {\"arguments\": {\"data\": {\"from_parameter\": \"data\"}}, \"process_id\": \"median\", \"result\": true}}}}, \"process_id\": \"reduce_dimension\"}, \"reducedimension10\": {\"arguments\": {\"data\": {\"from_node\": \"loadcollection10\"}, \"dimension\": \"t\", \"reducer\": {\"process_graph\": {\"median10\": {\"arguments\": {\"data\": {\"from_parameter\": \"data\"}}, \"process_id\": \"median\", \"result\": true}}}}, \"process_id\": \"reduce_dimension\"}, \"reducedimension11\": {\"arguments\": {\"data\": {\"from_node\": \"loadcollection11\"}, \"dimension\": \"t\", \"reducer\": {\"process_graph\": {\"median11\": {\"arguments\": {\"data\": {\"from_parameter\": \"data\"}}, \"process_id\": \"median\", \"result\": true}}}}, \"process_id\": \"reduce_dimension\"}, \"reducedimension12\": {\"arguments\": {\"data\": {\"from_node\": \"loadcollection12\"}, \"dimension\": \"t\", \"reducer\": {\"process_graph\": {\"median12\": {\"arguments\": {\"data\": {\"from_parameter\": \"data\"}}, \"process_id\": \"median\", \"result\": true}}}}, \"process_id\": \"reduce_dimension\"}, \"reducedimension13\": {\"arguments\": {\"data\": {\"from_node\": \"loadcollection13\"}, \"dimension\": \"t\", \"reducer\": {\"process_graph\": {\"median13\": {\"arguments\": {\"data\": {\"from_parameter\": \"data\"}}, \"process_id\": \"median\", \"result\": true}}}}, \"process_id\": \"reduce_dimension\"}, \"reducedimension14\": {\"arguments\": {\"data\": {\"from_node\": \"loadcollection14\"}, \"dimension\": \"t\", \"reducer\": {\"process_graph\": {\"median14\": {\"arguments\": {\"data\": {\"from_parameter\": \"data\"}}, \"process_id\": \"median\", \"result\": true}}}}, \"process_id\": \"reduce_dimension\"}, \"reducedimension15\": {\"arguments\": {\"data\": {\"from_node\": \"loadcollection15\"}, \"dimension\": \"t\", \"reducer\": {\"process_graph\": {\"median15\": {\"arguments\": {\"data\": {\"from_parameter\": \"data\"}}, \"process_id\": \"median\", \"result\": true}}}}, \"process_id\": \"reduce_dimension\"}, \"reducedimension16\": {\"arguments\": {\"data\": {\"from_node\": \"loadcollection16\"}, \"dimension\": \"t\", \"reducer\": {\"process_graph\": {\"median16\": {\"arguments\": {\"data\": {\"from_parameter\": \"data\"}}, \"process_id\": \"median\", \"result\": true}}}}, \"process_id\": \"reduce_dimension\"}, \"reducedimension17\": {\"arguments\": {\"data\": {\"from_node\": \"loadcollection17\"}, \"dimension\": \"t\", \"reducer\": {\"process_graph\": {\"median17\": {\"arguments\": {\"data\": {\"from_parameter\": \"data\"}}, \"process_id\": \"median\", \"result\": true}}}}, \"process_id\": \"reduce_dimension\"}, \"reducedimension18\": {\"arguments\": {\"data\": {\"from_node\": \"loadcollection18\"}, \"dimension\": \"t\", \"reducer\": {\"process_graph\": {\"median18\": {\"arguments\": {\"data\": {\"from_parameter\": \"data\"}}, \"process_id\": \"median\", \"result\": true}}}}, \"process_id\": \"reduce_dimension\"}, \"reducedimension19\": {\"arguments\": {\"data\": {\"from_node\": \"loadcollection19\"}, \"dimension\": \"t\", \"reducer\": {\"process_graph\": {\"median19\": {\"arguments\": {\"data\": {\"from_parameter\": \"data\"}}, \"process_id\": \"median\", \"result\": true}}}}, \"process_id\": \"reduce_dimension\"}, \"reducedimension2\": {\"arguments\": {\"data\": {\"from_node\": \"loadcollection2\"}, \"dimension\": \"t\", \"reducer\": {\"process_graph\": {\"median2\": {\"arguments\": {\"data\": {\"from_parameter\": \"data\"}}, \"process_id\": \"median\", \"result\": true}}}}, \"process_id\": \"reduce_dimension\"}, \"reducedimension20\": {\"arguments\": {\"data\": {\"from_node\": \"loadcollection20\"}, \"dimension\": \"t\", \"reducer\": {\"process_graph\": {\"median20\": {\"arguments\": {\"data\": {\"from_parameter\": \"data\"}}, \"process_id\": \"median\", \"result\": true}}}}, \"process_id\": \"reduce_dimension\"}, \"reducedimension21\": {\"arguments\": {\"data\": {\"from_node\": \"loadcollection21\"}, \"dimension\": \"t\", \"reducer\": {\"process_graph\": {\"median21\": {\"arguments\": {\"data\": {\"from_parameter\": \"data\"}}, \"process_id\": \"median\", \"result\": true}}}}, \"process_id\": \"reduce_dimension\"}, \"reducedimension22\": {\"arguments\": {\"data\": {\"from_node\": \"loadcollection22\"}, \"dimension\": \"t\", \"reducer\": {\"process_graph\": {\"median22\": {\"arguments\": {\"data\": {\"from_parameter\": \"data\"}}, \"process_id\": \"median\", \"result\": true}}}}, \"process_id\": \"reduce_dimension\"}, \"reducedimension23\": {\"arguments\": {\"data\": {\"from_node\": \"loadcollection23\"}, \"dimension\": \"t\", \"reducer\": {\"process_graph\": {\"median23\": {\"arguments\": {\"data\": {\"from_parameter\": \"data\"}}, \"process_id\": \"median\", \"result\": true}}}}, \"process_id\": \"reduce_dimension\"}, \"reducedimension24\": {\"arguments\": {\"data\": {\"from_node\": \"loadcollection24\"}, \"dimension\": \"t\", \"reducer\": {\"process_graph\": {\"median24\": {\"arguments\": {\"data\": {\"from_parameter\": \"data\"}}, \"process_id\": \"median\", \"result\": true}}}}, \"process_id\": \"reduce_dimension\"}, \"reducedimension25\": {\"arguments\": {\"data\": {\"from_node\": \"loadcollection25\"}, \"dimension\": \"t\", \"reducer\": {\"process_graph\": {\"median25\": {\"arguments\": {\"data\": {\"from_parameter\": \"data\"}}, \"process_id\": \"median\", \"result\": true}}}}, \"process_id\": \"reduce_dimension\"}, \"reducedimension26\": {\"arguments\": {\"data\": {\"from_node\": \"loadcollection26\"}, \"dimension\": \"t\", \"reducer\": {\"process_graph\": {\"median26\": {\"arguments\": {\"data\": {\"from_parameter\": \"data\"}}, \"process_id\": \"median\", \"result\": true}}}}, \"process_id\": \"reduce_dimension\"}, \"reducedimension27\": {\"arguments\": {\"data\": {\"from_node\": \"loadcollection27\"}, \"dimension\": \"t\", \"reducer\": {\"process_graph\": {\"median27\": {\"arguments\": {\"data\": {\"from_parameter\": \"data\"}}, \"process_id\": \"median\", \"result\": true}}}}, \"process_id\": \"reduce_dimension\"}, \"reducedimension28\": {\"arguments\": {\"data\": {\"from_node\": \"loadcollection28\"}, \"dimension\": \"t\", \"reducer\": {\"process_graph\": {\"median28\": {\"arguments\": {\"data\": {\"from_parameter\": \"data\"}}, \"process_id\": \"median\", \"result\": true}}}}, \"process_id\": \"reduce_dimension\"}, \"reducedimension29\": {\"arguments\": {\"data\": {\"from_node\": \"loadcollection29\"}, \"dimension\": \"t\", \"reducer\": {\"process_graph\": {\"median29\": {\"arguments\": {\"data\": {\"from_parameter\": \"data\"}}, \"process_id\": \"median\", \"result\": true}}}}, \"process_id\": \"reduce_dimension\"}, \"reducedimension3\": {\"arguments\": {\"data\": {\"from_node\": \"loadcollection3\"}, \"dimension\": \"t\", \"reducer\": {\"process_graph\": {\"median3\": {\"arguments\": {\"data\": {\"from_parameter\": \"data\"}}, \"process_id\": \"median\", \"result\": true}}}}, \"process_id\": \"reduce_dimension\"}, \"reducedimension30\": {\"arguments\": {\"data\": {\"from_node\": \"loadcollection30\"}, \"dimension\": \"t\", \"reducer\": {\"process_graph\": {\"median30\": {\"arguments\": {\"data\": {\"from_parameter\": \"data\"}}, \"process_id\": \"median\", \"result\": true}}}}, \"process_id\": \"reduce_dimension\"}, \"reducedimension4\": {\"arguments\": {\"data\": {\"from_node\": \"loadcollection4\"}, \"dimension\": \"t\", \"reducer\": {\"process_graph\": {\"median4\": {\"arguments\": {\"data\": {\"from_parameter\": \"data\"}}, \"process_id\": \"median\", \"result\": true}}}}, \"process_id\": \"reduce_dimension\"}, \"reducedimension5\": {\"arguments\": {\"data\": {\"from_node\": \"loadcollection5\"}, \"dimension\": \"t\", \"reducer\": {\"process_graph\": {\"median5\": {\"arguments\": {\"data\": {\"from_parameter\": \"data\"}}, \"process_id\": \"median\", \"result\": true}}}}, \"process_id\": \"reduce_dimension\"}, \"reducedimension6\": {\"arguments\": {\"data\": {\"from_node\": \"loadcollection6\"}, \"dimension\": \"t\", \"reducer\": {\"process_graph\": {\"median6\": {\"arguments\": {\"data\": {\"from_parameter\": \"data\"}}, \"process_id\": \"median\", \"result\": true}}}}, \"process_id\": \"reduce_dimension\"}, \"reducedimension7\": {\"arguments\": {\"data\": {\"from_node\": \"loadcollection7\"}, \"dimension\": \"t\", \"reducer\": {\"process_graph\": {\"median7\": {\"arguments\": {\"data\": {\"from_parameter\": \"data\"}}, \"process_id\": \"median\", \"result\": true}}}}, \"process_id\": \"reduce_dimension\"}, \"reducedimension8\": {\"arguments\": {\"data\": {\"from_node\": \"loadcollection8\"}, \"dimension\": \"t\", \"reducer\": {\"process_graph\": {\"median8\": {\"arguments\": {\"data\": {\"from_parameter\": \"data\"}}, \"process_id\": \"median\", \"result\": true}}}}, \"process_id\": \"reduce_dimension\"}, \"reducedimension9\": {\"arguments\": {\"data\": {\"from_node\": \"loadcollection9\"}, \"dimension\": \"t\", \"reducer\": {\"process_graph\": {\"median9\": {\"arguments\": {\"data\": {\"from_parameter\": \"data\"}}, \"process_id\": \"median\", \"result\": true}}}}, \"process_id\": \"reduce_dimension\"}, \"savevectorcube1\": {\"arguments\": {\"data\": {\"from_node\": \"mergecubes59\"}}, \"process_id\": \"save_vector_cube\", \"result\": true}}}, \"status\": \"finished\", \"title\": \"UC8_AOI_[120, 121, 122, 123, 124, 125, 126, 127, 128, 129, 130, 131, 132, 133, 134, 135, 136, 137, 138, 139, 140, 141, 142, 143, 144, 145, 146, 147, 148, 149]_vector_cube\"}}</script>\n",
       "    </openeo-job>\n",
       "    "
      ],
      "text/plain": [
       "<RESTJob job_id='jb-399de5cd-3ecc-43ba-9978-612295c16e8f'>"
      ]
     },
     "execution_count": 29,
     "metadata": {},
     "output_type": "execute_result"
    }
   ],
   "source": [
    "# job= \"jb-399de5cd-3ecc-43ba-9978-612295c16e8f\"\n",
    "job"
   ]
  },
  {
   "cell_type": "markdown",
   "id": "4d43ef09",
   "metadata": {},
   "source": [
    "Once the Jobs are finished we can use the *merge_cubes* process to bring all the aggregated vector files together in one file as base for the training of the machine learning model"
   ]
  },
  {
   "cell_type": "code",
   "execution_count": 31,
   "id": "096a2792",
   "metadata": {},
   "outputs": [],
   "source": [
    "merge = None\n",
    "for jb in job_ids:\n",
    "    if merge is None:\n",
    "        load_vector_cube = full_training_data_cube.process(\"load_vector_cube\",{\"job_id\":jb})\n",
    "        merge = load_vector_cube\n",
    "    else:\n",
    "        load_vector_cube = full_training_data_cube.process(\"load_vector_cube\",{\"job_id\":jb})\n",
    "        merge = merge.process(\"merge_cubes\",{\"cube1\":THIS,\"cube2\":load_vector_cube})\n"
   ]
  },
  {
   "cell_type": "markdown",
   "id": "fb2e98f3",
   "metadata": {},
   "source": [
    "### Training"
   ]
  },
  {
   "cell_type": "markdown",
   "id": "a4ee379c",
   "metadata": {},
   "source": [
    "The random forest model is trained with some basic arguments that allow to modify some of the aspects in the training. In our model we use all the bands of Sentinel-2 to train 100 trees. The process *fit_regr_random_forest* is used for training"
   ]
  },
  {
   "cell_type": "code",
   "execution_count": 32,
   "id": "75c42854",
   "metadata": {},
   "outputs": [],
   "source": [
    "rf_arguments = {\n",
    "    \"data\": merge,\n",
    "    \"max_variables\" : None, # Variable used at a node\n",
    "    \"num_trees\": 100, # Number of trees in a rf model\n",
    "    \"seed\": 0,        # Random Number seed for reproducibility\n",
    "    # \"predictors_vars\": [\"B02\",\"B03\",\"B04\",\"B05\",\"B06\",\"B07\",\"B08\",\"B11\",\"B12\"], # Name of predictors\n",
    "    \"predictors_vars\":[\"band_1\",\"band_2\",\"band_3\",\"band_4\",\"band_7\",\"band_9\",\"band_10\"],\n",
    "    \"target_var\": \"target_canopy_cover_x\" # Name of target variable\n",
    "}\n",
    "\n",
    "rf_model = merge.process(\"fit_regr_random_forest\", rf_arguments) # fit the model"
   ]
  },
  {
   "cell_type": "markdown",
   "id": "15c0a153",
   "metadata": {},
   "source": [
    "Afterwards the model can be saved..."
   ]
  },
  {
   "cell_type": "code",
   "execution_count": 33,
   "id": "c7bd6660",
   "metadata": {},
   "outputs": [],
   "source": [
    "rf_model_saved = rf_model.process(\"save_ml_model\",{\"model\":THIS})"
   ]
  },
  {
   "cell_type": "markdown",
   "id": "0d3cb5df",
   "metadata": {},
   "source": [
    "...and the Job can be started"
   ]
  },
  {
   "cell_type": "code",
   "execution_count": 34,
   "id": "e582fd3c",
   "metadata": {},
   "outputs": [],
   "source": [
    "job_train = rf_model_saved.create_job(title=\"UC8_all_fit_rf_regr_lps\")\n",
    "job_train.start_job()"
   ]
  },
  {
   "cell_type": "code",
   "execution_count": 36,
   "id": "b2c2acfe",
   "metadata": {},
   "outputs": [
    {
     "data": {
      "text/html": [
       "\n",
       "    <script>\n",
       "    if (!window.customElements || !window.customElements.get('openeo-job')) {\n",
       "        var el = document.createElement('script');\n",
       "        el.src = \"https://cdn.jsdelivr.net/npm/@openeo/vue-components@2/assets/openeo.min.js\";\n",
       "        document.head.appendChild(el);\n",
       "\n",
       "        var font = document.createElement('font');\n",
       "        font.as = \"font\";\n",
       "        font.type = \"font/woff2\";\n",
       "        font.crossOrigin = true;\n",
       "        font.href = \"https://use.fontawesome.com/releases/v5.13.0/webfonts/fa-solid-900.woff2\"\n",
       "        document.head.appendChild(font);\n",
       "    }\n",
       "    </script>\n",
       "    <openeo-job>\n",
       "        <script type=\"application/json\">{\"currency\": \"EUR\", \"job\": {\"created\": \"2022-05-18T11:31:54Z\", \"id\": \"jb-bd7703ac-9309-4665-9b10-600dceae44d7\", \"process\": {\"deprecated\": false, \"exceptions\": {}, \"experimental\": false, \"id\": \"yVTPgqYmZ9DZKEyh\", \"process_graph\": {\"fitregrrandomforest1\": {\"arguments\": {\"data\": {\"from_node\": \"mergecubes4\"}, \"max_variables\": null, \"num_trees\": 100, \"predictors_vars\": [\"band_1\", \"band_2\", \"band_3\", \"band_4\", \"band_7\", \"band_9\", \"band_10\"], \"seed\": 0, \"target_var\": \"target_canopy_cover_x\"}, \"process_id\": \"fit_regr_random_forest\"}, \"loadvectorcube1\": {\"arguments\": {\"job_id\": \"jb-a55da16f-dc17-4e02-b54b-f902df3a3c40\"}, \"process_id\": \"load_vector_cube\"}, \"loadvectorcube2\": {\"arguments\": {\"job_id\": \"jb-34adbfac-d973-4c41-8278-b5306a881642\"}, \"process_id\": \"load_vector_cube\"}, \"loadvectorcube3\": {\"arguments\": {\"job_id\": \"jb-de4b811b-e8f9-4492-bc7f-5e5bdc4757b0\"}, \"process_id\": \"load_vector_cube\"}, \"loadvectorcube4\": {\"arguments\": {\"job_id\": \"jb-71c38396-014f-4ffc-b40c-6e6bbbd68e2f\"}, \"process_id\": \"load_vector_cube\"}, \"loadvectorcube5\": {\"arguments\": {\"job_id\": \"jb-399de5cd-3ecc-43ba-9978-612295c16e8f\"}, \"process_id\": \"load_vector_cube\"}, \"mergecubes1\": {\"arguments\": {\"cube1\": {\"from_node\": \"loadvectorcube1\"}, \"cube2\": {\"from_node\": \"loadvectorcube2\"}}, \"process_id\": \"merge_cubes\"}, \"mergecubes2\": {\"arguments\": {\"cube1\": {\"from_node\": \"mergecubes1\"}, \"cube2\": {\"from_node\": \"loadvectorcube3\"}}, \"process_id\": \"merge_cubes\"}, \"mergecubes3\": {\"arguments\": {\"cube1\": {\"from_node\": \"mergecubes2\"}, \"cube2\": {\"from_node\": \"loadvectorcube4\"}}, \"process_id\": \"merge_cubes\"}, \"mergecubes4\": {\"arguments\": {\"cube1\": {\"from_node\": \"mergecubes3\"}, \"cube2\": {\"from_node\": \"loadvectorcube5\"}}, \"process_id\": \"merge_cubes\"}, \"savemlmodel1\": {\"arguments\": {\"model\": {\"from_node\": \"fitregrrandomforest1\"}}, \"process_id\": \"save_ml_model\", \"result\": true}}}, \"status\": \"finished\", \"title\": \"UC8_all_fit_rf_regr_lps\"}}</script>\n",
       "    </openeo-job>\n",
       "    "
      ],
      "text/plain": [
       "<RESTJob job_id='jb-bd7703ac-9309-4665-9b10-600dceae44d7'>"
      ]
     },
     "execution_count": 36,
     "metadata": {},
     "output_type": "execute_result"
    }
   ],
   "source": [
    "# job_train = \"jb-bd7703ac-9309-4665-9b10-600dceae44d7\"\n",
    "job_train"
   ]
  },
  {
   "cell_type": "markdown",
   "id": "4d7cc880",
   "metadata": {},
   "source": [
    "## 3. Prediction"
   ]
  },
  {
   "cell_type": "markdown",
   "id": "01e44f26",
   "metadata": {},
   "source": [
    "For demonstration purposes we are going to predict an area around the Adamello natural park based on the predictors for 2018 "
   ]
  },
  {
   "cell_type": "code",
   "execution_count": 37,
   "id": "d902c1b5",
   "metadata": {},
   "outputs": [],
   "source": [
    "#spatial_extent  =  {\"west\":10.454955,\n",
    "#                    \"east\":10.737297,\n",
    "#                    \"south\":46.102185,\n",
    "#                    \"north\":46.133657}\n",
    "spatial_extent  =  {\"west\":10.45,\n",
    "                    \"east\":10.74,\n",
    "                    \"south\":46.10,\n",
    "                    \"north\":46.14}"
   ]
  },
  {
   "cell_type": "markdown",
   "id": "c563db26",
   "metadata": {},
   "source": [
    "The model will be applied to this area based on the same collections and bands we have used for the training of the model. As the predictors are universal for 2018 we base the prediction on the summer period using the *reduce_dimension* process. Being in an early stage of development, future developments will include diverse predictors based on time and therefore also the prediction will change allowing more features"
   ]
  },
  {
   "cell_type": "code",
   "execution_count": 38,
   "id": "62a94064",
   "metadata": {},
   "outputs": [],
   "source": [
    "collection      = \"boa_sentinel_2\"\n",
    "temporal_extent = [\"2018-05-01\", \"2018-09-01\"]\n",
    "# bands           = [\"B02\",\"B03\",\"B04\",\"B08\"]\n",
    "bands           = [\"band_1\",\"band_2\",\"band_3\",\"band_4\",\"band_7\",\"band_9\",\"band_10\"]\n",
    "\n",
    "boa_sentinel_2_cube = conn.load_collection(\n",
    "    collection_id   = collection,\n",
    "    spatial_extent  = spatial_extent,\n",
    "    temporal_extent = temporal_extent,\n",
    "    bands = bands\n",
    "    )\n",
    "boa_sentinel_2_cube_reduced = boa_sentinel_2_cube.reduce_dimension(dimension=\"t\",reducer=median)"
   ]
  },
  {
   "cell_type": "markdown",
   "id": "3fcbcdfe",
   "metadata": {},
   "source": [
    "Predict the model based on a saved model created in the step beforehand"
   ]
  },
  {
   "cell_type": "code",
   "execution_count": 39,
   "id": "49624b21",
   "metadata": {},
   "outputs": [],
   "source": [
    "model_jb = \"jb-561da48a-359e-43c9-b45e-7d7e8524a1fc\"\n",
    "fractional_canopy_cover = boa_sentinel_2_cube_reduced.predict_random_forest(dimension=\"bands\", model=model_jb)"
   ]
  },
  {
   "cell_type": "markdown",
   "id": "963acf4d",
   "metadata": {},
   "source": [
    "And now the result can be saved..."
   ]
  },
  {
   "cell_type": "code",
   "execution_count": 40,
   "id": "1f3516ff",
   "metadata": {},
   "outputs": [],
   "source": [
    "fractional_canopy_cover_netcdf = fractional_canopy_cover.save_result(format=\"netCDF\")"
   ]
  },
  {
   "cell_type": "markdown",
   "id": "cdf079a8",
   "metadata": {},
   "source": [
    "...before the job is executed"
   ]
  },
  {
   "cell_type": "code",
   "execution_count": 41,
   "id": "318f8d01",
   "metadata": {},
   "outputs": [],
   "source": [
    "job_pred = fractional_canopy_cover_netcdf.create_job(title=\"UC8_predict_rf_adamello_lps\")\n",
    "job_pred.start_job()"
   ]
  },
  {
   "cell_type": "markdown",
   "id": "d63e6e0f",
   "metadata": {},
   "source": [
    "The job can be visualized as follows:"
   ]
  },
  {
   "cell_type": "code",
   "execution_count": 43,
   "id": "d90f82a1",
   "metadata": {},
   "outputs": [
    {
     "data": {
      "text/html": [
       "\n",
       "    <script>\n",
       "    if (!window.customElements || !window.customElements.get('openeo-job')) {\n",
       "        var el = document.createElement('script');\n",
       "        el.src = \"https://cdn.jsdelivr.net/npm/@openeo/vue-components@2/assets/openeo.min.js\";\n",
       "        document.head.appendChild(el);\n",
       "\n",
       "        var font = document.createElement('font');\n",
       "        font.as = \"font\";\n",
       "        font.type = \"font/woff2\";\n",
       "        font.crossOrigin = true;\n",
       "        font.href = \"https://use.fontawesome.com/releases/v5.13.0/webfonts/fa-solid-900.woff2\"\n",
       "        document.head.appendChild(font);\n",
       "    }\n",
       "    </script>\n",
       "    <openeo-job>\n",
       "        <script type=\"application/json\">{\"currency\": \"EUR\", \"job\": {\"created\": \"2022-05-18T11:45:15Z\", \"id\": \"jb-7df5b3c3-c0fe-492c-b161-5a7f824c182a\", \"process\": {\"deprecated\": false, \"exceptions\": {}, \"experimental\": false, \"id\": \"tsjTXq8E0fcZJ7WT\", \"process_graph\": {\"loadcollection1\": {\"arguments\": {\"bands\": [\"band_1\", \"band_2\", \"band_3\", \"band_4\", \"band_7\", \"band_9\", \"band_10\"], \"id\": \"boa_sentinel_2\", \"spatial_extent\": {\"east\": 10.74, \"north\": 46.14, \"south\": 46.1, \"west\": 10.45}, \"temporal_extent\": [\"2018-05-01\", \"2018-09-01\"]}, \"process_id\": \"load_collection\"}, \"loadmlmodel1\": {\"arguments\": {\"id\": \"jb-561da48a-359e-43c9-b45e-7d7e8524a1fc\"}, \"process_id\": \"load_ml_model\"}, \"reducedimension1\": {\"arguments\": {\"data\": {\"from_node\": \"loadcollection1\"}, \"dimension\": \"t\", \"reducer\": {\"process_graph\": {\"median1\": {\"arguments\": {\"data\": {\"from_parameter\": \"data\"}}, \"process_id\": \"median\", \"result\": true}}}}, \"process_id\": \"reduce_dimension\"}, \"reducedimension2\": {\"arguments\": {\"context\": {\"from_node\": \"loadmlmodel1\"}, \"data\": {\"from_node\": \"reducedimension1\"}, \"dimension\": \"bands\", \"reducer\": {\"process_graph\": {\"predictrandomforest1\": {\"arguments\": {\"data\": {\"from_parameter\": \"data\"}, \"model\": {\"from_parameter\": \"context\"}}, \"process_id\": \"predict_random_forest\", \"result\": true}}}}, \"process_id\": \"reduce_dimension\"}, \"saveresult1\": {\"arguments\": {\"data\": {\"from_node\": \"reducedimension2\"}, \"format\": \"netCDF\", \"options\": {}}, \"process_id\": \"save_result\", \"result\": true}}}, \"status\": \"finished\", \"title\": \"UC8_predict_rf_regr_subset_lps_small\"}}</script>\n",
       "    </openeo-job>\n",
       "    "
      ],
      "text/plain": [
       "<RESTJob job_id='jb-7df5b3c3-c0fe-492c-b161-5a7f824c182a'>"
      ]
     },
     "execution_count": 43,
     "metadata": {},
     "output_type": "execute_result"
    }
   ],
   "source": [
    "# job_pred = \"jb-7df5b3c3-c0fe-492c-b161-5a7f824c182a\"\n",
    "job_pred"
   ]
  },
  {
   "cell_type": "markdown",
   "id": "b8a8e14b",
   "metadata": {},
   "source": [
    "### Plotting"
   ]
  },
  {
   "cell_type": "markdown",
   "id": "12bee81f",
   "metadata": {},
   "source": [
    "Finally we can download of the prediction in Netcdf format to our hard disks. The resulting structure can be loaded in an xarray data cube an finally plotted"
   ]
  },
  {
   "cell_type": "code",
   "execution_count": 44,
   "id": "5b1b3323",
   "metadata": {},
   "outputs": [
    {
     "data": {
      "text/plain": [
       "[PosixPath('resources/UC8/canopy_cover_prediction/out_2022_05_18T11_48_05_EU010M_E047N014T1'),\n",
       " PosixPath('resources/UC8/canopy_cover_prediction/out_2022_05_18T11_48_05_EU010M_E048N014T1'),\n",
       " PosixPath('resources/UC8/canopy_cover_prediction/job-results.json')]"
      ]
     },
     "execution_count": 44,
     "metadata": {},
     "output_type": "execute_result"
    }
   ],
   "source": [
    "results = job_pred.get_results()\n",
    "results.download_files(\"./resources/UC8/canopy_cover_prediction/\")"
   ]
  },
  {
   "cell_type": "code",
   "execution_count": null,
   "id": "01e6ea93",
   "metadata": {},
   "outputs": [],
   "source": [
    "![]() # Bild"
   ]
  }
 ],
 "metadata": {
  "kernelspec": {
   "display_name": "Python 3",
   "language": "python",
   "name": "python3"
  },
  "language_info": {
   "codemirror_mode": {
    "name": "ipython",
    "version": 3
   },
   "file_extension": ".py",
   "mimetype": "text/x-python",
   "name": "python",
   "nbconvert_exporter": "python",
   "pygments_lexer": "ipython3",
   "version": "3.10.2"
  }
 },
 "nbformat": 4,
 "nbformat_minor": 5
}
