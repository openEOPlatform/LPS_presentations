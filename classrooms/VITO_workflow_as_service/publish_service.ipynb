{
 "cells": [
  {
   "cell_type": "markdown",
   "id": "5d5b8b45",
   "metadata": {},
   "source": [
    "# Publishing openEO workflow as a web service\n",
    "\n",
    "This notebook explains how you can make your openEO algorithm available to interested users in an easy manner.\n",
    "\n",
    "While you can of course distribute your source code or process graphs as open source (which is always recommendable), this has the drawback that you won't be able to update any local copies that somebody has made.\n",
    "\n",
    "This guide explains how to expose your algorithm as a new openEO process, that can then be invoked very easily by others. You will also be able to advertise your\n",
    "process on a discovery portal, so that others can easily find your work. The publishing portal used in this session is [EOPlaza](https://portal.terrascope.be/marketplace)\n",
    "\n",
    "Note that the approach based on openEO is generic, and thus allows you to also publish the result elsewhere.\n",
    "\n",
    "## An algorithm to start from\n",
    "\n",
    "We'll need an existing openEO workflow that you want to publish. In this guide, we'll use a very simple EVI script, usually your algorithm will be more complex. Note that your algorithm does not have to be fully production\n",
    "ready and mature before you expose it: sharing prototypes can sometimes be helpful to find interested users, and you can clearly indicate the quality level on the portal:\n",
    "\n",
    "https://docs.terrascope.be/#/Developers/Marketplace/Start?id=service-maturity-levels\n",
    "\n",
    "\n",
    "The table below provides an overview of the different maturity levels that are applied within the Marketplace.\n",
    "\n",
    "| Level | Description |\n",
    "| --- | --- |\n",
    "| _**Prototype**_ | Service is provided ‘as-is’, with a short description and possibly a reference to what it tries to implement (scientific paper, well known metric, …) |\n",
    "| _**Incubating**_ | Quality of the service is documented with example requests (sets of parameters) and the corresponding output, as well as the resources required to generate that output. Allowing interested users to self-assess whether this service is suitable for usage. |\n",
    "| _**Validated**_ | The service is validated, and validation results are available.\n",
    "| _**Operational**_ | The service has been shown to be fit for larger scale production and integration in operational systems. Rules for estimating resource usage are available, or a unit cost is established. (€ per km², € per request, ...) |\n",
    "\n",
    "\n",
    "\n",
    "\n"
   ]
  },
  {
   "cell_type": "markdown",
   "id": "bd257a9b",
   "metadata": {},
   "source": [
    "\n",
    "## openEO UDP's\n",
    "\n",
    "To make a service available to your users, you will want to replace certain fixed values in your process graph with parameters that can be set by the user of your process.\n",
    "Detailed documentation on this can be found here, but we'll also go through a few steps in this notebook:\n",
    "\n",
    "https://open-eo.github.io/openeo-python-client/udp.html\n",
    "\n",
    "\n",
    "The only limitation for this approach, is that your workflow needs to be defined as a single process graph. So workflows that require multiple openEO invocations or complex parameter preprocessing won't work yet. Of course, thanks to the flexibility of openEO, and the ability to include custom code as UDF's, a lot of algorithms can already be defined in a single openEO graph.\n",
    "\n",
    "\n",
    "\n",
    "\n",
    "https://github.com/VITObelgium/notebook-samples/blob/master/Terrascope/Beginner/OpenEO_CropCalendarService.ipynb\n",
    "\n"
   ]
  },
  {
   "cell_type": "code",
   "execution_count": 1,
   "id": "44c4bbfd",
   "metadata": {},
   "outputs": [],
   "source": [
    "import openeo\n",
    "from openeo.api.process import Parameter\n",
    "\n",
    "connection = openeo.connect(\"openeo.cloud\")"
   ]
  },
  {
   "cell_type": "code",
   "execution_count": 2,
   "id": "8901b973",
   "metadata": {},
   "outputs": [
    {
     "name": "stdout",
     "output_type": "stream",
     "text": [
      "Authenticated using refresh token.\n"
     ]
    },
    {
     "data": {
      "text/plain": [
       "<Connection to 'https://openeocloud.vito.be/openeo/1.0.0/' with OidcBearerAuth>"
      ]
     },
     "execution_count": 2,
     "metadata": {},
     "output_type": "execute_result"
    }
   ],
   "source": [
    "connection.authenticate_oidc()"
   ]
  },
  {
   "cell_type": "code",
   "execution_count": 3,
   "id": "8ed2a08c",
   "metadata": {},
   "outputs": [],
   "source": [
    "DATE_DESCRIPTION = \"\"\"Left-closed temporal interval, i.e. an array with exactly two elements:\\n\\n1. The first element is the start of the temporal interval. The specified instance in time is **included** in the interval.\\n2. The second element is the end of the temporal interval. The specified instance in time is **excluded** from the interval.\\n\\nThe specified temporal strings follow [RFC 3339](https://www.rfc-editor.org/rfc/rfc3339.html). Also supports open intervals by setting one of the boundaries to `null`, but never both.\"\"\"\n",
    "DATE_SCHEMA = {\n",
    "    \"type\": \"array\",\n",
    "    \"subtype\": \"temporal-interval\",\n",
    "    \"minItems\": 2,\n",
    "    \"maxItems\": 2,\n",
    "    \"items\": {\n",
    "        \"anyOf\": [\n",
    "            {\n",
    "                \"type\": \"string\",\n",
    "                \"format\": \"date-time\",\n",
    "                \"subtype\": \"date-time\"\n",
    "            },\n",
    "            {\n",
    "                \"type\": \"string\",\n",
    "                \"format\": \"date\",\n",
    "                \"subtype\": \"date\"\n",
    "            },\n",
    "            {\n",
    "                \"type\": \"string\",\n",
    "                \"subtype\": \"year\",\n",
    "                \"minLength\": 4,\n",
    "                \"maxLength\": 4,\n",
    "                \"pattern\": \"^\\\\d{4}$\"\n",
    "            },\n",
    "            {\n",
    "                \"type\": \"null\"\n",
    "            }\n",
    "        ]\n",
    "    },\n",
    "    \"examples\": [\n",
    "        [\n",
    "            \"2015-01-01T00:00:00Z\",\n",
    "            \"2016-01-01T00:00:00Z\"\n",
    "        ],\n",
    "        [\n",
    "            \"2015-01-01\",\n",
    "            \"2016-01-01\"\n",
    "        ]\n",
    "    ]\n",
    "}\n",
    "\n",
    "date_param =  Parameter(\n",
    "    name=\"date\",\n",
    "    description=DATE_DESCRIPTION,\n",
    "    schema=DATE_SCHEMA\n",
    ")\n",
    "\n",
    "polygon_param =  Parameter(\n",
    "    name=\"polygon\",\n",
    "    description=\"Geographical extent for the EVI input\",\n",
    "    schema={\"type\": \"object\", \"subtype\": \"geojson\"}\n",
    ")"
   ]
  },
  {
   "cell_type": "markdown",
   "id": "01a1cd72",
   "metadata": {},
   "source": [
    "Now we can start the implementation of the actual service. Based on the different functions, provided by the OpenEO python client, the following actions are executed:\n",
    "\n",
    "1. Load in the TerraScope Sentinel 2 collection, select the images that were taken on the date specified by the *date_param* parameter and only select the relevant bands.\n",
    "2. Apply an additional filtering to only select the data that is matching the polygon defined by the *polygon_param* parameter.\n",
    "3. Extract the band information from the resulting datacube.\n",
    "4. Use the bands to calculate resulting EVI product based on a given formula"
   ]
  },
  {
   "cell_type": "code",
   "execution_count": 5,
   "id": "9d3676d1",
   "metadata": {},
   "outputs": [],
   "source": [
    "sentinel2_data_cube = connection.load_collection(\n",
    "    \"SENTINEL2_L2A\",\n",
    "    temporal_extent=date_param,\n",
    "    bands=[\"B02\", \"B04\", \"B08\"]\n",
    ")\n",
    "\n",
    "sentinel2_data_cube = sentinel2_data_cube.filter_spatial(polygon_param)\n",
    "\n",
    "B02 = sentinel2_data_cube.band('B02')\n",
    "B04 = sentinel2_data_cube.band('B04')\n",
    "B08 = sentinel2_data_cube.band('B08')\n",
    "\n",
    "evi_cube = (2.5 * (B08 - B04)) / ((B08 + 6.0 * B04 - 7.5 * B02) + 1.0)"
   ]
  },
  {
   "cell_type": "markdown",
   "id": "aa9c674b",
   "metadata": {},
   "source": [
    "## Publish the service in OpenEO\n",
    "Now that we have implemented our service, we need to publish it online so that openEO backends can retrieve the information. One way to do this is by storing it in a Github repo, but the VITO backend also allows to save it directly.\n",
    "After saving, we will reference it by the public url, so that other backends and the web editor can also load it.\n",
    "\n",
    "\n",
    "**Remark** - This will not publish the service to the marketplace. However, this step is required to publish the service on the marketplace as it is important that your service is available to other OpenEO users.\n",
    "\n"
   ]
  },
  {
   "cell_type": "code",
   "execution_count": 6,
   "id": "b865f3b8",
   "metadata": {},
   "outputs": [
    {
     "name": "stdout",
     "output_type": "stream",
     "text": [
      "Authenticated using refresh token.\n"
     ]
    }
   ],
   "source": [
    "from pathlib import Path\n",
    "\n",
    "vito = openeo.connect(\"openeo.vito.be\").authenticate_oidc()\n",
    "\n",
    "process_name = \"EVI\"\n",
    "udp=vito.save_user_defined_process(\n",
    "    user_defined_process_id=process_name,\n",
    "    summary=\"Sentinel-2 based enhanced vegetation index (EVI)\",\n",
    "    description=Path(\"evi_description.md\").read_text(),\n",
    "    process_graph=evi_cube.flat_graph(),\n",
    "    parameters=[date_param,polygon_param],\n",
    "    public=True\n",
    ")"
   ]
  },
  {
   "cell_type": "markdown",
   "id": "7776cfe7",
   "metadata": {},
   "source": [
    "When our process already exists, we can retrieve it like this:"
   ]
  },
  {
   "cell_type": "code",
   "execution_count": 7,
   "id": "ce103218",
   "metadata": {},
   "outputs": [
    {
     "data": {
      "text/html": [
       "\n",
       "    <script>\n",
       "    if (!window.customElements || !window.customElements.get('openeo-process')) {\n",
       "        var el = document.createElement('script');\n",
       "        el.src = \"https://cdn.jsdelivr.net/npm/@openeo/vue-components@2/assets/openeo.min.js\";\n",
       "        document.head.appendChild(el);\n",
       "\n",
       "        var font = document.createElement('font');\n",
       "        font.as = \"font\";\n",
       "        font.type = \"font/woff2\";\n",
       "        font.crossOrigin = true;\n",
       "        font.href = \"https://use.fontawesome.com/releases/v5.13.0/webfonts/fa-solid-900.woff2\"\n",
       "        document.head.appendChild(font);\n",
       "    }\n",
       "    </script>\n",
       "    <openeo-process>\n",
       "        <script type=\"application/json\">{\"show-graph\": true, \"provide-download\": false, \"process\": {\"description\": \"# Enhanced Vegetation Index\\n\\nCalculate Sentinel-2 based EVI at 10m resolution for an area and time period.\\n\\nThe enhanced vegetation index (EVI) is an 'optimized' vegetation index designed to enhance the vegetation signal with improved sensitivity in high biomass regions and improved vegetation monitoring through a de-coupling of the canopy background signal and a reduction in atmosphere influences. \\n\\n[Link]https://en.wikipedia.org/wiki/Enhanced_vegetation_index\\n\\n## Validation\\n\\nThis process is not yet validated! So use with care.\\n\\n## Cost estimation\\n\\nXX credits/ha\", \"id\": \"EVI\", \"links\": [{\"href\": \"https://openeo.vito.be/openeo/1.1/processes/u:dfa678cb9ab17f65d4f025e30fac5e0d90116176e44fd17d703419322747cbbd%40egi.eu/EVI\", \"rel\": \"canonical\", \"title\": \"Public URL for user-defined process 'EVI'\"}], \"parameters\": [{\"description\": \"Left-closed temporal interval, i.e. an array with exactly two elements:\\n\\n1. The first element is the start of the temporal interval. The specified instance in time is **included** in the interval.\\n2. The second element is the end of the temporal interval. The specified instance in time is **excluded** from the interval.\\n\\nThe specified temporal strings follow [RFC 3339](https://www.rfc-editor.org/rfc/rfc3339.html). Also supports open intervals by setting one of the boundaries to `null`, but never both.\", \"name\": \"date\", \"schema\": {\"examples\": [[\"2015-01-01T00:00:00Z\", \"2016-01-01T00:00:00Z\"], [\"2015-01-01\", \"2016-01-01\"]], \"items\": {\"anyOf\": [{\"format\": \"date-time\", \"subtype\": \"date-time\", \"type\": \"string\"}, {\"format\": \"date\", \"subtype\": \"date\", \"type\": \"string\"}, {\"maxLength\": 4, \"minLength\": 4, \"pattern\": \"^\\\\d{4}$\", \"subtype\": \"year\", \"type\": \"string\"}, {\"type\": \"null\"}]}, \"maxItems\": 2, \"minItems\": 2, \"subtype\": \"temporal-interval\", \"type\": \"array\"}}, {\"description\": \"Geographical extent for the EVI input\", \"name\": \"polygon\", \"schema\": {\"subtype\": \"geojson\", \"type\": \"object\"}}], \"process_graph\": {\"filterspatial1\": {\"arguments\": {\"data\": {\"from_node\": \"loadcollection1\"}, \"geometries\": {\"from_parameter\": \"polygon\"}}, \"process_id\": \"filter_spatial\"}, \"loadcollection1\": {\"arguments\": {\"bands\": [\"B02\", \"B04\", \"B08\"], \"id\": \"SENTINEL2_L2A\", \"spatial_extent\": null, \"temporal_extent\": {\"from_parameter\": \"date\"}}, \"process_id\": \"load_collection\"}, \"reducedimension1\": {\"arguments\": {\"data\": {\"from_node\": \"filterspatial1\"}, \"dimension\": \"bands\", \"reducer\": {\"process_graph\": {\"add1\": {\"arguments\": {\"x\": {\"from_node\": \"arrayelement1\"}, \"y\": {\"from_node\": \"multiply2\"}}, \"process_id\": \"add\"}, \"add2\": {\"arguments\": {\"x\": {\"from_node\": \"subtract2\"}, \"y\": 1.0}, \"process_id\": \"add\"}, \"arrayelement1\": {\"arguments\": {\"data\": {\"from_parameter\": \"data\"}, \"index\": 2}, \"process_id\": \"array_element\"}, \"arrayelement2\": {\"arguments\": {\"data\": {\"from_parameter\": \"data\"}, \"index\": 1}, \"process_id\": \"array_element\"}, \"arrayelement3\": {\"arguments\": {\"data\": {\"from_parameter\": \"data\"}, \"index\": 0}, \"process_id\": \"array_element\"}, \"divide1\": {\"arguments\": {\"x\": {\"from_node\": \"multiply1\"}, \"y\": {\"from_node\": \"add2\"}}, \"process_id\": \"divide\", \"result\": true}, \"multiply1\": {\"arguments\": {\"x\": 2.5, \"y\": {\"from_node\": \"subtract1\"}}, \"process_id\": \"multiply\"}, \"multiply2\": {\"arguments\": {\"x\": 6.0, \"y\": {\"from_node\": \"arrayelement2\"}}, \"process_id\": \"multiply\"}, \"multiply3\": {\"arguments\": {\"x\": 7.5, \"y\": {\"from_node\": \"arrayelement3\"}}, \"process_id\": \"multiply\"}, \"subtract1\": {\"arguments\": {\"x\": {\"from_node\": \"arrayelement1\"}, \"y\": {\"from_node\": \"arrayelement2\"}}, \"process_id\": \"subtract\"}, \"subtract2\": {\"arguments\": {\"x\": {\"from_node\": \"add1\"}, \"y\": {\"from_node\": \"multiply3\"}}, \"process_id\": \"subtract\"}}}}, \"process_id\": \"reduce_dimension\", \"result\": true}}, \"public\": true, \"summary\": \"Sentinel-2 based enhanced vegetation index (EVI)\"}}</script>\n",
       "    </openeo-process>\n",
       "    "
      ],
      "text/plain": [
       "<openeo.rest.udp.RESTUserDefinedProcess at 0x7f1199580e80>"
      ]
     },
     "execution_count": 7,
     "metadata": {},
     "output_type": "execute_result"
    }
   ],
   "source": [
    "udp = vito.user_defined_process(\"EVI\")\n",
    "udp"
   ]
  },
  {
   "cell_type": "markdown",
   "id": "25a66439",
   "metadata": {},
   "source": [
    "Further on in this notebook, we'll require the public url for this service. We can retrieve it from the metadata:"
   ]
  },
  {
   "cell_type": "code",
   "execution_count": 8,
   "id": "e6902c71",
   "metadata": {},
   "outputs": [
    {
     "data": {
      "text/plain": [
       "'https://openeo.vito.be/openeo/1.1/processes/u:dfa678cb9ab17f65d4f025e30fac5e0d90116176e44fd17d703419322747cbbd%40egi.eu/EVI'"
      ]
     },
     "execution_count": 8,
     "metadata": {},
     "output_type": "execute_result"
    }
   ],
   "source": [
    "udp_public_url, = [l[\"href\"] for l in udp.describe()[\"links\"] if l[\"rel\"] == \"canonical\"]\n",
    "udp_public_url"
   ]
  },
  {
   "cell_type": "markdown",
   "id": "9ab88205",
   "metadata": {},
   "source": [
    "## Let's try it out!\n",
    "Now that we have created and published our service, we can test it to see if it working!"
   ]
  },
  {
   "cell_type": "markdown",
   "id": "06ddf0c0",
   "metadata": {},
   "source": [
    "We start by defining our input parameters"
   ]
  },
  {
   "cell_type": "code",
   "execution_count": 9,
   "id": "96041f38",
   "metadata": {},
   "outputs": [],
   "source": [
    "output_file = \"evi.tiff\"\n",
    "polygon =  {\"type\":\"Feature\",\"geometry\":{\"type\":\"Polygon\",\"coordinates\":[[[5.169965489314347,51.250572485731965],[5.1709813825271,51.248670823679106],[5.178575420851998,51.24673809898954],[5.179170926259544,51.24985398556541],[5.169965489314347,51.250572485731965]]]},\"properties\":{}}\n",
    "date = [\"2022-05-02\",\"2022-05-06\"]"
   ]
  },
  {
   "cell_type": "markdown",
   "id": "6b52281d",
   "metadata": {},
   "source": [
    "Exec"
   ]
  },
  {
   "cell_type": "code",
   "execution_count": 10,
   "id": "e6ef8d7e",
   "metadata": {},
   "outputs": [
    {
     "name": "stderr",
     "output_type": "stream",
     "text": [
      "/data/users/Public/driesj/openeo/openeo-python-client/openeo/metadata.py:244: UserWarning: No cube:dimensions metadata\n",
      "  complain(\"No cube:dimensions metadata\")\n"
     ]
    }
   ],
   "source": [
    "evi_exec = connection.datacube_from_process(\"EVI\",namespace=udp_public_url, date=date, polygon=polygon)\n",
    "evi_exec.download(output_file)"
   ]
  },
  {
   "cell_type": "code",
   "execution_count": 11,
   "id": "d6dee375",
   "metadata": {
    "scrolled": true
   },
   "outputs": [
    {
     "data": {
      "image/png": "[encoded data removed]",
      "text/plain": [
       "<Figure size 648x288 with 1 Axes>"
      ]
     },
     "metadata": {
      "needs_background": "light"
     },
     "output_type": "display_data"
    },
    {
     "data": {
      "text/plain": [
       "<matplotlib.axes._subplots.AxesSubplot at 0x7f118bfc4c50>"
      ]
     },
     "execution_count": 11,
     "metadata": {},
     "output_type": "execute_result"
    }
   ],
   "source": [
    "import matplotlib.pyplot as plt\n",
    "import rasterio\n",
    "from rasterio.plot import show,show_hist\n",
    "ds = rasterio.open(output_file)\n",
    "fig = plt.subplots(1,1, figsize=(9, 4))\n",
    "show(ds,cmap=plt.cm.RdYlGn,title='EVI', vmin=-10, vmax=10)"
   ]
  },
  {
   "cell_type": "markdown",
   "id": "97d4015d",
   "metadata": {},
   "source": [
    "## Publishing your service online"
   ]
  },
  {
   "cell_type": "markdown",
   "id": "419ceb81",
   "metadata": {},
   "source": [
    "We now want to also add this service to the marketplace. The documentation for that can be found here:\n",
    "\n",
    "https://docs.terrascope.be/#/Developers/Marketplace/Services?id=create-a-new-service\n",
    "\n",
    "\n",
    "\n",
    "One requirement for publishing, is to know a public url for your service. You'll need to know your username to construct the link:\n",
    "https://docs.terrascope.be/#/Developers/Marketplace/Services?id=create-a-link-to-directly-execute-your-service\n"
   ]
  },
  {
   "cell_type": "markdown",
   "id": "1e6b2ef2",
   "metadata": {},
   "source": [
    "Or we can open our service in the openEO web editor, this is convenient for users that want to test without scripting:"
   ]
  },
  {
   "cell_type": "code",
   "execution_count": 14,
   "id": "3861c68b",
   "metadata": {},
   "outputs": [
    {
     "data": {
      "text/plain": [
       "'https://editor.openeo.org/?server=https://openeo.vito.be&namespaces=u:dfa678cb9ab17f65d4f025e30fac5e0d90116176e44fd17d703419322747cbbd%40egi.eu&process=EVI'"
      ]
     },
     "execution_count": 14,
     "metadata": {},
     "output_type": "execute_result"
    }
   ],
   "source": [
    "editor_url= f\"https://editor.openeo.org/?server=https://openeo.vito.be&namespaces=u:dfa678cb9ab17f65d4f025e30fac5e0d90116176e44fd17d703419322747cbbd%40egi.eu&process=EVI\"\n",
    "editor_url"
   ]
  },
  {
   "cell_type": "code",
   "execution_count": 15,
   "id": "e383ae05",
   "metadata": {},
   "outputs": [
    {
     "data": {
      "text/plain": [
       "'https://editor.openeo.cloud/?server=https://openeo.cloud&process=https://openeo.vito.be/openeo/1.1/processes/u:dfa678cb9ab17f65d4f025e30fac5e0d90116176e44fd17d703419322747cbbd%40egi.eu/EVI&edit-node=loadcollection1'"
      ]
     },
     "execution_count": 15,
     "metadata": {},
     "output_type": "execute_result"
    }
   ],
   "source": [
    "editor_url= f\"https://editor.openeo.cloud/?server=https://openeo.cloud&process={udp_public_url}&edit-node=loadcollection1\"\n",
    "editor_url"
   ]
  }
 ],
 "metadata": {
  "kernelspec": {
   "display_name": "python36",
   "language": "python",
   "name": "python36"
  },
  "language_info": {
   "codemirror_mode": {
    "name": "ipython",
    "version": 3
   },
   "file_extension": ".py",
   "mimetype": "text/x-python",
   "name": "python",
   "nbconvert_exporter": "python",
   "pygments_lexer": "ipython3",
   "version": "3.6.8"
  }
 },
 "nbformat": 4,
 "nbformat_minor": 5
}
