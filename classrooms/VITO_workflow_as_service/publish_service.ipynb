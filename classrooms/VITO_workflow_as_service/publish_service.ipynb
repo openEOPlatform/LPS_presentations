{
 "cells": [
  {
   "cell_type": "markdown",
   "id": "ace3f0cc",
   "metadata": {},
   "source": [
    "# Publishing openEO workflow as a web service\n",
    "\n",
    "This notebook explains how you can make your openEO algorithm available to interested users in an easy manner.\n",
    "\n",
    "While you can of course distribute your source code or process graphs as open source (which is always recommendable), this has the drawback that you won't be able to update any local copies that somebody has made.\n",
    "\n",
    "This guide explains how to expose your algorithm as a new openEO process, that can then be invoked very easily by others. You will also be able to advertise your\n",
    "process on a discovery portal, so that others can easily find your work.\n",
    "\n",
    "## An algorithm to start from\n",
    "\n",
    "We'll need an existing openEO workflow that you want to publish. In this guide, we'll use a very simple EVI script, usually your algorithm will be more complex. Note that your algorithm does not have to be fully production\n",
    "ready and mature before you expose it: sharing prototypes can sometimes be helpful to find interested users, and you can clearly indicate the quality level on the portal:\n",
    "\n",
    "https://docs.terrascope.be/#/Developers/Marketplace/Start?id=service-maturity-levels\n",
    "\n",
    "\n",
    "The table below provides an overview of the different maturity levels that are applied within the Marketplace.\n",
    "\n",
    "| Level | Description |\n",
    "| --- | --- |\n",
    "| _**Prototype**_ | Service is provided ‘as-is’, with a short description and possibly a reference to what it tries to implement (scientific paper, well known metric, …) |\n",
    "| _**Incubating**_ | Quality of the service is documented with example requests (sets of parameters) and the corresponding output, as well as the resources required to generate that output. Allowing interested users to self-assess whether this service is suitable for usage. |\n",
    "| _**Validated**_ | The service is validated, and validation results are available.\n",
    "| _**Operational**_ | The service has been shown to be fit for larger scale production and integration in operational systems. Rules for estimating resource usage are available, or a unit cost is established. (€ per km², € per request, ...) |\n",
    "\n",
    "\n",
    "\n",
    "\n"
   ]
  },
  {
   "cell_type": "code",
   "execution_count": null,
   "id": "56c6743a",
   "metadata": {},
   "outputs": [],
   "source": []
  },
  {
   "cell_type": "markdown",
   "id": "ac10a46d",
   "metadata": {},
   "source": [
    "\n",
    "## openEO UDP's\n",
    "\n",
    "To make a service available to your users, you will want to replace certain fixed values in your process graph with parameters that can be set by the user of your process.\n",
    "Detailed documentation on this can be found here, but we'll also go through a few steps in this notebook:\n",
    "\n",
    "https://open-eo.github.io/openeo-python-client/udp.html\n",
    "\n",
    "\n",
    "The only limitation for this approach, is that your workflow needs to be defined as a single process graph. So workflows that require multiple openEO invocations or complex parameter preprocessing won't work yet. Of course, thanks to the flexibility of openEO, and the ability to include custom code as UDF's, a lot of algorithms can already be defined in a single openEO graph.\n",
    "\n",
    "\n",
    "\n",
    "\n",
    "https://github.com/VITObelgium/notebook-samples/blob/master/Terrascope/Beginner/OpenEO_CropCalendarService.ipynb\n",
    "\n"
   ]
  },
  {
   "cell_type": "code",
   "execution_count": 15,
   "id": "45683a5b",
   "metadata": {},
   "outputs": [],
   "source": [
    "import openeo\n",
    "from openeo.api.process import Parameter\n",
    "\n",
    "connection = openeo.connect(\"openeo.vito.be\")"
   ]
  },
  {
   "cell_type": "code",
   "execution_count": 16,
   "id": "014ba108",
   "metadata": {},
   "outputs": [
    {
     "name": "stdout",
     "output_type": "stream",
     "text": [
      "Authenticated using refresh token.\n"
     ]
    },
    {
     "data": {
      "text/plain": [
       "<Connection to 'https://openeo.vito.be/openeo/1.1/' with BearerAuth>"
      ]
     },
     "execution_count": 16,
     "metadata": {},
     "output_type": "execute_result"
    }
   ],
   "source": [
    "connection.authenticate_oidc()"
   ]
  },
  {
   "cell_type": "code",
   "execution_count": 12,
   "id": "e6a99f2b",
   "metadata": {},
   "outputs": [],
   "source": [
    "DATE_DESCRIPTION = \"\"\"Left-closed temporal interval, i.e. an array with exactly two elements:\\n\\n1. The first element is the start of the temporal interval. The specified instance in time is **included** in the interval.\\n2. The second element is the end of the temporal interval. The specified instance in time is **excluded** from the interval.\\n\\nThe specified temporal strings follow [RFC 3339](https://www.rfc-editor.org/rfc/rfc3339.html). Also supports open intervals by setting one of the boundaries to `null`, but never both.\"\"\"\n",
    "DATE_SCHEMA = {\n",
    "    \"type\": \"array\",\n",
    "    \"subtype\": \"temporal-interval\",\n",
    "    \"minItems\": 2,\n",
    "    \"maxItems\": 2,\n",
    "    \"items\": {\n",
    "        \"anyOf\": [\n",
    "            {\n",
    "                \"type\": \"string\",\n",
    "                \"format\": \"date-time\",\n",
    "                \"subtype\": \"date-time\"\n",
    "            },\n",
    "            {\n",
    "                \"type\": \"string\",\n",
    "                \"format\": \"date\",\n",
    "                \"subtype\": \"date\"\n",
    "            },\n",
    "            {\n",
    "                \"type\": \"string\",\n",
    "                \"subtype\": \"year\",\n",
    "                \"minLength\": 4,\n",
    "                \"maxLength\": 4,\n",
    "                \"pattern\": \"^\\\\d{4}$\"\n",
    "            },\n",
    "            {\n",
    "                \"type\": \"null\"\n",
    "            }\n",
    "        ]\n",
    "    },\n",
    "    \"examples\": [\n",
    "        [\n",
    "            \"2015-01-01T00:00:00Z\",\n",
    "            \"2016-01-01T00:00:00Z\"\n",
    "        ],\n",
    "        [\n",
    "            \"2015-01-01\",\n",
    "            \"2016-01-01\"\n",
    "        ]\n",
    "    ]\n",
    "}\n",
    "\n",
    "date_param =  Parameter(\n",
    "    name=\"date\",\n",
    "    description=DATE_DESCRIPTION,\n",
    "    schema=DATE_SCHEMA\n",
    ")\n",
    "\n",
    "polygon_param =  Parameter(\n",
    "    name=\"polygon\",\n",
    "    description=\"Geographical extent for the EVI input\",\n",
    "    schema={\"type\": \"object\", \"subtype\": \"geojson\"}\n",
    ")"
   ]
  },
  {
   "cell_type": "markdown",
   "id": "f7f586a9",
   "metadata": {},
   "source": [
    "Now we can start the implementation of the actual service. Based on the different functions, provided by the OpenEO python client, the following actions are executed:\n",
    "\n",
    "1. Load in the TerraScope Sentinel 2 collection, select the images that were taken on the date specified by the *date_param* parameter and only select the relevant bands.\n",
    "2. Apply an additional filtering to only select the data that is matching the polygon defined by the *polygon_param* parameter.\n",
    "3. Extract the band information from the resulting datacube.\n",
    "4. Use the bands to calculate resulting EVI product based on a given formula"
   ]
  },
  {
   "cell_type": "code",
   "execution_count": 17,
   "id": "85adf823",
   "metadata": {},
   "outputs": [],
   "source": [
    "sentinel2_data_cube = connection.load_collection(\n",
    "    \"TERRASCOPE_S2_TOC_V2\",\n",
    "    temporal_extent=date_param,\n",
    "    bands=[\"B02\", \"B04\", \"B08\"]\n",
    ")\n",
    "\n",
    "sentinel2_data_cube = sentinel2_data_cube.filter_spatial(polygon_param)\n",
    "\n",
    "B02 = sentinel2_data_cube.band('B02')\n",
    "B04 = sentinel2_data_cube.band('B04')\n",
    "B08 = sentinel2_data_cube.band('B08')\n",
    "\n",
    "evi_cube = (2.5 * (B08 - B04)) / ((B08 + 6.0 * B04 - 7.5 * B02) + 1.0)"
   ]
  },
  {
   "cell_type": "markdown",
   "id": "0f991a23",
   "metadata": {},
   "source": [
    "## Publish the service in OpenEO\n",
    "Now that we have implemented our service, we can publish the service within OpenEO. This will result in a URL that enables you to share the service to other OpenEO users.\n",
    "\n",
    "**Remark** - This will not publish the service to the marketplace. However, this step is required to publish the service on the marketplace as it is important that your service is available to other OpenEO users."
   ]
  },
  {
   "cell_type": "code",
   "execution_count": 35,
   "id": "e871a2b1",
   "metadata": {},
   "outputs": [
    {
     "name": "stderr",
     "output_type": "stream",
     "text": [
      "/usr/local/lib/python3.6/site-packages/ipykernel_launcher.py:4: DeprecationWarning: Call to deprecated function (or staticmethod) graph. (Use `DataCube.flat_graph()` instead.) -- Deprecated since version 0.9.0.\n",
      "  after removing the cwd from sys.path.\n"
     ]
    },
    {
     "data": {
      "text/html": [
       "\n",
       "    <script>\n",
       "    if (!window.customElements || !window.customElements.get('openeo-process')) {\n",
       "        var el = document.createElement('script');\n",
       "        el.src = \"https://cdn.jsdelivr.net/npm/@openeo/vue-components@2/assets/openeo.min.js\";\n",
       "        document.head.appendChild(el);\n",
       "\n",
       "        var font = document.createElement('font');\n",
       "        font.as = \"font\";\n",
       "        font.type = \"font/woff2\";\n",
       "        font.crossOrigin = true;\n",
       "        font.href = \"https://use.fontawesome.com/releases/v5.13.0/webfonts/fa-solid-900.woff2\"\n",
       "        document.head.appendChild(font);\n",
       "    }\n",
       "    </script>\n",
       "    <openeo-process>\n",
       "        <script type=\"application/json\">{\"show-graph\": true, \"provide-download\": false, \"process\": {\"id\": \"EVI\", \"links\": [{\"href\": \"https://openeo.vito.be/openeo/1.1/processes/u:dfa678cb9ab17f65d4f025e30fac5e0d90116176e44fd17d703419322747cbbd%40egi.eu/EVI\", \"rel\": \"canonical\", \"title\": \"Public URL for user-defined process 'EVI'\"}], \"parameters\": [{\"description\": \"Left-closed temporal interval, i.e. an array with exactly two elements:\\n\\n1. The first element is the start of the temporal interval. The specified instance in time is **included** in the interval.\\n2. The second element is the end of the temporal interval. The specified instance in time is **excluded** from the interval.\\n\\nThe specified temporal strings follow [RFC 3339](https://www.rfc-editor.org/rfc/rfc3339.html). Also supports open intervals by setting one of the boundaries to `null`, but never both.\", \"name\": \"date\", \"schema\": {\"examples\": [[\"2015-01-01T00:00:00Z\", \"2016-01-01T00:00:00Z\"], [\"2015-01-01\", \"2016-01-01\"]], \"items\": {\"anyOf\": [{\"format\": \"date-time\", \"subtype\": \"date-time\", \"type\": \"string\"}, {\"format\": \"date\", \"subtype\": \"date\", \"type\": \"string\"}, {\"maxLength\": 4, \"minLength\": 4, \"pattern\": \"^\\\\d{4}$\", \"subtype\": \"year\", \"type\": \"string\"}, {\"type\": \"null\"}]}, \"maxItems\": 2, \"minItems\": 2, \"subtype\": \"temporal-interval\", \"type\": \"array\"}}, {\"description\": \"Geographical extent for the EVI input\", \"name\": \"polygon\", \"schema\": {\"subtype\": \"geojson\", \"type\": \"object\"}}], \"process_graph\": {\"filterspatial1\": {\"arguments\": {\"data\": {\"from_node\": \"loadcollection1\"}, \"geometries\": {\"from_parameter\": \"polygon\"}}, \"process_id\": \"filter_spatial\"}, \"loadcollection1\": {\"arguments\": {\"bands\": [\"B02\", \"B04\", \"B08\"], \"id\": \"TERRASCOPE_S2_TOC_V2\", \"spatial_extent\": null, \"temporal_extent\": {\"from_parameter\": \"date\"}}, \"process_id\": \"load_collection\"}, \"reducedimension1\": {\"arguments\": {\"data\": {\"from_node\": \"filterspatial1\"}, \"dimension\": \"bands\", \"reducer\": {\"process_graph\": {\"add1\": {\"arguments\": {\"x\": {\"from_node\": \"arrayelement1\"}, \"y\": {\"from_node\": \"multiply2\"}}, \"process_id\": \"add\"}, \"add2\": {\"arguments\": {\"x\": {\"from_node\": \"subtract2\"}, \"y\": 1.0}, \"process_id\": \"add\"}, \"arrayelement1\": {\"arguments\": {\"data\": {\"from_parameter\": \"data\"}, \"index\": 2}, \"process_id\": \"array_element\"}, \"arrayelement2\": {\"arguments\": {\"data\": {\"from_parameter\": \"data\"}, \"index\": 1}, \"process_id\": \"array_element\"}, \"arrayelement3\": {\"arguments\": {\"data\": {\"from_parameter\": \"data\"}, \"index\": 0}, \"process_id\": \"array_element\"}, \"divide1\": {\"arguments\": {\"x\": {\"from_node\": \"multiply1\"}, \"y\": {\"from_node\": \"add2\"}}, \"process_id\": \"divide\", \"result\": true}, \"multiply1\": {\"arguments\": {\"x\": 2.5, \"y\": {\"from_node\": \"subtract1\"}}, \"process_id\": \"multiply\"}, \"multiply2\": {\"arguments\": {\"x\": 6.0, \"y\": {\"from_node\": \"arrayelement2\"}}, \"process_id\": \"multiply\"}, \"multiply3\": {\"arguments\": {\"x\": 7.5, \"y\": {\"from_node\": \"arrayelement3\"}}, \"process_id\": \"multiply\"}, \"subtract1\": {\"arguments\": {\"x\": {\"from_node\": \"arrayelement1\"}, \"y\": {\"from_node\": \"arrayelement2\"}}, \"process_id\": \"subtract\"}, \"subtract2\": {\"arguments\": {\"x\": {\"from_node\": \"add1\"}, \"y\": {\"from_node\": \"multiply3\"}}, \"process_id\": \"subtract\"}}}}, \"process_id\": \"reduce_dimension\", \"result\": true}}, \"public\": true}}</script>\n",
       "    </openeo-process>\n",
       "    "
      ],
      "text/plain": [
       "<openeo.rest.udp.RESTUserDefinedProcess at 0x7f4efbb233c8>"
      ]
     },
     "execution_count": 35,
     "metadata": {},
     "output_type": "execute_result"
    }
   ],
   "source": [
    "process_name = \"EVI\"\n",
    "connection.save_user_defined_process(\n",
    "    user_defined_process_id=process_name,\n",
    "    process_graph=evi_cube.graph,\n",
    "    parameters=[date_param,polygon_param],\n",
    "    public=True\n",
    ")"
   ]
  },
  {
   "cell_type": "markdown",
   "id": "e669f0f2",
   "metadata": {},
   "source": [
    "## Let's try it out!\n",
    "Now that we have created and published our service, we can test it to see if it working!"
   ]
  },
  {
   "cell_type": "markdown",
   "id": "3276d86b",
   "metadata": {},
   "source": [
    "We start by defining our input parameters"
   ]
  },
  {
   "cell_type": "code",
   "execution_count": 20,
   "id": "b8121fce",
   "metadata": {},
   "outputs": [],
   "source": [
    "output_file = \"evi.tiff\"\n",
    "polygon =  {\"type\":\"Feature\",\"geometry\":{\"type\":\"Polygon\",\"coordinates\":[[[5.169965489314347,51.250572485731965],[5.1709813825271,51.248670823679106],[5.178575420851998,51.24673809898954],[5.179170926259544,51.24985398556541],[5.169965489314347,51.250572485731965]]]},\"properties\":{}}\n",
    "date = [\"2022-05-02\",\"2022-05-06\"]"
   ]
  },
  {
   "cell_type": "markdown",
   "id": "436db41e",
   "metadata": {},
   "source": [
    "Exec"
   ]
  },
  {
   "cell_type": "code",
   "execution_count": 21,
   "id": "697a4a2a",
   "metadata": {},
   "outputs": [
    {
     "name": "stderr",
     "output_type": "stream",
     "text": [
      "/data/users/Public/driesj/openeo/openeo-python-client/openeo/metadata.py:244: UserWarning: No cube:dimensions metadata\n",
      "  complain(\"No cube:dimensions metadata\")\n"
     ]
    }
   ],
   "source": [
    "evi_exec = connection.datacube_from_process(\"EVI\", date=date, polygon=polygon)\n",
    "evi_exec.download(output_file, format=\"GTIFF\")"
   ]
  },
  {
   "cell_type": "code",
   "execution_count": 22,
   "id": "d36434cd",
   "metadata": {
    "scrolled": true
   },
   "outputs": [
    {
     "data": {
      "image/png": "[encoded data removed]",
      "text/plain": [
       "<Figure size 648x288 with 1 Axes>"
      ]
     },
     "metadata": {
      "needs_background": "light"
     },
     "output_type": "display_data"
    },
    {
     "data": {
      "text/plain": [
       "<matplotlib.axes._subplots.AxesSubplot at 0x7f4efddcfb70>"
      ]
     },
     "execution_count": 22,
     "metadata": {},
     "output_type": "execute_result"
    }
   ],
   "source": [
    "import matplotlib.pyplot as plt\n",
    "import rasterio\n",
    "from rasterio.plot import show,show_hist\n",
    "ds = rasterio.open(output_file)\n",
    "fig = plt.subplots(1,1, figsize=(9, 4))\n",
    "show(ds,cmap=plt.cm.RdYlGn,title='EVI', vmin=-1, vmax=1)"
   ]
  },
  {
   "cell_type": "markdown",
   "id": "41db46a1",
   "metadata": {},
   "source": [
    "## Publishing your service online"
   ]
  },
  {
   "cell_type": "markdown",
   "id": "8846ffca",
   "metadata": {},
   "source": [
    "We now want to also add this service to the marketplace. The documentation for that can be found here:\n",
    "\n",
    "https://docs.terrascope.be/#/Developers/Marketplace/Services?id=create-a-new-service\n",
    "\n",
    "\n",
    "\n",
    "One requirement for publishing, is to know a public url for your service. You'll need to know your username to construct the link:\n",
    "https://docs.terrascope.be/#/Developers/Marketplace/Services?id=create-a-link-to-directly-execute-your-service\n"
   ]
  },
  {
   "cell_type": "code",
   "execution_count": 27,
   "id": "d53a07ee",
   "metadata": {},
   "outputs": [
    {
     "data": {
      "text/plain": [
       "'dfa678cb9ab17f65d4f025e30fac5e0d90116176e44fd17d703419322747cbbd@egi.eu'"
      ]
     },
     "execution_count": 27,
     "metadata": {},
     "output_type": "execute_result"
    }
   ],
   "source": [
    "username = connection.describe_account()['user_id']\n",
    "username"
   ]
  },
  {
   "cell_type": "markdown",
   "id": "1c68dc31",
   "metadata": {},
   "source": [
    "If your UDP registration succeeded, this link should point to it:"
   ]
  },
  {
   "cell_type": "code",
   "execution_count": 29,
   "id": "90dff05e",
   "metadata": {},
   "outputs": [
    {
     "data": {
      "text/plain": [
       "'https://openeo.vito.be/openeo/1.0/processes/u:dfa678cb9ab17f65d4f025e30fac5e0d90116176e44fd17d703419322747cbbd@egi.eu/EVI'"
      ]
     },
     "execution_count": 29,
     "metadata": {},
     "output_type": "execute_result"
    }
   ],
   "source": [
    "udp_url = f\"https://openeo.vito.be/openeo/1.0/processes/u:{username}/{process_name}\"\n",
    "udp_url"
   ]
  },
  {
   "cell_type": "markdown",
   "id": "c8f3463e",
   "metadata": {},
   "source": [
    "Or we can open our service in the openEO web editor, this is convenient for users that want to test without scripting:"
   ]
  },
  {
   "cell_type": "code",
   "execution_count": 34,
   "id": "ebb5bbf8",
   "metadata": {},
   "outputs": [
    {
     "data": {
      "text/plain": [
       "'https://editor.openeo.org/?server=https://openeo.vito.be&namespaces=dfa678cb9ab17f65d4f025e30fac5e0d90116176e44fd17d703419322747cbbd@egi.eu&process=EVI&edit-node=1'"
      ]
     },
     "execution_count": 34,
     "metadata": {},
     "output_type": "execute_result"
    }
   ],
   "source": [
    "editor_url= f\"https://editor.openeo.org/?server=https://openeo.vito.be&namespaces={username}&process={process_name}&edit-node=1\"\n",
    "editor_url"
   ]
  }
 ],
 "metadata": {
  "kernelspec": {
   "display_name": "python36",
   "language": "python",
   "name": "python36"
  },
  "language_info": {
   "codemirror_mode": {
    "name": "ipython",
    "version": 3
   },
   "file_extension": ".py",
   "mimetype": "text/x-python",
   "name": "python",
   "nbconvert_exporter": "python",
   "pygments_lexer": "ipython3",
   "version": "3.6.8"
  }
 },
 "nbformat": 4,
 "nbformat_minor": 5
}
